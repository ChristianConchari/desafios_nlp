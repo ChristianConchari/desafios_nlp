{
 "cells": [
  {
   "cell_type": "markdown",
   "metadata": {},
   "source": [
    "# Desafio 5"
   ]
  },
  {
   "cell_type": "markdown",
   "metadata": {},
   "source": [
    "## Importación de librerías"
   ]
  },
  {
   "cell_type": "code",
   "execution_count": 1,
   "metadata": {},
   "outputs": [
    {
     "name": "stderr",
     "output_type": "stream",
     "text": [
      "2024-10-21 13:51:03.442659: I tensorflow/core/util/port.cc:153] oneDNN custom operations are on. You may see slightly different numerical results due to floating-point round-off errors from different computation orders. To turn them off, set the environment variable `TF_ENABLE_ONEDNN_OPTS=0`.\n",
      "2024-10-21 13:51:03.576988: E external/local_xla/xla/stream_executor/cuda/cuda_fft.cc:485] Unable to register cuFFT factory: Attempting to register factory for plugin cuFFT when one has already been registered\n",
      "2024-10-21 13:51:03.632131: E external/local_xla/xla/stream_executor/cuda/cuda_dnn.cc:8454] Unable to register cuDNN factory: Attempting to register factory for plugin cuDNN when one has already been registered\n",
      "2024-10-21 13:51:03.648697: E external/local_xla/xla/stream_executor/cuda/cuda_blas.cc:1452] Unable to register cuBLAS factory: Attempting to register factory for plugin cuBLAS when one has already been registered\n",
      "2024-10-21 13:51:03.765115: I tensorflow/core/platform/cpu_feature_guard.cc:210] This TensorFlow binary is optimized to use available CPU instructions in performance-critical operations.\n",
      "To enable the following instructions: AVX2 AVX_VNNI FMA, in other operations, rebuild TensorFlow with the appropriate compiler flags.\n",
      "/home/chris/Documents/desafios_nlp/venv/lib/python3.9/site-packages/tqdm/auto.py:21: TqdmWarning: IProgress not found. Please update jupyter and ipywidgets. See https://ipywidgets.readthedocs.io/en/stable/user_install.html\n",
      "  from .autonotebook import tqdm as notebook_tqdm\n"
     ]
    }
   ],
   "source": [
    "import tensorflow as tf\n",
    "import pandas as pd\n",
    "import numpy as np\n",
    "import seaborn as sns\n",
    "from transformers import TFBertModel, BertTokenizer\n",
    "from sklearn.model_selection import train_test_split\n",
    "from sklearn.metrics import confusion_matrix, ConfusionMatrixDisplay\n",
    "from sklearn.utils import resample\n",
    "from utils import *"
   ]
  },
  {
   "cell_type": "code",
   "execution_count": 2,
   "metadata": {},
   "outputs": [
    {
     "name": "stdout",
     "output_type": "stream",
     "text": [
      "Available GPU(s): [PhysicalDevice(name='/physical_device:GPU:0', device_type='GPU')]\n"
     ]
    },
    {
     "name": "stderr",
     "output_type": "stream",
     "text": [
      "WARNING: All log messages before absl::InitializeLog() is called are written to STDERR\n",
      "I0000 00:00:1729533068.168338   54385 cuda_executor.cc:1001] could not open file to read NUMA node: /sys/bus/pci/devices/0000:01:00.0/numa_node\n",
      "Your kernel may have been built without NUMA support.\n",
      "I0000 00:00:1729533068.224216   54385 cuda_executor.cc:1001] could not open file to read NUMA node: /sys/bus/pci/devices/0000:01:00.0/numa_node\n",
      "Your kernel may have been built without NUMA support.\n",
      "I0000 00:00:1729533068.224984   54385 cuda_executor.cc:1001] could not open file to read NUMA node: /sys/bus/pci/devices/0000:01:00.0/numa_node\n",
      "Your kernel may have been built without NUMA support.\n"
     ]
    }
   ],
   "source": [
    "gpus = tf.config.list_physical_devices('GPU')\n",
    "\n",
    "if gpus:\n",
    "    print(f\"Available GPU(s): {gpus}\")\n",
    "else:\n",
    "    print(\"No GPU detected. Using CPU instead.\")"
   ]
  },
  {
   "cell_type": "markdown",
   "metadata": {},
   "source": [
    "## Carga de datos\n",
    "Utilizaremos como dataset críticas de Google Apps en formato csv."
   ]
  },
  {
   "cell_type": "code",
   "execution_count": 3,
   "metadata": {},
   "outputs": [
    {
     "name": "stdout",
     "output_type": "stream",
     "text": [
      "apps.csv already exists. Skipping download.\n",
      "reviews.csv already exists. Skipping download.\n"
     ]
    }
   ],
   "source": [
    "# URLs for the files\n",
    "apps_url = 'https://drive.google.com/u/0/uc?id=1S6qMioqPJjyBLpLVz4gmRTnJHnjitnuV&export=download&confirm=t'\n",
    "reviews_url = 'https://drive.google.com/u/0/uc?id=1zdmewp7ayS4js4VtrJEHzAheSW-5NBZv&export=download&confirm=t'\n",
    "\n",
    "# Filenames for the downloaded files\n",
    "apps_filename = 'apps.csv'\n",
    "reviews_filename = 'reviews.csv'\n",
    "\n",
    "# Download the files\n",
    "download_file(apps_url, apps_filename)\n",
    "download_file(reviews_url, reviews_filename)"
   ]
  },
  {
   "cell_type": "code",
   "execution_count": 4,
   "metadata": {},
   "outputs": [
    {
     "data": {
      "text/html": [
       "<div>\n",
       "<style scoped>\n",
       "    .dataframe tbody tr th:only-of-type {\n",
       "        vertical-align: middle;\n",
       "    }\n",
       "\n",
       "    .dataframe tbody tr th {\n",
       "        vertical-align: top;\n",
       "    }\n",
       "\n",
       "    .dataframe thead th {\n",
       "        text-align: right;\n",
       "    }\n",
       "</style>\n",
       "<table border=\"1\" class=\"dataframe\">\n",
       "  <thead>\n",
       "    <tr style=\"text-align: right;\">\n",
       "      <th></th>\n",
       "      <th>userName</th>\n",
       "      <th>userImage</th>\n",
       "      <th>content</th>\n",
       "      <th>score</th>\n",
       "      <th>thumbsUpCount</th>\n",
       "      <th>reviewCreatedVersion</th>\n",
       "      <th>at</th>\n",
       "      <th>replyContent</th>\n",
       "      <th>repliedAt</th>\n",
       "      <th>sortOrder</th>\n",
       "      <th>appId</th>\n",
       "    </tr>\n",
       "  </thead>\n",
       "  <tbody>\n",
       "    <tr>\n",
       "      <th>0</th>\n",
       "      <td>Andrew Thomas</td>\n",
       "      <td>https://lh3.googleusercontent.com/a-/AOh14GiHd...</td>\n",
       "      <td>Update: After getting a response from the deve...</td>\n",
       "      <td>1</td>\n",
       "      <td>21</td>\n",
       "      <td>4.17.0.3</td>\n",
       "      <td>2020-04-05 22:25:57</td>\n",
       "      <td>According to our TOS, and the term you have ag...</td>\n",
       "      <td>2020-04-05 15:10:24</td>\n",
       "      <td>most_relevant</td>\n",
       "      <td>com.anydo</td>\n",
       "    </tr>\n",
       "    <tr>\n",
       "      <th>1</th>\n",
       "      <td>Craig Haines</td>\n",
       "      <td>https://lh3.googleusercontent.com/-hoe0kwSJgPQ...</td>\n",
       "      <td>Used it for a fair amount of time without any ...</td>\n",
       "      <td>1</td>\n",
       "      <td>11</td>\n",
       "      <td>4.17.0.3</td>\n",
       "      <td>2020-04-04 13:40:01</td>\n",
       "      <td>It sounds like you logged in with a different ...</td>\n",
       "      <td>2020-04-05 15:11:35</td>\n",
       "      <td>most_relevant</td>\n",
       "      <td>com.anydo</td>\n",
       "    </tr>\n",
       "    <tr>\n",
       "      <th>2</th>\n",
       "      <td>steven adkins</td>\n",
       "      <td>https://lh3.googleusercontent.com/a-/AOh14GiXw...</td>\n",
       "      <td>Your app sucks now!!!!! Used to be good but no...</td>\n",
       "      <td>1</td>\n",
       "      <td>17</td>\n",
       "      <td>4.17.0.3</td>\n",
       "      <td>2020-04-01 16:18:13</td>\n",
       "      <td>This sounds odd! We are not aware of any issue...</td>\n",
       "      <td>2020-04-02 16:05:56</td>\n",
       "      <td>most_relevant</td>\n",
       "      <td>com.anydo</td>\n",
       "    </tr>\n",
       "    <tr>\n",
       "      <th>3</th>\n",
       "      <td>Lars Panzerbjørn</td>\n",
       "      <td>https://lh3.googleusercontent.com/a-/AOh14Gg-h...</td>\n",
       "      <td>It seems OK, but very basic. Recurring tasks n...</td>\n",
       "      <td>1</td>\n",
       "      <td>192</td>\n",
       "      <td>4.17.0.2</td>\n",
       "      <td>2020-03-12 08:17:34</td>\n",
       "      <td>We do offer this option as part of the Advance...</td>\n",
       "      <td>2020-03-15 06:20:13</td>\n",
       "      <td>most_relevant</td>\n",
       "      <td>com.anydo</td>\n",
       "    </tr>\n",
       "    <tr>\n",
       "      <th>4</th>\n",
       "      <td>Scott Prewitt</td>\n",
       "      <td>https://lh3.googleusercontent.com/-K-X1-YsVd6U...</td>\n",
       "      <td>Absolutely worthless. This app runs a prohibit...</td>\n",
       "      <td>1</td>\n",
       "      <td>42</td>\n",
       "      <td>4.17.0.2</td>\n",
       "      <td>2020-03-14 17:41:01</td>\n",
       "      <td>We're sorry you feel this way! 90% of the app ...</td>\n",
       "      <td>2020-03-15 23:45:51</td>\n",
       "      <td>most_relevant</td>\n",
       "      <td>com.anydo</td>\n",
       "    </tr>\n",
       "  </tbody>\n",
       "</table>\n",
       "</div>"
      ],
      "text/plain": [
       "           userName                                          userImage  \\\n",
       "0     Andrew Thomas  https://lh3.googleusercontent.com/a-/AOh14GiHd...   \n",
       "1      Craig Haines  https://lh3.googleusercontent.com/-hoe0kwSJgPQ...   \n",
       "2     steven adkins  https://lh3.googleusercontent.com/a-/AOh14GiXw...   \n",
       "3  Lars Panzerbjørn  https://lh3.googleusercontent.com/a-/AOh14Gg-h...   \n",
       "4     Scott Prewitt  https://lh3.googleusercontent.com/-K-X1-YsVd6U...   \n",
       "\n",
       "                                             content  score  thumbsUpCount  \\\n",
       "0  Update: After getting a response from the deve...      1             21   \n",
       "1  Used it for a fair amount of time without any ...      1             11   \n",
       "2  Your app sucks now!!!!! Used to be good but no...      1             17   \n",
       "3  It seems OK, but very basic. Recurring tasks n...      1            192   \n",
       "4  Absolutely worthless. This app runs a prohibit...      1             42   \n",
       "\n",
       "  reviewCreatedVersion                   at  \\\n",
       "0             4.17.0.3  2020-04-05 22:25:57   \n",
       "1             4.17.0.3  2020-04-04 13:40:01   \n",
       "2             4.17.0.3  2020-04-01 16:18:13   \n",
       "3             4.17.0.2  2020-03-12 08:17:34   \n",
       "4             4.17.0.2  2020-03-14 17:41:01   \n",
       "\n",
       "                                        replyContent            repliedAt  \\\n",
       "0  According to our TOS, and the term you have ag...  2020-04-05 15:10:24   \n",
       "1  It sounds like you logged in with a different ...  2020-04-05 15:11:35   \n",
       "2  This sounds odd! We are not aware of any issue...  2020-04-02 16:05:56   \n",
       "3  We do offer this option as part of the Advance...  2020-03-15 06:20:13   \n",
       "4  We're sorry you feel this way! 90% of the app ...  2020-03-15 23:45:51   \n",
       "\n",
       "       sortOrder      appId  \n",
       "0  most_relevant  com.anydo  \n",
       "1  most_relevant  com.anydo  \n",
       "2  most_relevant  com.anydo  \n",
       "3  most_relevant  com.anydo  \n",
       "4  most_relevant  com.anydo  "
      ]
     },
     "execution_count": 4,
     "metadata": {},
     "output_type": "execute_result"
    }
   ],
   "source": [
    "df = pd.read_csv('reviews.csv')\n",
    "df.head()"
   ]
  },
  {
   "cell_type": "code",
   "execution_count": 5,
   "metadata": {},
   "outputs": [
    {
     "name": "stdout",
     "output_type": "stream",
     "text": [
      "Number of reviews before removing duplicates:  15746\n"
     ]
    }
   ],
   "source": [
    "print(\"Number of reviews before removing duplicates: \", df.shape[0])"
   ]
  },
  {
   "cell_type": "code",
   "execution_count": 6,
   "metadata": {},
   "outputs": [
    {
     "name": "stdout",
     "output_type": "stream",
     "text": [
      "Number of reviews after removing duplicates:  10130\n"
     ]
    }
   ],
   "source": [
    "df = df.drop_duplicates(subset='content')\n",
    "print(\"Number of reviews after removing duplicates: \", df.shape[0])"
   ]
  },
  {
   "cell_type": "code",
   "execution_count": 7,
   "metadata": {},
   "outputs": [
    {
     "data": {
      "image/png": "[encoded data removed]",
      "text/plain": [
       "<Figure size 1000x600 with 1 Axes>"
      ]
     },
     "metadata": {},
     "output_type": "display_data"
    }
   ],
   "source": [
    "plt.figure(figsize=(10, 6))\n",
    "sns.countplot(x=df.score, hue=df.score)\n",
    "plt.title('Distribution of Review Scores')\n",
    "plt.xlabel('Review Score')\n",
    "plt.ylabel('Count')\n",
    "plt.show()"
   ]
  },
  {
   "cell_type": "markdown",
   "metadata": {},
   "source": [
    "## Limpieza y preparación de datos"
   ]
  },
  {
   "cell_type": "markdown",
   "metadata": {},
   "source": [
    "Existe un desbalanceo en la variable objetivo, habiendo más críticas en la categoría 3 que en las demás. Para balancear el dataset, la mejor alternativa es dividir las categorías en 3 grupos, de manera que cada grupo tenga una cantidad similar de críticas."
   ]
  },
  {
   "cell_type": "code",
   "execution_count": 8,
   "metadata": {},
   "outputs": [],
   "source": [
    "df['sentiment'] = df.score.apply(lambda x: 0 if x <=2 else 1 if x == 3 else 2)\n",
    "class_names = ['negative', 'neutral', 'positive']"
   ]
  },
  {
   "cell_type": "code",
   "execution_count": 9,
   "metadata": {},
   "outputs": [
    {
     "name": "stdout",
     "output_type": "stream",
     "text": [
      "Cantidad de críticas por categoría: sentiment\n",
      "2    4101\n",
      "0    3209\n",
      "1    2820\n",
      "Name: count, dtype: int64\n"
     ]
    }
   ],
   "source": [
    "print(f'Cantidad de críticas por categoría: {df.sentiment.value_counts()}')"
   ]
  },
  {
   "cell_type": "markdown",
   "metadata": {},
   "source": [
    "Reduciendo el dataset a 3 categorías, se obtiene un poco más balanceado."
   ]
  },
  {
   "cell_type": "code",
   "execution_count": 10,
   "metadata": {},
   "outputs": [
    {
     "data": {
      "image/png": "[encoded data removed]",
      "text/plain": [
       "<Figure size 1000x600 with 1 Axes>"
      ]
     },
     "metadata": {},
     "output_type": "display_data"
    }
   ],
   "source": [
    "plt.figure(figsize=(10, 6))\n",
    "sns.countplot(x=df.sentiment, hue=df.sentiment)\n",
    "plt.title('Distribution of Sentiments')\n",
    "plt.xlabel('Sentiment')\n",
    "plt.ylabel('Count')\n",
    "plt.xticks(ticks=[0, 1, 2], labels=class_names)\n",
    "plt.show()"
   ]
  },
  {
   "cell_type": "markdown",
   "metadata": {},
   "source": [
    "Como todavía existe un desbalanceo, se aplicará downsampling a las categorías positivo y negativo para que tengan la misma cantidad de críticas que la categoría neutral. De esa manera, se obtiene un dataset balanceado."
   ]
  },
  {
   "cell_type": "code",
   "execution_count": 11,
   "metadata": {},
   "outputs": [
    {
     "name": "stdout",
     "output_type": "stream",
     "text": [
      "Cantidad de críticas por categoría después del submuestreo: sentiment\n",
      "2    2820\n",
      "0    2820\n",
      "1    2820\n",
      "Name: count, dtype: int64\n"
     ]
    },
    {
     "data": {
      "image/png": "[encoded data removed]",
      "text/plain": [
       "<Figure size 1000x600 with 1 Axes>"
      ]
     },
     "metadata": {},
     "output_type": "display_data"
    }
   ],
   "source": [
    "df_positive = df[df.sentiment == 2]\n",
    "df_negative = df[df.sentiment == 0]\n",
    "df_neutral = df[df.sentiment == 1]\n",
    "\n",
    "# Downsampling the majority classes\n",
    "df_positive_downsampled = resample(\n",
    "                            df_positive, \n",
    "                            replace=False, \n",
    "                            n_samples=len(df_neutral),\n",
    "                            random_state=42\n",
    "                        )\n",
    "\n",
    "df_negative_downsampled = resample(\n",
    "                            df_negative, \n",
    "                            replace=False,\n",
    "                            n_samples=len(df_neutral),\n",
    "                            random_state=42\n",
    "                        )\n",
    "\n",
    "# Concatenating the downsampled majority classes with the minority class\n",
    "df_balanced = pd.concat([df_positive_downsampled, df_negative_downsampled, df_neutral])\n",
    "print(f'Cantidad de críticas por categoría después del submuestreo: {df_balanced.sentiment.value_counts()}')\n",
    "\n",
    "plt.figure(figsize=(10, 6))\n",
    "sns.countplot(x=df_balanced.sentiment, hue=df_balanced.sentiment)\n",
    "plt.title('Distribution of Sentiments After Undersampling')\n",
    "plt.xlabel('Sentiment')\n",
    "plt.ylabel('Count')\n",
    "plt.xticks(ticks=[0, 1, 2], labels=class_names)\n",
    "plt.show()"
   ]
  },
  {
   "cell_type": "code",
   "execution_count": 12,
   "metadata": {},
   "outputs": [
    {
     "name": "stdout",
     "output_type": "stream",
     "text": [
      "Sentences shape: (8460,)\n",
      "Sentence 1: Good app it helps me be motivated without hesitation nor procastination. Thank you HabitNow!!!! Your love, Aliff\n",
      "Sentence 2: Easy to use for a big family\n",
      "Sentence 3: Great for general use and getting better.\n"
     ]
    }
   ],
   "source": [
    "sentences = df_balanced['content'].values\n",
    "print(\"Sentences shape:\", sentences.shape)\n",
    "\n",
    "# Display the first three sentences\n",
    "for i, sentence in enumerate(sentences[:3], 1):\n",
    "    print(f\"Sentence {i}: {sentence}\")"
   ]
  },
  {
   "cell_type": "markdown",
   "metadata": {},
   "source": [
    "A modo de explorar los datos, también se mostrará una gráfica de barras con la longitud de las críticas."
   ]
  },
  {
   "cell_type": "code",
   "execution_count": 13,
   "metadata": {},
   "outputs": [
    {
     "name": "stdout",
     "output_type": "stream",
     "text": [
      "Average sentence length: 182.84905437352245\n",
      "Max sentence length: 2176\n",
      "Min sentence length: 1\n",
      "Median sentence length: 141.0\n"
     ]
    },
    {
     "data": {
      "text/plain": [
       "<seaborn.axisgrid.FacetGrid at 0x7feb746ad7f0>"
      ]
     },
     "execution_count": 13,
     "metadata": {},
     "output_type": "execute_result"
    },
    {
     "data": {
      "image/png": "[encoded data removed]",
      "text/plain": [
       "<Figure size 500x500 with 1 Axes>"
      ]
     },
     "metadata": {},
     "output_type": "display_data"
    }
   ],
   "source": [
    "sentence_lens = []\n",
    "\n",
    "for sentence in sentences:\n",
    "  sentence_lens.append(len(sentence))\n",
    "\n",
    "print(\"Average sentence length:\", np.mean(sentence_lens))\n",
    "print(\"Max sentence length:\", np.max(sentence_lens))\n",
    "print(\"Min sentence length:\", np.min(sentence_lens))\n",
    "print(\"Median sentence length:\", np.median(sentence_lens))\n",
    "\n",
    "sns.displot(sentence_lens, kde=True)"
   ]
  },
  {
   "cell_type": "markdown",
   "metadata": {},
   "source": [
    "Es necesario convertir la variables objetivo a variables categóricas."
   ]
  },
  {
   "cell_type": "code",
   "execution_count": 14,
   "metadata": {},
   "outputs": [
    {
     "name": "stdout",
     "output_type": "stream",
     "text": [
      "y shape: (8460,)\n",
      "[[0. 0. 1.]\n",
      " [0. 0. 1.]\n",
      " [0. 0. 1.]]\n",
      "output shape: 3\n"
     ]
    }
   ],
   "source": [
    "# Extract the 'sentiment' column from the DataFrame\n",
    "y = df_balanced['sentiment'].values\n",
    "print(f\"y shape: {y.shape}\")\n",
    "\n",
    "# Convert the sentiment labels to one-hot encoded format\n",
    "y = tf.keras.utils.to_categorical(y, num_classes=3)\n",
    "print(y[:3])\n",
    "\n",
    "# Determine the output shape, which is the number of unique sentiment classes\n",
    "output_shape = y.shape[1]\n",
    "print(\"output shape:\", output_shape)"
   ]
  },
  {
   "cell_type": "markdown",
   "metadata": {
    "id": "qvoZ8YlK0vOQ"
   },
   "source": [
    "## Definición del dataset"
   ]
  },
  {
   "cell_type": "markdown",
   "metadata": {},
   "source": [
    "Se utilizará `BertTokenizer` para tokenizar las críticas en la preparación del dataset."
   ]
  },
  {
   "cell_type": "code",
   "execution_count": 15,
   "metadata": {},
   "outputs": [],
   "source": [
    "bert_tokenizer = BertTokenizer.from_pretrained(\"bert-base-uncased\")"
   ]
  },
  {
   "cell_type": "markdown",
   "metadata": {},
   "source": [
    "Se dividirá el dataset en conjuntos de entrenamiento, validación y test."
   ]
  },
  {
   "cell_type": "code",
   "execution_count": 16,
   "metadata": {
    "id": "rYnD8msegnSI"
   },
   "outputs": [],
   "source": [
    "indices = np.arange(len(sentences))\n",
    "\n",
    "idx_train_val, idx_test = train_test_split(indices, test_size=0.15, random_state=42)\n",
    "idx_train, idx_val = train_test_split(idx_train_val, test_size=0.30, random_state=42)"
   ]
  },
  {
   "cell_type": "code",
   "execution_count": 17,
   "metadata": {
    "colab": {
     "base_uri": "https://localhost:8080/"
    },
    "id": "5Hm0jGD-j32e",
    "outputId": "82f903b1-90cd-447b-ffe0-9fa65248bbe6"
   },
   "outputs": [
    {
     "name": "stdout",
     "output_type": "stream",
     "text": [
      "Training set size: 5033\n",
      "Validation set size: 2158\n",
      "Test set size: 1269\n"
     ]
    }
   ],
   "source": [
    "print(f\"Training set size: {idx_train.shape[0]}\")\n",
    "print(f\"Validation set size: {idx_val.shape[0]}\")\n",
    "print(f\"Test set size: {idx_test.shape[0]}\")"
   ]
  },
  {
   "cell_type": "markdown",
   "metadata": {},
   "source": [
    "Se convierten los datos a InputExample y posteriormente TensorFlow Datasets."
   ]
  },
  {
   "cell_type": "code",
   "execution_count": 89,
   "metadata": {
    "colab": {
     "base_uri": "https://localhost:8080/"
    },
    "id": "VXrlV-xPiebq",
    "outputId": "224c55dc-5ddb-4c01-c804-0b4ebe4eb8c4"
   },
   "outputs": [],
   "source": [
    "batch_size = 128\n",
    "max_length = 140\n",
    "\n",
    "train_input_examples, validation_input_examples = convert_data_to_examples(sentences, y, idx_train, idx_val)\n",
    "train_data = convert_examples_to_tf_dataset(list(train_input_examples), bert_tokenizer, output_shape=output_shape, max_length=max_length)\n",
    "\n",
    "train_data = train_data.shuffle(100).batch(batch_size)\n",
    "\n",
    "validation_data = convert_examples_to_tf_dataset(list(validation_input_examples), bert_tokenizer, output_shape=output_shape, max_length=max_length)\n",
    "validation_data = validation_data.batch(batch_size)"
   ]
  },
  {
   "cell_type": "markdown",
   "metadata": {},
   "source": [
    "Se tokeniza el texto y se convierte a `input_ids` y `attention_mask`."
   ]
  },
  {
   "cell_type": "code",
   "execution_count": 90,
   "metadata": {
    "colab": {
     "base_uri": "https://localhost:8080/"
    },
    "id": "aQV1WrdKFJnF",
    "outputId": "eccbd408-606b-4b67-aeba-36d5c42825f4"
   },
   "outputs": [],
   "source": [
    "pred_sentences = [sentences[i] for i in idx_test]\n",
    "tf_batch = bert_tokenizer(pred_sentences, max_length=max_length, padding=True, truncation=True, return_tensors='tf')"
   ]
  },
  {
   "cell_type": "code",
   "execution_count": 91,
   "metadata": {
    "id": "ZUBLlpH0GAVE"
   },
   "outputs": [],
   "source": [
    "X_test = [\n",
    "    tf_batch['input_ids'],  \n",
    "    tf_batch['attention_mask']\n",
    "]\n",
    "\n",
    "y_test = y[idx_test]"
   ]
  },
  {
   "cell_type": "code",
   "execution_count": 92,
   "metadata": {
    "id": "3E-z51xls0lH"
   },
   "outputs": [
    {
     "name": "stdout",
     "output_type": "stream",
     "text": [
      "X_test[0] shape: (1269, 140)\n",
      "y_test shape: (1269, 3)\n"
     ]
    }
   ],
   "source": [
    "print(f\"X_test[0] shape: {X_test[0].shape}\")\n",
    "print(f\"y_test shape: {y_test.shape}\")"
   ]
  },
  {
   "cell_type": "markdown",
   "metadata": {},
   "source": [
    "## Primer modelo: BERT pre-entrenado con pesos congelados"
   ]
  },
  {
   "cell_type": "markdown",
   "metadata": {},
   "source": [
    "Se define el modelo BERT pre-entrenado."
   ]
  },
  {
   "cell_type": "code",
   "execution_count": 93,
   "metadata": {},
   "outputs": [
    {
     "name": "stderr",
     "output_type": "stream",
     "text": [
      "Some weights of the PyTorch model were not used when initializing the TF 2.0 model TFBertModel: ['cls.predictions.transform.LayerNorm.bias', 'cls.predictions.bias', 'cls.seq_relationship.bias', 'cls.predictions.transform.dense.bias', 'cls.predictions.transform.dense.weight', 'cls.predictions.transform.LayerNorm.weight', 'cls.seq_relationship.weight']\n",
      "- This IS expected if you are initializing TFBertModel from a PyTorch model trained on another task or with another architecture (e.g. initializing a TFBertForSequenceClassification model from a BertForPreTraining model).\n",
      "- This IS NOT expected if you are initializing TFBertModel from a PyTorch model that you expect to be exactly identical (e.g. initializing a TFBertForSequenceClassification model from a BertForSequenceClassification model).\n",
      "All the weights of TFBertModel were initialized from the PyTorch model.\n",
      "If your task is similar to the task the model of the checkpoint was trained on, you can already use TFBertModel for predictions without further training.\n"
     ]
    },
    {
     "name": "stdout",
     "output_type": "stream",
     "text": [
      "Model: \"tf_bert_model_5\"\n",
      "_________________________________________________________________\n",
      " Layer (type)                Output Shape              Param #   \n",
      "=================================================================\n",
      " bert (TFBertMainLayer)      multiple                  109482240 \n",
      "                                                                 \n",
      "=================================================================\n",
      "Total params: 109482240 (417.64 MB)\n",
      "Trainable params: 109482240 (417.64 MB)\n",
      "Non-trainable params: 0 (0.00 Byte)\n",
      "_________________________________________________________________\n"
     ]
    }
   ],
   "source": [
    "bert_model = TFBertModel.from_pretrained(\"bert-base-uncased\")\n",
    "bert_model.summary()"
   ]
  },
  {
   "cell_type": "code",
   "execution_count": 94,
   "metadata": {},
   "outputs": [],
   "source": [
    "def build_model_1(bert_model, max_length, output_shape, freeze_bert=True):\n",
    "    \"\"\"\n",
    "    Build a model using the BERT model as the base\n",
    "    \"\"\"   \n",
    "    # Set BERT model as not trainable\n",
    "    bert_model.trainable = not freeze_bert\n",
    "\n",
    "    # Define inputs\n",
    "    input_ids = tf.keras.layers.Input(shape=(max_length,), dtype=tf.int32, name='input_ids')\n",
    "    attention_mask = tf.keras.layers.Input(shape=(max_length,), dtype=tf.int32, name='attention_mask')\n",
    "\n",
    "    # Pass inputs to BERT model\n",
    "    outputs = bert_model(input_ids, attention_mask=attention_mask)\n",
    "\n",
    "    # Extract the pooled output\n",
    "    pooled_output = outputs.pooler_output\n",
    "\n",
    "    # Define the rest of the classification layers with batch normalization\n",
    "    x = tf.keras.layers.Dense(512)(pooled_output)\n",
    "    x = tf.keras.layers.BatchNormalization()(x)\n",
    "    x = tf.keras.layers.Activation('relu')(x)\n",
    "\n",
    "    x = tf.keras.layers.Dense(256)(x)\n",
    "    x = tf.keras.layers.BatchNormalization()(x)\n",
    "    x = tf.keras.layers.Activation('relu')(x)\n",
    "    \n",
    "    x = tf.keras.layers.Dense(128, kernel_regularizer=tf.keras.regularizers.l2(0.001))(x)\n",
    "    x = tf.keras.layers.BatchNormalization()(x)\n",
    "    x = tf.keras.layers.Activation('relu')(x)\n",
    "    x = tf.keras.layers.Dropout(0.2)(x)\n",
    "\n",
    "    x = tf.keras.layers.Dense(32, kernel_regularizer=tf.keras.regularizers.l2(0.001))(x)\n",
    "    x = tf.keras.layers.BatchNormalization()(x)\n",
    "    x = tf.keras.layers.Activation('relu')(x)\n",
    "    x = tf.keras.layers.Dropout(0.2)(x)\n",
    "    \n",
    "    output = tf.keras.layers.Dense(output_shape, activation='softmax')(x)\n",
    "\n",
    "    # Create the model\n",
    "    model = tf.keras.Model(inputs=[input_ids, attention_mask], outputs=output)\n",
    "    \n",
    "    return model"
   ]
  },
  {
   "cell_type": "code",
   "execution_count": 95,
   "metadata": {},
   "outputs": [
    {
     "name": "stdout",
     "output_type": "stream",
     "text": [
      "Model: \"model_4\"\n",
      "__________________________________________________________________________________________________\n",
      " Layer (type)                Output Shape                 Param #   Connected to                  \n",
      "==================================================================================================\n",
      " input_ids (InputLayer)      [(None, 140)]                0         []                            \n",
      "                                                                                                  \n",
      " attention_mask (InputLayer  [(None, 140)]                0         []                            \n",
      " )                                                                                                \n",
      "                                                                                                  \n",
      " tf_bert_model_5 (TFBertMod  TFBaseModelOutputWithPooli   1094822   ['input_ids[0][0]',           \n",
      " el)                         ngAndCrossAttentions(last_   40         'attention_mask[0][0]']      \n",
      "                             hidden_state=(None, 140, 7                                           \n",
      "                             68),                                                                 \n",
      "                              pooler_output=(None, 768)                                           \n",
      "                             , past_key_values=None, hi                                           \n",
      "                             dden_states=None, attentio                                           \n",
      "                             ns=None, cross_attentions=                                           \n",
      "                             None)                                                                \n",
      "                                                                                                  \n",
      " dense_20 (Dense)            (None, 512)                  393728    ['tf_bert_model_5[0][1]']     \n",
      "                                                                                                  \n",
      " batch_normalization_16 (Ba  (None, 512)                  2048      ['dense_20[0][0]']            \n",
      " tchNormalization)                                                                                \n",
      "                                                                                                  \n",
      " activation_16 (Activation)  (None, 512)                  0         ['batch_normalization_16[0][0]\n",
      "                                                                    ']                            \n",
      "                                                                                                  \n",
      " dense_21 (Dense)            (None, 256)                  131328    ['activation_16[0][0]']       \n",
      "                                                                                                  \n",
      " batch_normalization_17 (Ba  (None, 256)                  1024      ['dense_21[0][0]']            \n",
      " tchNormalization)                                                                                \n",
      "                                                                                                  \n",
      " activation_17 (Activation)  (None, 256)                  0         ['batch_normalization_17[0][0]\n",
      "                                                                    ']                            \n",
      "                                                                                                  \n",
      " dense_22 (Dense)            (None, 128)                  32896     ['activation_17[0][0]']       \n",
      "                                                                                                  \n",
      " batch_normalization_18 (Ba  (None, 128)                  512       ['dense_22[0][0]']            \n",
      " tchNormalization)                                                                                \n",
      "                                                                                                  \n",
      " activation_18 (Activation)  (None, 128)                  0         ['batch_normalization_18[0][0]\n",
      "                                                                    ']                            \n",
      "                                                                                                  \n",
      " dropout_230 (Dropout)       (None, 128)                  0         ['activation_18[0][0]']       \n",
      "                                                                                                  \n",
      " dense_23 (Dense)            (None, 32)                   4128      ['dropout_230[0][0]']         \n",
      "                                                                                                  \n",
      " batch_normalization_19 (Ba  (None, 32)                   128       ['dense_23[0][0]']            \n",
      " tchNormalization)                                                                                \n",
      "                                                                                                  \n",
      " activation_19 (Activation)  (None, 32)                   0         ['batch_normalization_19[0][0]\n",
      "                                                                    ']                            \n",
      "                                                                                                  \n",
      " dropout_231 (Dropout)       (None, 32)                   0         ['activation_19[0][0]']       \n",
      "                                                                                                  \n",
      " dense_24 (Dense)            (None, 3)                    99        ['dropout_231[0][0]']         \n",
      "                                                                                                  \n",
      "==================================================================================================\n",
      "Total params: 110048131 (419.80 MB)\n",
      "Trainable params: 564035 (2.15 MB)\n",
      "Non-trainable params: 109484096 (417.65 MB)\n",
      "__________________________________________________________________________________________________\n"
     ]
    }
   ],
   "source": [
    "model_1 = build_model_1(bert_model, max_length, output_shape)\n",
    "\n",
    "# Define the optimizer\n",
    "optimizer = tf.keras.optimizers.Adam(learning_rate=1e-5, weight_decay=0.01)\n",
    "\n",
    "# Compile the model with F1 score\n",
    "model_1.compile(\n",
    "    optimizer=optimizer,\n",
    "    loss='categorical_crossentropy',\n",
    "    metrics=['accuracy',tf.keras.metrics.F1Score(average='macro')]\n",
    ")\n",
    "\n",
    "# Display model summary\n",
    "model_1.summary()"
   ]
  },
  {
   "cell_type": "markdown",
   "metadata": {
    "id": "kNinUuS6nqRJ"
   },
   "source": [
    "### Entrenamiento"
   ]
  },
  {
   "cell_type": "code",
   "execution_count": 96,
   "metadata": {
    "colab": {
     "base_uri": "https://localhost:8080/"
    },
    "id": "aQKTqv20j5kA",
    "outputId": "c513e516-0a71-4920-f17b-8fcc9a449627"
   },
   "outputs": [
    {
     "name": "stdout",
     "output_type": "stream",
     "text": [
      "Epoch 1/100\n",
      "     40/Unknown - 22s 363ms/step - loss: 1.5116 - accuracy: 0.3447 - f1_score: 0.3398"
     ]
    },
    {
     "name": "stderr",
     "output_type": "stream",
     "text": [
      "2024-10-21 12:25:06.767573: I tensorflow/core/framework/local_rendezvous.cc:427] Local rendezvous send item cancelled. Key hash: 12355278565906630782\n",
      "2024-10-21 12:25:06.767625: I tensorflow/core/framework/local_rendezvous.cc:423] Local rendezvous recv item cancelled. Key hash: 9447134531635676544\n",
      "2024-10-21 12:25:06.767638: I tensorflow/core/framework/local_rendezvous.cc:427] Local rendezvous send item cancelled. Key hash: 7969666250672663954\n",
      "2024-10-21 12:25:06.767641: I tensorflow/core/framework/local_rendezvous.cc:427] Local rendezvous send item cancelled. Key hash: 1634815236662332951\n"
     ]
    },
    {
     "name": "stdout",
     "output_type": "stream",
     "text": [
      "40/40 [==============================] - 29s 557ms/step - loss: 1.5116 - accuracy: 0.3447 - f1_score: 0.3398 - val_loss: 1.3243 - val_accuracy: 0.3434 - val_f1_score: 0.2074\n",
      "Epoch 2/100\n"
     ]
    },
    {
     "name": "stderr",
     "output_type": "stream",
     "text": [
      "2024-10-21 12:25:14.138225: I tensorflow/core/framework/local_rendezvous.cc:427] Local rendezvous send item cancelled. Key hash: 4763062740077271382\n",
      "2024-10-21 12:25:14.138280: I tensorflow/core/framework/local_rendezvous.cc:427] Local rendezvous send item cancelled. Key hash: 4666674938090049829\n",
      "2024-10-21 12:25:14.138298: I tensorflow/core/framework/local_rendezvous.cc:423] Local rendezvous recv item cancelled. Key hash: 7817856508107425195\n",
      "2024-10-21 12:25:14.138322: I tensorflow/core/framework/local_rendezvous.cc:423] Local rendezvous recv item cancelled. Key hash: 8875583284082147109\n"
     ]
    },
    {
     "name": "stdout",
     "output_type": "stream",
     "text": [
      "40/40 [==============================] - 20s 504ms/step - loss: 1.4784 - accuracy: 0.3539 - f1_score: 0.3505 - val_loss: 1.3167 - val_accuracy: 0.3767 - val_f1_score: 0.3117\n",
      "Epoch 3/100\n",
      "40/40 [==============================] - 20s 505ms/step - loss: 1.4730 - accuracy: 0.3543 - f1_score: 0.3498 - val_loss: 1.3186 - val_accuracy: 0.3753 - val_f1_score: 0.3236\n",
      "Epoch 4/100\n",
      "40/40 [==============================] - 20s 506ms/step - loss: 1.4544 - accuracy: 0.3626 - f1_score: 0.3576 - val_loss: 1.3230 - val_accuracy: 0.3721 - val_f1_score: 0.3179\n",
      "Epoch 5/100\n",
      "40/40 [==============================] - 20s 505ms/step - loss: 1.4368 - accuracy: 0.3739 - f1_score: 0.3698 - val_loss: 1.3224 - val_accuracy: 0.3693 - val_f1_score: 0.3242\n",
      "Epoch 6/100\n",
      "40/40 [==============================] - 20s 506ms/step - loss: 1.4360 - accuracy: 0.3702 - f1_score: 0.3679 - val_loss: 1.3185 - val_accuracy: 0.3851 - val_f1_score: 0.3574\n",
      "Epoch 7/100\n",
      "40/40 [==============================] - 20s 506ms/step - loss: 1.4171 - accuracy: 0.3811 - f1_score: 0.3782 - val_loss: 1.3088 - val_accuracy: 0.4008 - val_f1_score: 0.3931\n",
      "Epoch 8/100\n",
      "40/40 [==============================] - 20s 502ms/step - loss: 1.4109 - accuracy: 0.3878 - f1_score: 0.3853 - val_loss: 1.3010 - val_accuracy: 0.4110 - val_f1_score: 0.4071\n",
      "Epoch 9/100\n",
      "40/40 [==============================] - 20s 505ms/step - loss: 1.3925 - accuracy: 0.3936 - f1_score: 0.3915 - val_loss: 1.2875 - val_accuracy: 0.4351 - val_f1_score: 0.4360\n",
      "Epoch 10/100\n",
      "40/40 [==============================] - 20s 506ms/step - loss: 1.4034 - accuracy: 0.3902 - f1_score: 0.3894 - val_loss: 1.2756 - val_accuracy: 0.4495 - val_f1_score: 0.4514\n",
      "Epoch 11/100\n",
      "40/40 [==============================] - 20s 505ms/step - loss: 1.3783 - accuracy: 0.3996 - f1_score: 0.3990 - val_loss: 1.2666 - val_accuracy: 0.4592 - val_f1_score: 0.4614\n",
      "Epoch 12/100\n",
      "40/40 [==============================] - 20s 505ms/step - loss: 1.3838 - accuracy: 0.3990 - f1_score: 0.3981 - val_loss: 1.2610 - val_accuracy: 0.4625 - val_f1_score: 0.4643\n",
      "Epoch 13/100\n",
      "40/40 [==============================] - 20s 505ms/step - loss: 1.3691 - accuracy: 0.4059 - f1_score: 0.4050 - val_loss: 1.2540 - val_accuracy: 0.4741 - val_f1_score: 0.4760\n",
      "Epoch 14/100\n",
      "40/40 [==============================] - 20s 504ms/step - loss: 1.3651 - accuracy: 0.4069 - f1_score: 0.4053 - val_loss: 1.2448 - val_accuracy: 0.4815 - val_f1_score: 0.4826\n",
      "Epoch 15/100\n",
      "40/40 [==============================] - 20s 506ms/step - loss: 1.3501 - accuracy: 0.4288 - f1_score: 0.4278 - val_loss: 1.2429 - val_accuracy: 0.4842 - val_f1_score: 0.4852\n",
      "Epoch 16/100\n",
      "40/40 [==============================] - 20s 507ms/step - loss: 1.3409 - accuracy: 0.4266 - f1_score: 0.4258 - val_loss: 1.2425 - val_accuracy: 0.4791 - val_f1_score: 0.4770\n",
      "Epoch 17/100\n",
      "40/40 [==============================] - 20s 506ms/step - loss: 1.3353 - accuracy: 0.4363 - f1_score: 0.4352 - val_loss: 1.2354 - val_accuracy: 0.4842 - val_f1_score: 0.4754\n",
      "Epoch 18/100\n",
      "40/40 [==============================] - 20s 506ms/step - loss: 1.3252 - accuracy: 0.4387 - f1_score: 0.4374 - val_loss: 1.2260 - val_accuracy: 0.4847 - val_f1_score: 0.4805\n",
      "Epoch 19/100\n",
      "40/40 [==============================] - 20s 506ms/step - loss: 1.3207 - accuracy: 0.4465 - f1_score: 0.4460 - val_loss: 1.2197 - val_accuracy: 0.5028 - val_f1_score: 0.4969\n",
      "Epoch 20/100\n",
      "40/40 [==============================] - 20s 504ms/step - loss: 1.3066 - accuracy: 0.4528 - f1_score: 0.4513 - val_loss: 1.2175 - val_accuracy: 0.5097 - val_f1_score: 0.5000\n",
      "Epoch 21/100\n",
      "40/40 [==============================] - 20s 506ms/step - loss: 1.3229 - accuracy: 0.4443 - f1_score: 0.4442 - val_loss: 1.2109 - val_accuracy: 0.5120 - val_f1_score: 0.5047\n",
      "Epoch 22/100\n",
      "40/40 [==============================] - 20s 507ms/step - loss: 1.3012 - accuracy: 0.4570 - f1_score: 0.4558 - val_loss: 1.2040 - val_accuracy: 0.5153 - val_f1_score: 0.5086\n",
      "Epoch 23/100\n",
      "40/40 [==============================] - 20s 506ms/step - loss: 1.2993 - accuracy: 0.4623 - f1_score: 0.4605 - val_loss: 1.1994 - val_accuracy: 0.5134 - val_f1_score: 0.5107\n",
      "Epoch 24/100\n",
      "40/40 [==============================] - 20s 506ms/step - loss: 1.3019 - accuracy: 0.4586 - f1_score: 0.4568 - val_loss: 1.1958 - val_accuracy: 0.5278 - val_f1_score: 0.5263\n",
      "Epoch 25/100\n",
      "40/40 [==============================] - 20s 505ms/step - loss: 1.2892 - accuracy: 0.4663 - f1_score: 0.4655 - val_loss: 1.1892 - val_accuracy: 0.5259 - val_f1_score: 0.5201\n",
      "Epoch 26/100\n",
      "40/40 [==============================] - 20s 503ms/step - loss: 1.2887 - accuracy: 0.4602 - f1_score: 0.4583 - val_loss: 1.1897 - val_accuracy: 0.5287 - val_f1_score: 0.5128\n",
      "Epoch 27/100\n",
      "40/40 [==============================] - 20s 505ms/step - loss: 1.2735 - accuracy: 0.4792 - f1_score: 0.4771 - val_loss: 1.1814 - val_accuracy: 0.5283 - val_f1_score: 0.5174\n",
      "Epoch 28/100\n",
      "40/40 [==============================] - 20s 506ms/step - loss: 1.2761 - accuracy: 0.4697 - f1_score: 0.4678 - val_loss: 1.1817 - val_accuracy: 0.5283 - val_f1_score: 0.5135\n",
      "Epoch 29/100\n",
      "40/40 [==============================] - 20s 505ms/step - loss: 1.2697 - accuracy: 0.4778 - f1_score: 0.4760 - val_loss: 1.1751 - val_accuracy: 0.5394 - val_f1_score: 0.5275\n",
      "Epoch 30/100\n",
      "40/40 [==============================] - 20s 506ms/step - loss: 1.2611 - accuracy: 0.4916 - f1_score: 0.4892 - val_loss: 1.1661 - val_accuracy: 0.5491 - val_f1_score: 0.5402\n",
      "Epoch 31/100\n",
      "40/40 [==============================] - 20s 506ms/step - loss: 1.2668 - accuracy: 0.4840 - f1_score: 0.4822 - val_loss: 1.1675 - val_accuracy: 0.5487 - val_f1_score: 0.5395\n",
      "Epoch 32/100\n",
      "40/40 [==============================] - 20s 504ms/step - loss: 1.2568 - accuracy: 0.4973 - f1_score: 0.4950 - val_loss: 1.1603 - val_accuracy: 0.5426 - val_f1_score: 0.5341\n",
      "Epoch 33/100\n",
      "40/40 [==============================] - 20s 507ms/step - loss: 1.2469 - accuracy: 0.4920 - f1_score: 0.4890 - val_loss: 1.1631 - val_accuracy: 0.5399 - val_f1_score: 0.5262\n",
      "Epoch 34/100\n",
      "40/40 [==============================] - 20s 507ms/step - loss: 1.2466 - accuracy: 0.5003 - f1_score: 0.4979 - val_loss: 1.1598 - val_accuracy: 0.5491 - val_f1_score: 0.5375\n",
      "Epoch 35/100\n",
      "40/40 [==============================] - 20s 506ms/step - loss: 1.2484 - accuracy: 0.4971 - f1_score: 0.4932 - val_loss: 1.1578 - val_accuracy: 0.5375 - val_f1_score: 0.5225\n",
      "Epoch 36/100\n",
      "40/40 [==============================] - 20s 506ms/step - loss: 1.2435 - accuracy: 0.4995 - f1_score: 0.4961 - val_loss: 1.1548 - val_accuracy: 0.5394 - val_f1_score: 0.5232\n",
      "Epoch 37/100\n",
      "40/40 [==============================] - 20s 506ms/step - loss: 1.2369 - accuracy: 0.5057 - f1_score: 0.5022 - val_loss: 1.1525 - val_accuracy: 0.5399 - val_f1_score: 0.5291\n",
      "Epoch 38/100\n",
      "40/40 [==============================] - 20s 504ms/step - loss: 1.2359 - accuracy: 0.5059 - f1_score: 0.5033 - val_loss: 1.1552 - val_accuracy: 0.5454 - val_f1_score: 0.5289\n",
      "Epoch 39/100\n",
      "40/40 [==============================] - 20s 506ms/step - loss: 1.2139 - accuracy: 0.5114 - f1_score: 0.5091 - val_loss: 1.1535 - val_accuracy: 0.5412 - val_f1_score: 0.5253\n",
      "Epoch 40/100\n",
      "40/40 [==============================] - 20s 506ms/step - loss: 1.2304 - accuracy: 0.4955 - f1_score: 0.4926 - val_loss: 1.1505 - val_accuracy: 0.5459 - val_f1_score: 0.5287\n",
      "Epoch 41/100\n",
      "40/40 [==============================] - 20s 506ms/step - loss: 1.1993 - accuracy: 0.5291 - f1_score: 0.5258 - val_loss: 1.1483 - val_accuracy: 0.5454 - val_f1_score: 0.5310\n",
      "Epoch 42/100\n",
      "40/40 [==============================] - 20s 506ms/step - loss: 1.2078 - accuracy: 0.5186 - f1_score: 0.5151 - val_loss: 1.1552 - val_accuracy: 0.5505 - val_f1_score: 0.5323\n",
      "Epoch 43/100\n",
      "40/40 [==============================] - 20s 504ms/step - loss: 1.2169 - accuracy: 0.5180 - f1_score: 0.5151 - val_loss: 1.1471 - val_accuracy: 0.5412 - val_f1_score: 0.5201\n",
      "Epoch 44/100\n",
      "40/40 [==============================] - 20s 502ms/step - loss: 1.2105 - accuracy: 0.5208 - f1_score: 0.5157 - val_loss: 1.1419 - val_accuracy: 0.5426 - val_f1_score: 0.5276\n",
      "Epoch 45/100\n",
      "40/40 [==============================] - 20s 505ms/step - loss: 1.1989 - accuracy: 0.5269 - f1_score: 0.5247 - val_loss: 1.1440 - val_accuracy: 0.5412 - val_f1_score: 0.5251\n",
      "Epoch 46/100\n",
      "40/40 [==============================] - 20s 505ms/step - loss: 1.2030 - accuracy: 0.5239 - f1_score: 0.5202 - val_loss: 1.1452 - val_accuracy: 0.5403 - val_f1_score: 0.5241\n",
      "Epoch 47/100\n",
      "40/40 [==============================] - 20s 505ms/step - loss: 1.1936 - accuracy: 0.5194 - f1_score: 0.5156 - val_loss: 1.1390 - val_accuracy: 0.5468 - val_f1_score: 0.5341\n",
      "Epoch 48/100\n",
      "40/40 [==============================] - 20s 506ms/step - loss: 1.1963 - accuracy: 0.5237 - f1_score: 0.5212 - val_loss: 1.1370 - val_accuracy: 0.5459 - val_f1_score: 0.5332\n",
      "Epoch 49/100\n",
      "40/40 [==============================] - 20s 505ms/step - loss: 1.1750 - accuracy: 0.5386 - f1_score: 0.5346 - val_loss: 1.1328 - val_accuracy: 0.5570 - val_f1_score: 0.5464\n",
      "Epoch 50/100\n",
      "40/40 [==============================] - 20s 504ms/step - loss: 1.1794 - accuracy: 0.5347 - f1_score: 0.5314 - val_loss: 1.1297 - val_accuracy: 0.5547 - val_f1_score: 0.5457\n",
      "Epoch 51/100\n",
      "40/40 [==============================] - 20s 508ms/step - loss: 1.1916 - accuracy: 0.5319 - f1_score: 0.5289 - val_loss: 1.1286 - val_accuracy: 0.5491 - val_f1_score: 0.5384\n",
      "Epoch 52/100\n",
      "40/40 [==============================] - 20s 507ms/step - loss: 1.1731 - accuracy: 0.5377 - f1_score: 0.5340 - val_loss: 1.1314 - val_accuracy: 0.5533 - val_f1_score: 0.5467\n",
      "Epoch 53/100\n",
      "40/40 [==============================] - 20s 506ms/step - loss: 1.1960 - accuracy: 0.5249 - f1_score: 0.5219 - val_loss: 1.1277 - val_accuracy: 0.5547 - val_f1_score: 0.5462\n",
      "Epoch 54/100\n",
      "40/40 [==============================] - 20s 505ms/step - loss: 1.1630 - accuracy: 0.5466 - f1_score: 0.5433 - val_loss: 1.1312 - val_accuracy: 0.5533 - val_f1_score: 0.5364\n",
      "Epoch 55/100\n",
      "40/40 [==============================] - 20s 505ms/step - loss: 1.1884 - accuracy: 0.5271 - f1_score: 0.5241 - val_loss: 1.1328 - val_accuracy: 0.5551 - val_f1_score: 0.5372\n",
      "Epoch 56/100\n",
      "40/40 [==============================] - 20s 503ms/step - loss: 1.1596 - accuracy: 0.5450 - f1_score: 0.5412 - val_loss: 1.1271 - val_accuracy: 0.5575 - val_f1_score: 0.5415\n",
      "Epoch 57/100\n",
      "40/40 [==============================] - 20s 506ms/step - loss: 1.1638 - accuracy: 0.5474 - f1_score: 0.5443 - val_loss: 1.1291 - val_accuracy: 0.5556 - val_f1_score: 0.5376\n",
      "Epoch 58/100\n",
      "40/40 [==============================] - 20s 506ms/step - loss: 1.1842 - accuracy: 0.5305 - f1_score: 0.5261 - val_loss: 1.1214 - val_accuracy: 0.5538 - val_f1_score: 0.5425\n",
      "Epoch 59/100\n",
      "40/40 [==============================] - 20s 505ms/step - loss: 1.1704 - accuracy: 0.5394 - f1_score: 0.5354 - val_loss: 1.1264 - val_accuracy: 0.5468 - val_f1_score: 0.5318\n",
      "Epoch 60/100\n",
      "40/40 [==============================] - 20s 506ms/step - loss: 1.1589 - accuracy: 0.5438 - f1_score: 0.5409 - val_loss: 1.1346 - val_accuracy: 0.5598 - val_f1_score: 0.5349\n",
      "Epoch 61/100\n",
      "40/40 [==============================] - 20s 504ms/step - loss: 1.1658 - accuracy: 0.5418 - f1_score: 0.5389 - val_loss: 1.1267 - val_accuracy: 0.5542 - val_f1_score: 0.5373\n",
      "Epoch 62/100\n",
      "40/40 [==============================] - 20s 502ms/step - loss: 1.1551 - accuracy: 0.5502 - f1_score: 0.5447 - val_loss: 1.1198 - val_accuracy: 0.5626 - val_f1_score: 0.5513\n",
      "Epoch 63/100\n",
      "40/40 [==============================] - 20s 506ms/step - loss: 1.1601 - accuracy: 0.5466 - f1_score: 0.5433 - val_loss: 1.1172 - val_accuracy: 0.5602 - val_f1_score: 0.5493\n",
      "Epoch 64/100\n",
      "40/40 [==============================] - 20s 507ms/step - loss: 1.1525 - accuracy: 0.5480 - f1_score: 0.5452 - val_loss: 1.1146 - val_accuracy: 0.5626 - val_f1_score: 0.5556\n",
      "Epoch 65/100\n",
      "40/40 [==============================] - 20s 506ms/step - loss: 1.1455 - accuracy: 0.5591 - f1_score: 0.5566 - val_loss: 1.1160 - val_accuracy: 0.5695 - val_f1_score: 0.5608\n",
      "Epoch 66/100\n",
      "40/40 [==============================] - 20s 506ms/step - loss: 1.1430 - accuracy: 0.5603 - f1_score: 0.5576 - val_loss: 1.1209 - val_accuracy: 0.5653 - val_f1_score: 0.5500\n",
      "Epoch 67/100\n",
      "40/40 [==============================] - 20s 504ms/step - loss: 1.1500 - accuracy: 0.5551 - f1_score: 0.5520 - val_loss: 1.1169 - val_accuracy: 0.5644 - val_f1_score: 0.5506\n",
      "Epoch 68/100\n",
      "40/40 [==============================] - 20s 504ms/step - loss: 1.1530 - accuracy: 0.5444 - f1_score: 0.5407 - val_loss: 1.1079 - val_accuracy: 0.5695 - val_f1_score: 0.5643\n",
      "Epoch 69/100\n",
      "40/40 [==============================] - 20s 507ms/step - loss: 1.1459 - accuracy: 0.5456 - f1_score: 0.5423 - val_loss: 1.1089 - val_accuracy: 0.5658 - val_f1_score: 0.5559\n",
      "Epoch 70/100\n",
      "40/40 [==============================] - 20s 506ms/step - loss: 1.1394 - accuracy: 0.5504 - f1_score: 0.5474 - val_loss: 1.1095 - val_accuracy: 0.5690 - val_f1_score: 0.5570\n",
      "Epoch 71/100\n",
      "40/40 [==============================] - 20s 507ms/step - loss: 1.1521 - accuracy: 0.5533 - f1_score: 0.5509 - val_loss: 1.1070 - val_accuracy: 0.5732 - val_f1_score: 0.5663\n",
      "Epoch 72/100\n",
      "40/40 [==============================] - 20s 506ms/step - loss: 1.1360 - accuracy: 0.5651 - f1_score: 0.5626 - val_loss: 1.1141 - val_accuracy: 0.5732 - val_f1_score: 0.5578\n",
      "Epoch 73/100\n",
      "40/40 [==============================] - 20s 505ms/step - loss: 1.1400 - accuracy: 0.5553 - f1_score: 0.5527 - val_loss: 1.1108 - val_accuracy: 0.5755 - val_f1_score: 0.5639\n",
      "Epoch 74/100\n",
      "40/40 [==============================] - 20s 506ms/step - loss: 1.1262 - accuracy: 0.5653 - f1_score: 0.5628 - val_loss: 1.1068 - val_accuracy: 0.5755 - val_f1_score: 0.5688\n",
      "Epoch 75/100\n",
      "40/40 [==============================] - 20s 507ms/step - loss: 1.1391 - accuracy: 0.5502 - f1_score: 0.5470 - val_loss: 1.0992 - val_accuracy: 0.5751 - val_f1_score: 0.5734\n",
      "Epoch 76/100\n",
      "40/40 [==============================] - 20s 507ms/step - loss: 1.1314 - accuracy: 0.5611 - f1_score: 0.5586 - val_loss: 1.1050 - val_accuracy: 0.5695 - val_f1_score: 0.5625\n",
      "Epoch 77/100\n",
      "40/40 [==============================] - 20s 506ms/step - loss: 1.1315 - accuracy: 0.5750 - f1_score: 0.5724 - val_loss: 1.1095 - val_accuracy: 0.5737 - val_f1_score: 0.5694\n",
      "Epoch 78/100\n",
      "40/40 [==============================] - 20s 506ms/step - loss: 1.1198 - accuracy: 0.5684 - f1_score: 0.5652 - val_loss: 1.1165 - val_accuracy: 0.5635 - val_f1_score: 0.5574\n",
      "Epoch 79/100\n",
      "40/40 [==============================] - 20s 505ms/step - loss: 1.1296 - accuracy: 0.5714 - f1_score: 0.5679 - val_loss: 1.1022 - val_accuracy: 0.5825 - val_f1_score: 0.5806\n",
      "Epoch 80/100\n",
      "40/40 [==============================] - 20s 504ms/step - loss: 1.1221 - accuracy: 0.5700 - f1_score: 0.5680 - val_loss: 1.1013 - val_accuracy: 0.5677 - val_f1_score: 0.5601\n",
      "Epoch 81/100\n",
      "40/40 [==============================] - 20s 506ms/step - loss: 1.1230 - accuracy: 0.5615 - f1_score: 0.5592 - val_loss: 1.1104 - val_accuracy: 0.5690 - val_f1_score: 0.5532\n",
      "Epoch 82/100\n",
      "40/40 [==============================] - 20s 506ms/step - loss: 1.1207 - accuracy: 0.5585 - f1_score: 0.5566 - val_loss: 1.1046 - val_accuracy: 0.5704 - val_f1_score: 0.5606\n",
      "Epoch 83/100\n",
      "40/40 [==============================] - 20s 506ms/step - loss: 1.1185 - accuracy: 0.5651 - f1_score: 0.5621 - val_loss: 1.0998 - val_accuracy: 0.5746 - val_f1_score: 0.5664\n",
      "Epoch 84/100\n",
      "40/40 [==============================] - 20s 506ms/step - loss: 1.1113 - accuracy: 0.5780 - f1_score: 0.5757 - val_loss: 1.0998 - val_accuracy: 0.5848 - val_f1_score: 0.5769\n",
      "Epoch 85/100\n",
      "40/40 [==============================] - 20s 504ms/step - loss: 1.1214 - accuracy: 0.5758 - f1_score: 0.5739 - val_loss: 1.0981 - val_accuracy: 0.5792 - val_f1_score: 0.5739\n",
      "Epoch 86/100\n",
      "40/40 [==============================] - 20s 506ms/step - loss: 1.1111 - accuracy: 0.5667 - f1_score: 0.5638 - val_loss: 1.1085 - val_accuracy: 0.5728 - val_f1_score: 0.5638\n",
      "Epoch 87/100\n",
      "40/40 [==============================] - 20s 508ms/step - loss: 1.1087 - accuracy: 0.5671 - f1_score: 0.5647 - val_loss: 1.1035 - val_accuracy: 0.5755 - val_f1_score: 0.5645\n",
      "Epoch 88/100\n",
      "40/40 [==============================] - 20s 507ms/step - loss: 1.1108 - accuracy: 0.5720 - f1_score: 0.5689 - val_loss: 1.0976 - val_accuracy: 0.5802 - val_f1_score: 0.5703\n",
      "Epoch 89/100\n",
      "40/40 [==============================] - 20s 506ms/step - loss: 1.1219 - accuracy: 0.5671 - f1_score: 0.5651 - val_loss: 1.0957 - val_accuracy: 0.5820 - val_f1_score: 0.5742\n",
      "Epoch 90/100\n",
      "40/40 [==============================] - 20s 506ms/step - loss: 1.1090 - accuracy: 0.5673 - f1_score: 0.5652 - val_loss: 1.0948 - val_accuracy: 0.5806 - val_f1_score: 0.5772\n",
      "Epoch 91/100\n",
      "40/40 [==============================] - 20s 505ms/step - loss: 1.1069 - accuracy: 0.5796 - f1_score: 0.5777 - val_loss: 1.0987 - val_accuracy: 0.5825 - val_f1_score: 0.5786\n",
      "Epoch 92/100\n",
      "40/40 [==============================] - 20s 506ms/step - loss: 1.1119 - accuracy: 0.5782 - f1_score: 0.5762 - val_loss: 1.0905 - val_accuracy: 0.5871 - val_f1_score: 0.5821\n",
      "Epoch 93/100\n",
      "40/40 [==============================] - 20s 507ms/step - loss: 1.1077 - accuracy: 0.5758 - f1_score: 0.5732 - val_loss: 1.0916 - val_accuracy: 0.5853 - val_f1_score: 0.5828\n",
      "Epoch 94/100\n",
      "40/40 [==============================] - 20s 506ms/step - loss: 1.0984 - accuracy: 0.5810 - f1_score: 0.5785 - val_loss: 1.0961 - val_accuracy: 0.5755 - val_f1_score: 0.5673\n",
      "Epoch 95/100\n",
      "40/40 [==============================] - 20s 507ms/step - loss: 1.0994 - accuracy: 0.5808 - f1_score: 0.5788 - val_loss: 1.1050 - val_accuracy: 0.5718 - val_f1_score: 0.5617\n",
      "Epoch 96/100\n",
      "40/40 [==============================] - 20s 507ms/step - loss: 1.1033 - accuracy: 0.5808 - f1_score: 0.5782 - val_loss: 1.0952 - val_accuracy: 0.5880 - val_f1_score: 0.5808\n",
      "Epoch 97/100\n",
      "40/40 [==============================] - 20s 503ms/step - loss: 1.0965 - accuracy: 0.5806 - f1_score: 0.5794 - val_loss: 1.1017 - val_accuracy: 0.5825 - val_f1_score: 0.5697\n",
      "Epoch 98/100\n",
      "40/40 [==============================] - 20s 505ms/step - loss: 1.1017 - accuracy: 0.5714 - f1_score: 0.5697 - val_loss: 1.0960 - val_accuracy: 0.5825 - val_f1_score: 0.5722\n",
      "Epoch 99/100\n",
      "40/40 [==============================] - 20s 506ms/step - loss: 1.0967 - accuracy: 0.5752 - f1_score: 0.5725 - val_loss: 1.0873 - val_accuracy: 0.5843 - val_f1_score: 0.5773\n",
      "Epoch 100/100\n",
      "40/40 [==============================] - 20s 506ms/step - loss: 1.0998 - accuracy: 0.5845 - f1_score: 0.5826 - val_loss: 1.1009 - val_accuracy: 0.5820 - val_f1_score: 0.5742\n"
     ]
    }
   ],
   "source": [
    "history_1 = model_1.fit(\n",
    "    train_data, \n",
    "    epochs=100, \n",
    "    validation_data=validation_data\n",
    ")"
   ]
  },
  {
   "cell_type": "code",
   "execution_count": 97,
   "metadata": {
    "colab": {
     "base_uri": "https://localhost:8080/",
     "height": 265
    },
    "id": "qj2dAl-tnxY-",
    "outputId": "b7975840-720c-44e6-ba18-736088540703"
   },
   "outputs": [
    {
     "data": {
      "image/png": "[encoded data removed]",
      "text/plain": [
       "<Figure size 1400x500 with 2 Axes>"
      ]
     },
     "metadata": {},
     "output_type": "display_data"
    }
   ],
   "source": [
    "plot_train_metrics(history_1)"
   ]
  },
  {
   "cell_type": "markdown",
   "metadata": {},
   "source": [
    "Se puede ver que el modelo converge al mismo ritmo en el dataset de validación y de entrenamiento durante varias épocas. Sin embargo, llegando a la época 100, el desempeño en los datasets de entrenamiento y validación comienzan a converger, por lo que seguir entrenando el modelo no sería beneficioso y podría llevar a overfitting.\tBajo estas condiciones, se detiene el entrenamiento con un accuracy de 0.58 en el dataset de entrenamiento y validación."
   ]
  },
  {
   "cell_type": "markdown",
   "metadata": {},
   "source": [
    "A continuación se verificará si el desempeño se mantiene con el conjunto de test."
   ]
  },
  {
   "cell_type": "code",
   "execution_count": 98,
   "metadata": {
    "colab": {
     "base_uri": "https://localhost:8080/"
    },
    "id": "HILK90qzn-kL",
    "outputId": "34985136-0e6f-4693-dcc4-c52c5ea77f4a"
   },
   "outputs": [
    {
     "name": "stdout",
     "output_type": "stream",
     "text": [
      "40/40 [==============================] - 5s 81ms/step\n"
     ]
    },
    {
     "data": {
      "text/plain": [
       "array([[0.4035884 , 0.41482186, 0.18158977],\n",
       "       [0.31719202, 0.60806394, 0.07474401],\n",
       "       [0.03433369, 0.10835458, 0.85731167]], dtype=float32)"
      ]
     },
     "execution_count": 98,
     "metadata": {},
     "output_type": "execute_result"
    }
   ],
   "source": [
    "y_hat_prob = model_1.predict(X_test)\n",
    "y_hat_prob[:3]"
   ]
  },
  {
   "cell_type": "code",
   "execution_count": 99,
   "metadata": {},
   "outputs": [],
   "source": [
    "y_hat = np.argmax(y_hat_prob, axis=1)"
   ]
  },
  {
   "cell_type": "code",
   "execution_count": 100,
   "metadata": {
    "colab": {
     "base_uri": "https://localhost:8080/"
    },
    "id": "tSNbyLNYwdqQ",
    "outputId": "a432dc0b-96ae-43af-da62-2a739a20761a"
   },
   "outputs": [
    {
     "name": "stdout",
     "output_type": "stream",
     "text": [
      "40/40 [==============================] - 5s 83ms/step - loss: 1.0831 - accuracy: 0.5816 - f1_score: 0.5749\n",
      "Test loss: 1.0830878019332886\n",
      "Test accuracy: 0.5815602540969849\n",
      "Test F1 Score: 0.5748715996742249\n"
     ]
    }
   ],
   "source": [
    "scores = model_1.evaluate(X_test, y_test)\n",
    "\n",
    "print(f\"Test loss: {scores[0]}\")\n",
    "print(f\"Test accuracy: {scores[1]}\")\n",
    "print(f\"Test F1 Score: {scores[2]}\")"
   ]
  },
  {
   "cell_type": "markdown",
   "metadata": {},
   "source": [
    "Las métricas obtenidas para el conjunto de test son consistentes con las obtenidas en el conjunto de validación."
   ]
  },
  {
   "cell_type": "code",
   "execution_count": 101,
   "metadata": {
    "colab": {
     "base_uri": "https://localhost:8080/",
     "height": 279
    },
    "id": "mGzdpPfcwlRL",
    "outputId": "4eaa89a1-c601-4a3b-cb0c-6e1cb940d8b5"
   },
   "outputs": [
    {
     "data": {
      "image/png": "[encoded data removed]",
      "text/plain": [
       "<Figure size 640x480 with 2 Axes>"
      ]
     },
     "metadata": {},
     "output_type": "display_data"
    }
   ],
   "source": [
    "cm = confusion_matrix(y_test.argmax(axis=1), y_hat)\n",
    "cmd = ConfusionMatrixDisplay(cm, display_labels=class_names)\n",
    "cmd.plot(cmap=plt.cm.Blues)\n",
    "plt.show()"
   ]
  },
  {
   "cell_type": "markdown",
   "metadata": {},
   "source": [
    "La matriz de confusión muestra que el modelo clasifica correctamente una cantidad significativa de instancias negativas y positivas, pero tiene dificultades con la clase neutral, ya que una gran parte de estas se clasifican incorrectamente como negativas o positivas."
   ]
  },
  {
   "cell_type": "code",
   "execution_count": 102,
   "metadata": {},
   "outputs": [],
   "source": [
    "model_1.save_weights('bert_model_1_weights.h5')"
   ]
  },
  {
   "cell_type": "code",
   "execution_count": 103,
   "metadata": {},
   "outputs": [
    {
     "name": "stderr",
     "output_type": "stream",
     "text": [
      "Some weights of the PyTorch model were not used when initializing the TF 2.0 model TFBertModel: ['cls.predictions.transform.LayerNorm.bias', 'cls.predictions.bias', 'cls.seq_relationship.bias', 'cls.predictions.transform.dense.bias', 'cls.predictions.transform.dense.weight', 'cls.predictions.transform.LayerNorm.weight', 'cls.seq_relationship.weight']\n",
      "- This IS expected if you are initializing TFBertModel from a PyTorch model trained on another task or with another architecture (e.g. initializing a TFBertForSequenceClassification model from a BertForPreTraining model).\n",
      "- This IS NOT expected if you are initializing TFBertModel from a PyTorch model that you expect to be exactly identical (e.g. initializing a TFBertForSequenceClassification model from a BertForSequenceClassification model).\n",
      "All the weights of TFBertModel were initialized from the PyTorch model.\n",
      "If your task is similar to the task the model of the checkpoint was trained on, you can already use TFBertModel for predictions without further training.\n"
     ]
    }
   ],
   "source": [
    "# Load the bert model\n",
    "bert_model = TFBertModel.from_pretrained(\"bert-base-uncased\")\n",
    "# Build the model\n",
    "model_1_loaded = build_model_1(bert_model, max_length, output_shape)\n",
    "# Load the weights\n",
    "model_1_loaded.load_weights('bert_model_1_weights.h5')"
   ]
  },
  {
   "cell_type": "code",
   "execution_count": 104,
   "metadata": {},
   "outputs": [
    {
     "name": "stdout",
     "output_type": "stream",
     "text": [
      "Inputs ids: tf.Tensor(\n",
      "[[  101  1045  2293  2023 10439   999   102     0     0     0     0     0\n",
      "      0     0     0     0     0     0     0     0     0     0     0     0\n",
      "      0     0     0     0     0     0     0     0     0     0     0     0\n",
      "      0     0     0     0     0     0     0     0     0     0     0     0\n",
      "      0     0     0     0     0     0     0     0     0     0     0     0\n",
      "      0     0     0     0     0     0     0     0     0     0     0     0\n",
      "      0     0     0     0     0     0     0     0     0     0     0     0\n",
      "      0     0     0     0     0     0     0     0     0     0     0     0\n",
      "      0     0     0     0     0     0     0     0     0     0     0     0\n",
      "      0     0     0     0     0     0     0     0     0     0     0     0\n",
      "      0     0     0     0     0     0     0     0     0     0     0     0\n",
      "      0     0     0     0     0     0     0     0]], shape=(1, 140), dtype=int32)\n",
      "Attention mask: tf.Tensor(\n",
      "[[1 1 1 1 1 1 1 0 0 0 0 0 0 0 0 0 0 0 0 0 0 0 0 0 0 0 0 0 0 0 0 0 0 0 0 0\n",
      "  0 0 0 0 0 0 0 0 0 0 0 0 0 0 0 0 0 0 0 0 0 0 0 0 0 0 0 0 0 0 0 0 0 0 0 0\n",
      "  0 0 0 0 0 0 0 0 0 0 0 0 0 0 0 0 0 0 0 0 0 0 0 0 0 0 0 0 0 0 0 0 0 0 0 0\n",
      "  0 0 0 0 0 0 0 0 0 0 0 0 0 0 0 0 0 0 0 0 0 0 0 0 0 0 0 0 0 0 0 0]], shape=(1, 140), dtype=int32)\n"
     ]
    }
   ],
   "source": [
    "text = \"I love this app!\"\n",
    "\n",
    "# Tokenize the text\n",
    "tf_batch = bert_tokenizer.encode_plus(\n",
    "    text,\n",
    "    add_special_tokens=True,\n",
    "    max_length=max_length, \n",
    "    return_token_type_ids=False,\n",
    "    return_attention_mask=True,\n",
    "    padding='max_length',\n",
    "    truncation=True,\n",
    "    return_tensors='tf'\n",
    ")\n",
    "\n",
    "print(\"Inputs ids:\", tf_batch['input_ids'])\n",
    "print(\"Attention mask:\", tf_batch['attention_mask'])\n",
    "\n",
    "X_test = [\n",
    "    tf_batch['input_ids'],  \n",
    "    tf_batch['attention_mask']\n",
    "]"
   ]
  },
  {
   "cell_type": "code",
   "execution_count": 106,
   "metadata": {},
   "outputs": [
    {
     "name": "stdout",
     "output_type": "stream",
     "text": [
      "1/1 [==============================] - 1s 1s/step\n",
      "Clasificación: positive\n"
     ]
    }
   ],
   "source": [
    "y_prob_ensayo = model_1_loaded.predict(X_test)\n",
    "y_prob = np.argmax(y_prob_ensayo, axis=1)\n",
    "print(\"Clasificación:\", class_names[int(y_prob)])"
   ]
  },
  {
   "cell_type": "code",
   "execution_count": 107,
   "metadata": {},
   "outputs": [
    {
     "name": "stdout",
     "output_type": "stream",
     "text": [
      "1/1 [==============================] - 0s 110ms/step\n",
      "Clasificación: negative\n"
     ]
    }
   ],
   "source": [
    "text = \"I hate this product, it is terrible!\"\n",
    "\n",
    "# Tokenize the text\n",
    "tf_batch = bert_tokenizer.encode_plus(\n",
    "    text,\n",
    "    add_special_tokens=True,\n",
    "    max_length=max_length, \n",
    "    return_token_type_ids=False,\n",
    "    return_attention_mask=True,\n",
    "    padding='max_length',\n",
    "    truncation=True,\n",
    "    return_tensors='tf'\n",
    ")\n",
    "\n",
    "X_test = [\n",
    "    tf_batch['input_ids'],  \n",
    "    tf_batch['attention_mask']\n",
    "]\n",
    "\n",
    "y_prob_test = model_1_loaded.predict(X_test)\n",
    "y_prob = np.argmax(y_prob_test, axis=1)\n",
    "print(\"Clasificación:\", class_names[int(y_prob)])"
   ]
  },
  {
   "cell_type": "code",
   "execution_count": 108,
   "metadata": {},
   "outputs": [
    {
     "name": "stdout",
     "output_type": "stream",
     "text": [
      "1/1 [==============================] - 0s 110ms/step\n",
      "Clasificación: neutral\n"
     ]
    }
   ],
   "source": [
    "text = \"The app is okay, nothing special. It works as expected but doesn't stand out in any way.\"\n",
    "\n",
    "# Tokenize the text\n",
    "tf_batch = bert_tokenizer.encode_plus(\n",
    "    text,\n",
    "    add_special_tokens=True,\n",
    "    max_length=max_length, \n",
    "    return_token_type_ids=False,\n",
    "    return_attention_mask=True,\n",
    "    padding='max_length',\n",
    "    truncation=True,\n",
    "    return_tensors='tf'\n",
    ")\n",
    "\n",
    "X_test = [\n",
    "    tf_batch['input_ids'],  \n",
    "    tf_batch['attention_mask']\n",
    "]\n",
    "\n",
    "y_prob_test = model_1_loaded.predict(X_test)\n",
    "y_prob = np.argmax(y_prob_test, axis=1)\n",
    "print(\"Clasificación:\", class_names[int(y_prob)])"
   ]
  },
  {
   "cell_type": "markdown",
   "metadata": {},
   "source": [
    "Pese a que las métricas alcanzadas no son las mejores. Como se puede ver en las pruebas realizadas, el modelo con los pesos cargados realiza clasificaciones correctas."
   ]
  },
  {
   "cell_type": "markdown",
   "metadata": {
    "id": "0ugxcD9s9o8l"
   },
   "source": [
    "## Segundo modelo: BERT Fine tuning"
   ]
  },
  {
   "cell_type": "markdown",
   "metadata": {},
   "source": [
    "Para evitar problemas con la memoria de la GPU, se utilizará un tamaño de batch más pequeño para el fine tuning, también una longitud máxima de 120 por el mismo motivo."
   ]
  },
  {
   "cell_type": "code",
   "execution_count": 26,
   "metadata": {},
   "outputs": [],
   "source": [
    "batch_size = 16\n",
    "max_length = 120\n",
    "\n",
    "train_input_examples, validation_input_examples = convert_data_to_examples(sentences, y, idx_train, idx_val)\n",
    "train_data = convert_examples_to_tf_dataset(list(train_input_examples), bert_tokenizer, output_shape=output_shape, max_length=max_length)\n",
    "\n",
    "train_data = train_data.shuffle(100).batch(batch_size)\n",
    "\n",
    "validation_data = convert_examples_to_tf_dataset(list(validation_input_examples), bert_tokenizer, output_shape=output_shape, max_length=max_length)\n",
    "validation_data = validation_data.batch(batch_size)"
   ]
  },
  {
   "cell_type": "markdown",
   "metadata": {},
   "source": [
    "El resto del procesamiento es similar al anterior."
   ]
  },
  {
   "cell_type": "code",
   "execution_count": 27,
   "metadata": {},
   "outputs": [],
   "source": [
    "pred_sentences = [sentences[i] for i in idx_test]\n",
    "tf_batch = bert_tokenizer(pred_sentences, max_length=max_length, padding=True, truncation=True, return_tensors='tf')"
   ]
  },
  {
   "cell_type": "code",
   "execution_count": 28,
   "metadata": {},
   "outputs": [],
   "source": [
    "X_test = [\n",
    "    tf_batch['input_ids'],  \n",
    "    tf_batch['attention_mask']\n",
    "]\n",
    "\n",
    "y_test = y[idx_test]"
   ]
  },
  {
   "cell_type": "code",
   "execution_count": 29,
   "metadata": {},
   "outputs": [
    {
     "name": "stdout",
     "output_type": "stream",
     "text": [
      "X_test[0] shape: (1269, 120)\n",
      "y_test shape: (1269, 3)\n"
     ]
    }
   ],
   "source": [
    "print(f\"X_test[0] shape: {X_test[0].shape}\")\n",
    "print(f\"y_test shape: {y_test.shape}\")"
   ]
  },
  {
   "cell_type": "markdown",
   "metadata": {},
   "source": [
    "Definiendo el modelo BERT pre-entrenado con pesos no congelados para realizar fine tuning. "
   ]
  },
  {
   "cell_type": "code",
   "execution_count": 30,
   "metadata": {},
   "outputs": [],
   "source": [
    "def build_model_2(bert_model, max_length, output_shape, freeze_bert=False):\n",
    "    \"\"\"\n",
    "    Build a model using the BERT model as the base\n",
    "    \"\"\"   \n",
    "    # Set BERT model trainable or not\n",
    "    bert_model.trainable = not freeze_bert\n",
    "\n",
    "    # Define inputs\n",
    "    input_ids = tf.keras.layers.Input(shape=(max_length,), dtype=tf.int32, name='input_ids')\n",
    "    attention_mask = tf.keras.layers.Input(shape=(max_length,), dtype=tf.int32, name='attention_mask')\n",
    "\n",
    "    # Pass inputs to BERT model\n",
    "    outputs = bert_model(input_ids, attention_mask=attention_mask)\n",
    "\n",
    "    # Extract the pooled output\n",
    "    pooled_output = outputs.pooler_output\n",
    "\n",
    "    # Define the rest of the classification layers with batch normalization\n",
    "    x = tf.keras.layers.Dropout(0.5)(pooled_output)\n",
    "    x = tf.keras.layers.Dense(32, kernel_regularizer=tf.keras.regularizers.l2(0.001), bias_regularizer=tf.keras.regularizers.l2(0.001))(x)\n",
    "    x = tf.keras.layers.Activation('relu')(x)\n",
    "    x = tf.keras.layers.Dropout(0.5)(x)\n",
    "    \n",
    "    output = tf.keras.layers.Dense(\n",
    "        output_shape, \n",
    "        activation='softmax', \n",
    "        kernel_regularizer=tf.keras.regularizers.l2(0.001), \n",
    "        bias_regularizer=tf.keras.regularizers.l2(0.001)\n",
    "    )(x)\n",
    "\n",
    "    # Create the model\n",
    "    model = tf.keras.Model(inputs=[input_ids, attention_mask], outputs=output)\n",
    "    \n",
    "    return model"
   ]
  },
  {
   "cell_type": "code",
   "execution_count": 35,
   "metadata": {
    "colab": {
     "base_uri": "https://localhost:8080/"
    },
    "id": "5SyRhGOAsTM5",
    "outputId": "edd930c3-f817-4e43-9f1e-9ed932239d1e"
   },
   "outputs": [
    {
     "name": "stderr",
     "output_type": "stream",
     "text": [
      "Some weights of the PyTorch model were not used when initializing the TF 2.0 model TFBertModel: ['cls.predictions.transform.LayerNorm.bias', 'cls.predictions.transform.LayerNorm.weight', 'cls.predictions.transform.dense.weight', 'cls.seq_relationship.weight', 'cls.seq_relationship.bias', 'cls.predictions.bias', 'cls.predictions.transform.dense.bias']\n",
      "- This IS expected if you are initializing TFBertModel from a PyTorch model trained on another task or with another architecture (e.g. initializing a TFBertForSequenceClassification model from a BertForPreTraining model).\n",
      "- This IS NOT expected if you are initializing TFBertModel from a PyTorch model that you expect to be exactly identical (e.g. initializing a TFBertForSequenceClassification model from a BertForSequenceClassification model).\n",
      "All the weights of TFBertModel were initialized from the PyTorch model.\n",
      "If your task is similar to the task the model of the checkpoint was trained on, you can already use TFBertModel for predictions without further training.\n"
     ]
    },
    {
     "name": "stdout",
     "output_type": "stream",
     "text": [
      "Model: \"model_3\"\n",
      "__________________________________________________________________________________________________\n",
      " Layer (type)                Output Shape                 Param #   Connected to                  \n",
      "==================================================================================================\n",
      " input_ids (InputLayer)      [(None, 120)]                0         []                            \n",
      "                                                                                                  \n",
      " attention_mask (InputLayer  [(None, 120)]                0         []                            \n",
      " )                                                                                                \n",
      "                                                                                                  \n",
      " tf_bert_model_3 (TFBertMod  TFBaseModelOutputWithPooli   1094822   ['input_ids[0][0]',           \n",
      " el)                         ngAndCrossAttentions(last_   40         'attention_mask[0][0]']      \n",
      "                             hidden_state=(None, 120, 7                                           \n",
      "                             68),                                                                 \n",
      "                              pooler_output=(None, 768)                                           \n",
      "                             , past_key_values=None, hi                                           \n",
      "                             dden_states=None, attentio                                           \n",
      "                             ns=None, cross_attentions=                                           \n",
      "                             None)                                                                \n",
      "                                                                                                  \n",
      " dropout_154 (Dropout)       (None, 768)                  0         ['tf_bert_model_3[0][1]']     \n",
      "                                                                                                  \n",
      " dense_6 (Dense)             (None, 32)                   24608     ['dropout_154[0][0]']         \n",
      "                                                                                                  \n",
      " activation_3 (Activation)   (None, 32)                   0         ['dense_6[0][0]']             \n",
      "                                                                                                  \n",
      " dropout_155 (Dropout)       (None, 32)                   0         ['activation_3[0][0]']        \n",
      "                                                                                                  \n",
      " dense_7 (Dense)             (None, 3)                    99        ['dropout_155[0][0]']         \n",
      "                                                                                                  \n",
      "==================================================================================================\n",
      "Total params: 109506947 (417.74 MB)\n",
      "Trainable params: 109506947 (417.74 MB)\n",
      "Non-trainable params: 0 (0.00 Byte)\n",
      "__________________________________________________________________________________________________\n"
     ]
    }
   ],
   "source": [
    "# Load the pre-trained BERT model\n",
    "bert_model = TFBertModel.from_pretrained(\"bert-base-uncased\")\n",
    "\n",
    "# Build the model without freezing the BERT model\n",
    "model_2 = build_model_2(bert_model, max_length, output_shape, freeze_bert=False)\n",
    "\n",
    "for layer in model_2.layers:\n",
    "  layer.trainable = True\n",
    "\n",
    "# Define the optimizer with weight decay \n",
    "optimizer = tf.keras.optimizers.Adam(learning_rate=1e-5, weight_decay=0.001)\n",
    "\n",
    "# Compile the model\n",
    "model_2.compile(\n",
    "    optimizer=optimizer,\n",
    "    loss='categorical_crossentropy',\n",
    "    metrics=['accuracy'],\n",
    ")\n",
    "\n",
    "model_2.summary()"
   ]
  },
  {
   "cell_type": "code",
   "execution_count": 36,
   "metadata": {
    "colab": {
     "base_uri": "https://localhost:8080/"
    },
    "id": "-TDb4gKKtW1r",
    "outputId": "132c1ab7-3fb7-4cbd-b1cc-d75fbd5015bf"
   },
   "outputs": [
    {
     "name": "stdout",
     "output_type": "stream",
     "text": [
      "Epoch 1/5\n",
      "    315/Unknown - 57s 121ms/step - loss: 1.1456 - accuracy: 0.4321"
     ]
    },
    {
     "name": "stderr",
     "output_type": "stream",
     "text": [
      "2024-10-21 14:02:40.885887: I tensorflow/core/framework/local_rendezvous.cc:427] Local rendezvous send item cancelled. Key hash: 691377383324475622\n",
      "2024-10-21 14:02:40.885929: I tensorflow/core/framework/local_rendezvous.cc:427] Local rendezvous send item cancelled. Key hash: 6176623019721198426\n",
      "2024-10-21 14:02:40.885933: I tensorflow/core/framework/local_rendezvous.cc:427] Local rendezvous send item cancelled. Key hash: 5384226914516588739\n",
      "2024-10-21 14:02:40.885935: I tensorflow/core/framework/local_rendezvous.cc:427] Local rendezvous send item cancelled. Key hash: 8822516212797148809\n"
     ]
    },
    {
     "name": "stdout",
     "output_type": "stream",
     "text": [
      "315/315 [==============================] - 65s 146ms/step - loss: 1.1456 - accuracy: 0.4321 - val_loss: 0.8810 - val_accuracy: 0.6019\n",
      "Epoch 2/5\n"
     ]
    },
    {
     "name": "stderr",
     "output_type": "stream",
     "text": [
      "2024-10-21 14:02:48.621922: I tensorflow/core/framework/local_rendezvous.cc:427] Local rendezvous send item cancelled. Key hash: 12959133589009129970\n",
      "2024-10-21 14:02:48.621965: I tensorflow/core/framework/local_rendezvous.cc:427] Local rendezvous send item cancelled. Key hash: 9757000399338805946\n",
      "2024-10-21 14:02:48.621968: I tensorflow/core/framework/local_rendezvous.cc:427] Local rendezvous send item cancelled. Key hash: 10453760213437762518\n",
      "2024-10-21 14:02:48.621971: I tensorflow/core/framework/local_rendezvous.cc:427] Local rendezvous send item cancelled. Key hash: 2001887982410883101\n"
     ]
    },
    {
     "name": "stdout",
     "output_type": "stream",
     "text": [
      "315/315 [==============================] - 42s 134ms/step - loss: 0.9116 - accuracy: 0.5931 - val_loss: 0.8242 - val_accuracy: 0.6529\n",
      "Epoch 3/5\n",
      "315/315 [==============================] - 41s 131ms/step - loss: 0.7980 - accuracy: 0.6807 - val_loss: 0.8518 - val_accuracy: 0.6409\n",
      "Epoch 4/5\n",
      "315/315 [==============================] - 41s 130ms/step - loss: 0.7175 - accuracy: 0.7171 - val_loss: 0.8143 - val_accuracy: 0.6617\n",
      "Epoch 5/5\n",
      "315/315 [==============================] - 41s 129ms/step - loss: 0.6199 - accuracy: 0.7806 - val_loss: 0.8508 - val_accuracy: 0.6538\n"
     ]
    }
   ],
   "source": [
    "history_2 = model_2.fit(\n",
    "    train_data, \n",
    "    epochs=5,\n",
    "    validation_data=validation_data,\n",
    ")"
   ]
  },
  {
   "cell_type": "code",
   "execution_count": 37,
   "metadata": {},
   "outputs": [
    {
     "data": {
      "image/png": "[encoded data removed]",
      "text/plain": [
       "<Figure size 1400x500 with 2 Axes>"
      ]
     },
     "metadata": {},
     "output_type": "display_data"
    }
   ],
   "source": [
    "plot_train_metrics(history_2)"
   ]
  },
  {
   "cell_type": "markdown",
   "metadata": {},
   "source": [
    "Se puede ver que el modelo no logra mucha mejoría en el dataset de validación, pese a las técnicas de regularización aplicadas. Se detiene el entrenamiento con un accuracy de 0.78 en el dataset de entrenamiento y 0.65 en el dataset de validación."
   ]
  },
  {
   "cell_type": "markdown",
   "metadata": {},
   "source": [
    "A continuación se verificará si el desempeño se mantiene con el conjunto de test."
   ]
  },
  {
   "cell_type": "code",
   "execution_count": 38,
   "metadata": {},
   "outputs": [
    {
     "name": "stdout",
     "output_type": "stream",
     "text": [
      "40/40 [==============================] - 4s 67ms/step\n"
     ]
    },
    {
     "data": {
      "text/plain": [
       "array([[0.32177332, 0.6334905 , 0.0447362 ],\n",
       "       [0.12842213, 0.6148292 , 0.25674874],\n",
       "       [0.00351803, 0.01001068, 0.98647124]], dtype=float32)"
      ]
     },
     "execution_count": 38,
     "metadata": {},
     "output_type": "execute_result"
    }
   ],
   "source": [
    "y_hat_prob = model_2.predict(X_test)\n",
    "y_hat_prob[:3]"
   ]
  },
  {
   "cell_type": "code",
   "execution_count": 39,
   "metadata": {},
   "outputs": [],
   "source": [
    "y_hat = np.argmax(y_hat_prob, axis=1)"
   ]
  },
  {
   "cell_type": "code",
   "execution_count": 40,
   "metadata": {},
   "outputs": [
    {
     "name": "stdout",
     "output_type": "stream",
     "text": [
      "40/40 [==============================] - 4s 70ms/step - loss: 0.8309 - accuracy: 0.6864\n",
      "Test loss: 0.8308578729629517\n",
      "Test accuracy: 0.6863672137260437\n"
     ]
    }
   ],
   "source": [
    "scores = model_2.evaluate(X_test, y_test)\n",
    "\n",
    "print(f\"Test loss: {scores[0]}\")\n",
    "print(f\"Test accuracy: {scores[1]}\")"
   ]
  },
  {
   "cell_type": "markdown",
   "metadata": {},
   "source": [
    "Las métricas obtenidas para el conjunto de test son consistentes con las obtenidas en el conjunto de validación. Nótense que existe una leve mejora respecto al primer modelo."
   ]
  },
  {
   "cell_type": "code",
   "execution_count": 41,
   "metadata": {},
   "outputs": [
    {
     "data": {
      "image/png": "[encoded data removed]",
      "text/plain": [
       "<Figure size 640x480 with 2 Axes>"
      ]
     },
     "metadata": {},
     "output_type": "display_data"
    }
   ],
   "source": [
    "cm = confusion_matrix(y_test.argmax(axis=1), y_hat)\n",
    "cmd = ConfusionMatrixDisplay(cm, display_labels=class_names)\n",
    "cmd.plot(cmap=plt.cm.Blues)\n",
    "plt.show()"
   ]
  },
  {
   "cell_type": "markdown",
   "metadata": {},
   "source": [
    "La matriz de confusión muestra que el modelo ha mejorado en la clasificación de la clase neutral, pero ha empeorado en la clasificación de las clases negativas y positivas."
   ]
  },
  {
   "cell_type": "code",
   "execution_count": 42,
   "metadata": {},
   "outputs": [],
   "source": [
    "model_2.save_weights('bert_model_2_weights.h5')"
   ]
  },
  {
   "cell_type": "code",
   "execution_count": 43,
   "metadata": {},
   "outputs": [
    {
     "name": "stderr",
     "output_type": "stream",
     "text": [
      "Some weights of the PyTorch model were not used when initializing the TF 2.0 model TFBertModel: ['cls.predictions.transform.LayerNorm.bias', 'cls.predictions.transform.LayerNorm.weight', 'cls.predictions.transform.dense.weight', 'cls.seq_relationship.weight', 'cls.seq_relationship.bias', 'cls.predictions.bias', 'cls.predictions.transform.dense.bias']\n",
      "- This IS expected if you are initializing TFBertModel from a PyTorch model trained on another task or with another architecture (e.g. initializing a TFBertForSequenceClassification model from a BertForPreTraining model).\n",
      "- This IS NOT expected if you are initializing TFBertModel from a PyTorch model that you expect to be exactly identical (e.g. initializing a TFBertForSequenceClassification model from a BertForSequenceClassification model).\n",
      "All the weights of TFBertModel were initialized from the PyTorch model.\n",
      "If your task is similar to the task the model of the checkpoint was trained on, you can already use TFBertModel for predictions without further training.\n"
     ]
    }
   ],
   "source": [
    "# Load the bert model\n",
    "bert_model = TFBertModel.from_pretrained(\"bert-base-uncased\")\n",
    "# Build the model\n",
    "model_2_loaded = build_model_2(bert_model, max_length, output_shape, freeze_bert=False)\n",
    "# Load the weights\n",
    "model_2_loaded.load_weights('bert_model_2_weights.h5')"
   ]
  },
  {
   "cell_type": "code",
   "execution_count": 44,
   "metadata": {},
   "outputs": [
    {
     "name": "stdout",
     "output_type": "stream",
     "text": [
      "Inputs ids: tf.Tensor(\n",
      "[[  101  1045  2293  2023 10439   999   102     0     0     0     0     0\n",
      "      0     0     0     0     0     0     0     0     0     0     0     0\n",
      "      0     0     0     0     0     0     0     0     0     0     0     0\n",
      "      0     0     0     0     0     0     0     0     0     0     0     0\n",
      "      0     0     0     0     0     0     0     0     0     0     0     0\n",
      "      0     0     0     0     0     0     0     0     0     0     0     0\n",
      "      0     0     0     0     0     0     0     0     0     0     0     0\n",
      "      0     0     0     0     0     0     0     0     0     0     0     0\n",
      "      0     0     0     0     0     0     0     0     0     0     0     0\n",
      "      0     0     0     0     0     0     0     0     0     0     0     0]], shape=(1, 120), dtype=int32)\n",
      "Attention mask: tf.Tensor(\n",
      "[[1 1 1 1 1 1 1 0 0 0 0 0 0 0 0 0 0 0 0 0 0 0 0 0 0 0 0 0 0 0 0 0 0 0 0 0\n",
      "  0 0 0 0 0 0 0 0 0 0 0 0 0 0 0 0 0 0 0 0 0 0 0 0 0 0 0 0 0 0 0 0 0 0 0 0\n",
      "  0 0 0 0 0 0 0 0 0 0 0 0 0 0 0 0 0 0 0 0 0 0 0 0 0 0 0 0 0 0 0 0 0 0 0 0\n",
      "  0 0 0 0 0 0 0 0 0 0 0 0]], shape=(1, 120), dtype=int32)\n"
     ]
    }
   ],
   "source": [
    "text = \"I love this app!\"\n",
    "\n",
    "# Tokenize the text\n",
    "tf_batch = bert_tokenizer.encode_plus(\n",
    "    text,\n",
    "    add_special_tokens=True,\n",
    "    max_length=max_length, \n",
    "    return_token_type_ids=False,\n",
    "    return_attention_mask=True,\n",
    "    padding='max_length',\n",
    "    truncation=True,\n",
    "    return_tensors='tf'\n",
    ")\n",
    "\n",
    "print(\"Inputs ids:\", tf_batch['input_ids'])\n",
    "print(\"Attention mask:\", tf_batch['attention_mask'])\n",
    "\n",
    "X_test = [\n",
    "    tf_batch['input_ids'],  \n",
    "    tf_batch['attention_mask']\n",
    "]"
   ]
  },
  {
   "cell_type": "code",
   "execution_count": 45,
   "metadata": {},
   "outputs": [
    {
     "name": "stdout",
     "output_type": "stream",
     "text": [
      "1/1 [==============================] - 1s 1s/step\n",
      "Clasificación: positive\n"
     ]
    }
   ],
   "source": [
    "y_prob_ensayo = model_2_loaded.predict(X_test)\n",
    "y_prob = np.argmax(y_prob_ensayo, axis=1)\n",
    "print(\"Clasificación:\", class_names[int(y_prob)])"
   ]
  },
  {
   "cell_type": "code",
   "execution_count": 46,
   "metadata": {},
   "outputs": [
    {
     "name": "stdout",
     "output_type": "stream",
     "text": [
      "1/1 [==============================] - 0s 109ms/step\n",
      "Clasificación: negative\n"
     ]
    }
   ],
   "source": [
    "text = \"I hate this product, it is terrible!\"\n",
    "\n",
    "# Tokenize the text\n",
    "tf_batch = bert_tokenizer.encode_plus(\n",
    "    text,\n",
    "    add_special_tokens=True,\n",
    "    max_length=max_length, \n",
    "    return_token_type_ids=False,\n",
    "    return_attention_mask=True,\n",
    "    padding='max_length',\n",
    "    truncation=True,\n",
    "    return_tensors='tf'\n",
    ")\n",
    "\n",
    "X_test = [\n",
    "    tf_batch['input_ids'],  \n",
    "    tf_batch['attention_mask']\n",
    "]\n",
    "\n",
    "y_prob_test = model_2_loaded.predict(X_test)\n",
    "y_prob = np.argmax(y_prob_test, axis=1)\n",
    "print(\"Clasificación:\", class_names[int(y_prob)])"
   ]
  },
  {
   "cell_type": "code",
   "execution_count": 47,
   "metadata": {},
   "outputs": [
    {
     "name": "stdout",
     "output_type": "stream",
     "text": [
      "1/1 [==============================] - 0s 100ms/step\n",
      "Clasificación: neutral\n"
     ]
    }
   ],
   "source": [
    "text = \"The app is okay, nothing special.\"\n",
    "\n",
    "# Tokenize the text\n",
    "tf_batch = bert_tokenizer.encode_plus(\n",
    "    text,\n",
    "    add_special_tokens=True,\n",
    "    max_length=max_length, \n",
    "    return_token_type_ids=False,\n",
    "    return_attention_mask=True,\n",
    "    padding='max_length',\n",
    "    truncation=True,\n",
    "    return_tensors='tf'\n",
    ")\n",
    "\n",
    "X_test = [\n",
    "    tf_batch['input_ids'],  \n",
    "    tf_batch['attention_mask']\n",
    "]\n",
    "\n",
    "y_prob_test = model_2_loaded.predict(X_test)\n",
    "y_prob = np.argmax(y_prob_test, axis=1)\n",
    "print(\"Clasificación:\", class_names[int(y_prob)])"
   ]
  },
  {
   "cell_type": "markdown",
   "metadata": {},
   "source": [
    "Se puede ver que el modelo con fine tuning también logra clasificaciones correctas, aunque sin lograr mejorar significativamente el desempeño del modelo con los pesos congelados. Sin embargo, debido a que se necesito mucho menos tiempo para entrenar el modelo con fine tuning, se podría considerar que es una mejor opción."
   ]
  }
 ],
 "metadata": {
  "accelerator": "GPU",
  "colab": {
   "provenance": []
  },
  "kernelspec": {
   "display_name": "venv",
   "language": "python",
   "name": "python3"
  },
  "language_info": {
   "codemirror_mode": {
    "name": "ipython",
    "version": 3
   },
   "file_extension": ".py",
   "mimetype": "text/x-python",
   "name": "python",
   "nbconvert_exporter": "python",
   "pygments_lexer": "ipython3",
   "version": "3.9.17"
  }
 },
 "nbformat": 4,
 "nbformat_minor": 4
}
