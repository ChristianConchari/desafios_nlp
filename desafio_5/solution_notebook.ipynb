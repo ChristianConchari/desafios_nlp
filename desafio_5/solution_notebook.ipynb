{
 "cells": [
  {
   "cell_type": "markdown",
   "metadata": {},
   "source": [
    "# Desafio 5"
   ]
  },
  {
   "cell_type": "markdown",
   "metadata": {},
   "source": [
    "## Importación de librerías"
   ]
  },
  {
   "cell_type": "code",
   "execution_count": 30,
   "metadata": {},
   "outputs": [],
   "source": [
    "import tensorflow as tf\n",
    "import pandas as pd\n",
    "import numpy as np\n",
    "import seaborn as sns\n",
    "from transformers import TFBertModel, BertTokenizer\n",
    "from sklearn.model_selection import train_test_split\n",
    "from sklearn.metrics import confusion_matrix, ConfusionMatrixDisplay\n",
    "from sklearn.utils import resample\n",
    "from utils import *"
   ]
  },
  {
   "cell_type": "code",
   "execution_count": 31,
   "metadata": {},
   "outputs": [
    {
     "name": "stdout",
     "output_type": "stream",
     "text": [
      "Available GPU(s): [PhysicalDevice(name='/physical_device:GPU:0', device_type='GPU')]\n"
     ]
    }
   ],
   "source": [
    "gpus = tf.config.list_physical_devices('GPU')\n",
    "\n",
    "if gpus:\n",
    "    print(f\"Available GPU(s): {gpus}\")\n",
    "else:\n",
    "    print(\"No GPU detected. Using CPU instead.\")"
   ]
  },
  {
   "cell_type": "markdown",
   "metadata": {},
   "source": [
    "## Carga de datos\n",
    "Utilizaremos como dataset críticas de Google Apps en formato csv."
   ]
  },
  {
   "cell_type": "code",
   "execution_count": 3,
   "metadata": {},
   "outputs": [
    {
     "name": "stdout",
     "output_type": "stream",
     "text": [
      "apps.csv already exists. Skipping download.\n",
      "reviews.csv already exists. Skipping download.\n"
     ]
    }
   ],
   "source": [
    "# URLs for the files\n",
    "apps_url = 'https://drive.google.com/u/0/uc?id=1S6qMioqPJjyBLpLVz4gmRTnJHnjitnuV&export=download&confirm=t'\n",
    "reviews_url = 'https://drive.google.com/u/0/uc?id=1zdmewp7ayS4js4VtrJEHzAheSW-5NBZv&export=download&confirm=t'\n",
    "\n",
    "# Filenames for the downloaded files\n",
    "apps_filename = 'apps.csv'\n",
    "reviews_filename = 'reviews.csv'\n",
    "\n",
    "# Download the files\n",
    "download_file(apps_url, apps_filename)\n",
    "download_file(reviews_url, reviews_filename)"
   ]
  },
  {
   "cell_type": "code",
   "execution_count": 4,
   "metadata": {},
   "outputs": [
    {
     "data": {
      "text/html": [
       "<div>\n",
       "<style scoped>\n",
       "    .dataframe tbody tr th:only-of-type {\n",
       "        vertical-align: middle;\n",
       "    }\n",
       "\n",
       "    .dataframe tbody tr th {\n",
       "        vertical-align: top;\n",
       "    }\n",
       "\n",
       "    .dataframe thead th {\n",
       "        text-align: right;\n",
       "    }\n",
       "</style>\n",
       "<table border=\"1\" class=\"dataframe\">\n",
       "  <thead>\n",
       "    <tr style=\"text-align: right;\">\n",
       "      <th></th>\n",
       "      <th>userName</th>\n",
       "      <th>userImage</th>\n",
       "      <th>content</th>\n",
       "      <th>score</th>\n",
       "      <th>thumbsUpCount</th>\n",
       "      <th>reviewCreatedVersion</th>\n",
       "      <th>at</th>\n",
       "      <th>replyContent</th>\n",
       "      <th>repliedAt</th>\n",
       "      <th>sortOrder</th>\n",
       "      <th>appId</th>\n",
       "    </tr>\n",
       "  </thead>\n",
       "  <tbody>\n",
       "    <tr>\n",
       "      <th>0</th>\n",
       "      <td>Andrew Thomas</td>\n",
       "      <td>https://lh3.googleusercontent.com/a-/AOh14GiHd...</td>\n",
       "      <td>Update: After getting a response from the deve...</td>\n",
       "      <td>1</td>\n",
       "      <td>21</td>\n",
       "      <td>4.17.0.3</td>\n",
       "      <td>2020-04-05 22:25:57</td>\n",
       "      <td>According to our TOS, and the term you have ag...</td>\n",
       "      <td>2020-04-05 15:10:24</td>\n",
       "      <td>most_relevant</td>\n",
       "      <td>com.anydo</td>\n",
       "    </tr>\n",
       "    <tr>\n",
       "      <th>1</th>\n",
       "      <td>Craig Haines</td>\n",
       "      <td>https://lh3.googleusercontent.com/-hoe0kwSJgPQ...</td>\n",
       "      <td>Used it for a fair amount of time without any ...</td>\n",
       "      <td>1</td>\n",
       "      <td>11</td>\n",
       "      <td>4.17.0.3</td>\n",
       "      <td>2020-04-04 13:40:01</td>\n",
       "      <td>It sounds like you logged in with a different ...</td>\n",
       "      <td>2020-04-05 15:11:35</td>\n",
       "      <td>most_relevant</td>\n",
       "      <td>com.anydo</td>\n",
       "    </tr>\n",
       "    <tr>\n",
       "      <th>2</th>\n",
       "      <td>steven adkins</td>\n",
       "      <td>https://lh3.googleusercontent.com/a-/AOh14GiXw...</td>\n",
       "      <td>Your app sucks now!!!!! Used to be good but no...</td>\n",
       "      <td>1</td>\n",
       "      <td>17</td>\n",
       "      <td>4.17.0.3</td>\n",
       "      <td>2020-04-01 16:18:13</td>\n",
       "      <td>This sounds odd! We are not aware of any issue...</td>\n",
       "      <td>2020-04-02 16:05:56</td>\n",
       "      <td>most_relevant</td>\n",
       "      <td>com.anydo</td>\n",
       "    </tr>\n",
       "    <tr>\n",
       "      <th>3</th>\n",
       "      <td>Lars Panzerbjørn</td>\n",
       "      <td>https://lh3.googleusercontent.com/a-/AOh14Gg-h...</td>\n",
       "      <td>It seems OK, but very basic. Recurring tasks n...</td>\n",
       "      <td>1</td>\n",
       "      <td>192</td>\n",
       "      <td>4.17.0.2</td>\n",
       "      <td>2020-03-12 08:17:34</td>\n",
       "      <td>We do offer this option as part of the Advance...</td>\n",
       "      <td>2020-03-15 06:20:13</td>\n",
       "      <td>most_relevant</td>\n",
       "      <td>com.anydo</td>\n",
       "    </tr>\n",
       "    <tr>\n",
       "      <th>4</th>\n",
       "      <td>Scott Prewitt</td>\n",
       "      <td>https://lh3.googleusercontent.com/-K-X1-YsVd6U...</td>\n",
       "      <td>Absolutely worthless. This app runs a prohibit...</td>\n",
       "      <td>1</td>\n",
       "      <td>42</td>\n",
       "      <td>4.17.0.2</td>\n",
       "      <td>2020-03-14 17:41:01</td>\n",
       "      <td>We're sorry you feel this way! 90% of the app ...</td>\n",
       "      <td>2020-03-15 23:45:51</td>\n",
       "      <td>most_relevant</td>\n",
       "      <td>com.anydo</td>\n",
       "    </tr>\n",
       "  </tbody>\n",
       "</table>\n",
       "</div>"
      ],
      "text/plain": [
       "           userName                                          userImage  \\\n",
       "0     Andrew Thomas  https://lh3.googleusercontent.com/a-/AOh14GiHd...   \n",
       "1      Craig Haines  https://lh3.googleusercontent.com/-hoe0kwSJgPQ...   \n",
       "2     steven adkins  https://lh3.googleusercontent.com/a-/AOh14GiXw...   \n",
       "3  Lars Panzerbjørn  https://lh3.googleusercontent.com/a-/AOh14Gg-h...   \n",
       "4     Scott Prewitt  https://lh3.googleusercontent.com/-K-X1-YsVd6U...   \n",
       "\n",
       "                                             content  score  thumbsUpCount  \\\n",
       "0  Update: After getting a response from the deve...      1             21   \n",
       "1  Used it for a fair amount of time without any ...      1             11   \n",
       "2  Your app sucks now!!!!! Used to be good but no...      1             17   \n",
       "3  It seems OK, but very basic. Recurring tasks n...      1            192   \n",
       "4  Absolutely worthless. This app runs a prohibit...      1             42   \n",
       "\n",
       "  reviewCreatedVersion                   at  \\\n",
       "0             4.17.0.3  2020-04-05 22:25:57   \n",
       "1             4.17.0.3  2020-04-04 13:40:01   \n",
       "2             4.17.0.3  2020-04-01 16:18:13   \n",
       "3             4.17.0.2  2020-03-12 08:17:34   \n",
       "4             4.17.0.2  2020-03-14 17:41:01   \n",
       "\n",
       "                                        replyContent            repliedAt  \\\n",
       "0  According to our TOS, and the term you have ag...  2020-04-05 15:10:24   \n",
       "1  It sounds like you logged in with a different ...  2020-04-05 15:11:35   \n",
       "2  This sounds odd! We are not aware of any issue...  2020-04-02 16:05:56   \n",
       "3  We do offer this option as part of the Advance...  2020-03-15 06:20:13   \n",
       "4  We're sorry you feel this way! 90% of the app ...  2020-03-15 23:45:51   \n",
       "\n",
       "       sortOrder      appId  \n",
       "0  most_relevant  com.anydo  \n",
       "1  most_relevant  com.anydo  \n",
       "2  most_relevant  com.anydo  \n",
       "3  most_relevant  com.anydo  \n",
       "4  most_relevant  com.anydo  "
      ]
     },
     "execution_count": 4,
     "metadata": {},
     "output_type": "execute_result"
    }
   ],
   "source": [
    "df = pd.read_csv('reviews.csv')\n",
    "df.head()"
   ]
  },
  {
   "cell_type": "code",
   "execution_count": 5,
   "metadata": {},
   "outputs": [
    {
     "name": "stdout",
     "output_type": "stream",
     "text": [
      "Number of reviews before removing duplicates:  15746\n"
     ]
    }
   ],
   "source": [
    "print(\"Number of reviews before removing duplicates: \", df.shape[0])"
   ]
  },
  {
   "cell_type": "code",
   "execution_count": 6,
   "metadata": {},
   "outputs": [
    {
     "name": "stdout",
     "output_type": "stream",
     "text": [
      "Number of reviews after removing duplicates:  10130\n"
     ]
    }
   ],
   "source": [
    "df = df.drop_duplicates(subset='content')\n",
    "print(\"Number of reviews after removing duplicates: \", df.shape[0])"
   ]
  },
  {
   "cell_type": "code",
   "execution_count": 7,
   "metadata": {},
   "outputs": [
    {
     "data": {
      "image/png": "[encoded data removed]",
      "text/plain": [
       "<Figure size 1000x600 with 1 Axes>"
      ]
     },
     "metadata": {},
     "output_type": "display_data"
    }
   ],
   "source": [
    "plt.figure(figsize=(10, 6))\n",
    "sns.countplot(x=df.score, hue=df.score)\n",
    "plt.title('Distribution of Review Scores')\n",
    "plt.xlabel('Review Score')\n",
    "plt.ylabel('Count')\n",
    "plt.show()"
   ]
  },
  {
   "cell_type": "markdown",
   "metadata": {},
   "source": [
    "## Limpieza y preparación de datos"
   ]
  },
  {
   "cell_type": "markdown",
   "metadata": {},
   "source": [
    "Existe un desbalanceo en la variable objetivo, habiendo más críticas en la categoría 3 que en las demás. Para balancear el dataset, la mejor alternativa es dividir las categorías en 3 grupos, de manera que cada grupo tenga una cantidad similar de críticas."
   ]
  },
  {
   "cell_type": "code",
   "execution_count": 8,
   "metadata": {},
   "outputs": [],
   "source": [
    "df['sentiment'] = df.score.apply(lambda x: 0 if x <=2 else 1 if x == 3 else 2)\n",
    "class_names = ['negative', 'neutral', 'positive']"
   ]
  },
  {
   "cell_type": "code",
   "execution_count": 9,
   "metadata": {},
   "outputs": [
    {
     "name": "stdout",
     "output_type": "stream",
     "text": [
      "Cantidad de críticas por categoría: sentiment\n",
      "2    4101\n",
      "0    3209\n",
      "1    2820\n",
      "Name: count, dtype: int64\n"
     ]
    }
   ],
   "source": [
    "print(f'Cantidad de críticas por categoría: {df.sentiment.value_counts()}')"
   ]
  },
  {
   "cell_type": "markdown",
   "metadata": {},
   "source": [
    "Reduciendo el dataset a 3 categorías, se obtiene un poco más balanceado."
   ]
  },
  {
   "cell_type": "code",
   "execution_count": 10,
   "metadata": {},
   "outputs": [
    {
     "data": {
      "image/png": "[encoded data removed]",
      "text/plain": [
       "<Figure size 1000x600 with 1 Axes>"
      ]
     },
     "metadata": {},
     "output_type": "display_data"
    }
   ],
   "source": [
    "plt.figure(figsize=(10, 6))\n",
    "sns.countplot(x=df.sentiment, hue=df.sentiment)\n",
    "plt.title('Distribution of Sentiments')\n",
    "plt.xlabel('Sentiment')\n",
    "plt.ylabel('Count')\n",
    "plt.xticks(ticks=[0, 1, 2], labels=class_names)\n",
    "plt.show()"
   ]
  },
  {
   "cell_type": "markdown",
   "metadata": {},
   "source": [
    "Como todavía existe un desbalanceo, se aplicará downsampling a las categorías positivo y negativo para que tengan la misma cantidad de críticas que la categoría neutral. De esa manera, se obtiene un dataset balanceado."
   ]
  },
  {
   "cell_type": "code",
   "execution_count": 36,
   "metadata": {},
   "outputs": [
    {
     "name": "stdout",
     "output_type": "stream",
     "text": [
      "Cantidad de críticas por categoría después del submuestreo: sentiment\n",
      "2    2820\n",
      "0    2820\n",
      "1    2820\n",
      "Name: count, dtype: int64\n"
     ]
    },
    {
     "data": {
      "image/png": "[encoded data removed]",
      "text/plain": [
       "<Figure size 1000x600 with 1 Axes>"
      ]
     },
     "metadata": {},
     "output_type": "display_data"
    }
   ],
   "source": [
    "df_positive = df[df.sentiment == 2]\n",
    "df_negative = df[df.sentiment == 0]\n",
    "df_neutral = df[df.sentiment == 1]\n",
    "\n",
    "# Downsampling the majority classes\n",
    "df_positive_downsampled = resample(\n",
    "                            df_positive, \n",
    "                            replace=False, \n",
    "                            n_samples=len(df_neutral),\n",
    "                            random_state=42\n",
    "                        )\n",
    "\n",
    "df_negative_downsampled = resample(\n",
    "                            df_negative, \n",
    "                            replace=False,\n",
    "                            n_samples=len(df_neutral),\n",
    "                            random_state=42\n",
    "                        )\n",
    "\n",
    "# Concatenating the downsampled majority classes with the minority class\n",
    "df_balanced = pd.concat([df_positive_downsampled, df_negative_downsampled, df_neutral])\n",
    "print(f'Cantidad de críticas por categoría después del submuestreo: {df_balanced.sentiment.value_counts()}')\n",
    "\n",
    "plt.figure(figsize=(10, 6))\n",
    "sns.countplot(x=df_balanced.sentiment, hue=df_balanced.sentiment)\n",
    "plt.title('Distribution of Sentiments After Undersampling')\n",
    "plt.xlabel('Sentiment')\n",
    "plt.ylabel('Count')\n",
    "plt.xticks(ticks=[0, 1, 2], labels=class_names)\n",
    "plt.show()"
   ]
  },
  {
   "cell_type": "code",
   "execution_count": 37,
   "metadata": {},
   "outputs": [
    {
     "name": "stdout",
     "output_type": "stream",
     "text": [
      "Sentences shape: (8460,)\n",
      "Sentence 1: Good app it helps me be motivated without hesitation nor procastination. Thank you HabitNow!!!! Your love, Aliff\n",
      "Sentence 2: Easy to use for a big family\n",
      "Sentence 3: Great for general use and getting better.\n"
     ]
    }
   ],
   "source": [
    "sentences = df_balanced['content'].values\n",
    "print(\"Sentences shape:\", sentences.shape)\n",
    "\n",
    "# Display the first three sentences\n",
    "for i, sentence in enumerate(sentences[:3], 1):\n",
    "    print(f\"Sentence {i}: {sentence}\")"
   ]
  },
  {
   "cell_type": "markdown",
   "metadata": {},
   "source": [
    "A modo de explorar los datos, también se mostrará una gráfica de barras con la longitud de las críticas."
   ]
  },
  {
   "cell_type": "code",
   "execution_count": 38,
   "metadata": {},
   "outputs": [
    {
     "name": "stdout",
     "output_type": "stream",
     "text": [
      "Average sentence length: 182.84905437352245\n",
      "Max sentence length: 2176\n",
      "Min sentence length: 1\n",
      "Median sentence length: 141.0\n"
     ]
    },
    {
     "data": {
      "text/plain": [
       "<seaborn.axisgrid.FacetGrid at 0x7fcc4c72cf70>"
      ]
     },
     "execution_count": 38,
     "metadata": {},
     "output_type": "execute_result"
    },
    {
     "data": {
      "image/png": "[encoded data removed]",
      "text/plain": [
       "<Figure size 500x500 with 1 Axes>"
      ]
     },
     "metadata": {},
     "output_type": "display_data"
    }
   ],
   "source": [
    "sentence_lens = []\n",
    "\n",
    "for sentence in sentences:\n",
    "  sentence_lens.append(len(sentence))\n",
    "\n",
    "print(\"Average sentence length:\", np.mean(sentence_lens))\n",
    "print(\"Max sentence length:\", np.max(sentence_lens))\n",
    "print(\"Min sentence length:\", np.min(sentence_lens))\n",
    "print(\"Median sentence length:\", np.median(sentence_lens))\n",
    "\n",
    "sns.displot(sentence_lens, kde=True)"
   ]
  },
  {
   "cell_type": "markdown",
   "metadata": {},
   "source": [
    "Es necesario convertir la variables objetivo a variables categóricas."
   ]
  },
  {
   "cell_type": "code",
   "execution_count": 40,
   "metadata": {},
   "outputs": [
    {
     "name": "stdout",
     "output_type": "stream",
     "text": [
      "y shape: (8460,)\n",
      "[[0. 0. 1.]\n",
      " [0. 0. 1.]\n",
      " [0. 0. 1.]]\n",
      "output shape: 3\n"
     ]
    }
   ],
   "source": [
    "# Extract the 'sentiment' column from the DataFrame\n",
    "y = df_balanced['sentiment'].values\n",
    "print(f\"y shape: {y.shape}\")\n",
    "\n",
    "# Convert the sentiment labels to one-hot encoded format\n",
    "y = tf.keras.utils.to_categorical(y, num_classes=3)\n",
    "print(y[:3])\n",
    "\n",
    "# Determine the output shape, which is the number of unique sentiment classes\n",
    "output_shape = y.shape[1]\n",
    "print(\"output shape:\", output_shape)"
   ]
  },
  {
   "cell_type": "markdown",
   "metadata": {
    "id": "qvoZ8YlK0vOQ"
   },
   "source": [
    "## Definición del dataset"
   ]
  },
  {
   "cell_type": "markdown",
   "metadata": {},
   "source": [
    "Se utilizará `BertTokenizer` para tokenizar las críticas en la preparación del dataset."
   ]
  },
  {
   "cell_type": "code",
   "execution_count": 41,
   "metadata": {},
   "outputs": [],
   "source": [
    "bert_tokenizer = BertTokenizer.from_pretrained(\"bert-base-uncased\")"
   ]
  },
  {
   "cell_type": "markdown",
   "metadata": {},
   "source": [
    "Se dividirá el dataset en conjuntos de entrenamiento, validación y test."
   ]
  },
  {
   "cell_type": "code",
   "execution_count": 42,
   "metadata": {
    "id": "rYnD8msegnSI"
   },
   "outputs": [],
   "source": [
    "indices = np.arange(len(sentences))\n",
    "\n",
    "idx_train_val, idx_test = train_test_split(indices, test_size=0.2, random_state=42)\n",
    "idx_train, idx_val = train_test_split(idx_train_val, test_size=0.2, random_state=42)"
   ]
  },
  {
   "cell_type": "code",
   "execution_count": 43,
   "metadata": {
    "colab": {
     "base_uri": "https://localhost:8080/"
    },
    "id": "5Hm0jGD-j32e",
    "outputId": "82f903b1-90cd-447b-ffe0-9fa65248bbe6"
   },
   "outputs": [
    {
     "name": "stdout",
     "output_type": "stream",
     "text": [
      "Training set size: 5414\n",
      "Validation set size: 1354\n",
      "Test set size: 1692\n"
     ]
    }
   ],
   "source": [
    "print(f\"Training set size: {idx_train.shape[0]}\")\n",
    "print(f\"Validation set size: {idx_val.shape[0]}\")\n",
    "print(f\"Test set size: {idx_test.shape[0]}\")"
   ]
  },
  {
   "cell_type": "markdown",
   "metadata": {},
   "source": [
    "Se convierten los datos a InputExample y posteriormente TensorFlow Datasets."
   ]
  },
  {
   "cell_type": "code",
   "execution_count": 44,
   "metadata": {
    "colab": {
     "base_uri": "https://localhost:8080/"
    },
    "id": "VXrlV-xPiebq",
    "outputId": "224c55dc-5ddb-4c01-c804-0b4ebe4eb8c4"
   },
   "outputs": [],
   "source": [
    "batch_size = 128\n",
    "max_length = 120\n",
    "\n",
    "train_input_examples, validation_input_examples = convert_data_to_examples(sentences, y, idx_train, idx_val)\n",
    "train_data = convert_examples_to_tf_dataset(list(train_input_examples), bert_tokenizer, output_shape=output_shape, max_length=max_length)\n",
    "\n",
    "train_data = train_data.shuffle(100).batch(batch_size)\n",
    "\n",
    "validation_data = convert_examples_to_tf_dataset(list(validation_input_examples), bert_tokenizer, output_shape=output_shape, max_length=max_length)\n",
    "validation_data = validation_data.batch(batch_size)"
   ]
  },
  {
   "cell_type": "markdown",
   "metadata": {},
   "source": [
    "Se tokeniza el texto y se convierte a `input_ids` y `attention_mask`."
   ]
  },
  {
   "cell_type": "code",
   "execution_count": 45,
   "metadata": {
    "colab": {
     "base_uri": "https://localhost:8080/"
    },
    "id": "aQV1WrdKFJnF",
    "outputId": "eccbd408-606b-4b67-aeba-36d5c42825f4"
   },
   "outputs": [],
   "source": [
    "pred_sentences = [sentences[i] for i in idx_test]\n",
    "tf_batch = bert_tokenizer(pred_sentences, max_length=max_length, padding=True, truncation=True, return_tensors='tf')"
   ]
  },
  {
   "cell_type": "code",
   "execution_count": 46,
   "metadata": {
    "id": "ZUBLlpH0GAVE"
   },
   "outputs": [],
   "source": [
    "X_test = [\n",
    "    tf_batch['input_ids'],  \n",
    "    tf_batch['attention_mask']\n",
    "]\n",
    "\n",
    "y_test = y[idx_test]"
   ]
  },
  {
   "cell_type": "code",
   "execution_count": 47,
   "metadata": {
    "id": "3E-z51xls0lH"
   },
   "outputs": [
    {
     "name": "stdout",
     "output_type": "stream",
     "text": [
      "X_test[0] shape: (1692, 120)\n",
      "y_test shape: (1692, 3)\n"
     ]
    }
   ],
   "source": [
    "print(f\"X_test[0] shape: {X_test[0].shape}\")\n",
    "print(f\"y_test shape: {y_test.shape}\")"
   ]
  },
  {
   "cell_type": "markdown",
   "metadata": {},
   "source": [
    "## Primer modelo: BERT pre-entrenado con pesos congelados"
   ]
  },
  {
   "cell_type": "markdown",
   "metadata": {},
   "source": [
    "Se define el modelo BERT pre-entrenado."
   ]
  },
  {
   "cell_type": "code",
   "execution_count": 21,
   "metadata": {},
   "outputs": [
    {
     "name": "stderr",
     "output_type": "stream",
     "text": [
      "Some weights of the PyTorch model were not used when initializing the TF 2.0 model TFBertModel: ['cls.seq_relationship.bias', 'cls.seq_relationship.weight', 'cls.predictions.bias', 'cls.predictions.transform.dense.weight', 'cls.predictions.transform.LayerNorm.bias', 'cls.predictions.transform.LayerNorm.weight', 'cls.predictions.transform.dense.bias']\n",
      "- This IS expected if you are initializing TFBertModel from a PyTorch model trained on another task or with another architecture (e.g. initializing a TFBertForSequenceClassification model from a BertForPreTraining model).\n",
      "- This IS NOT expected if you are initializing TFBertModel from a PyTorch model that you expect to be exactly identical (e.g. initializing a TFBertForSequenceClassification model from a BertForSequenceClassification model).\n",
      "All the weights of TFBertModel were initialized from the PyTorch model.\n",
      "If your task is similar to the task the model of the checkpoint was trained on, you can already use TFBertModel for predictions without further training.\n"
     ]
    },
    {
     "name": "stdout",
     "output_type": "stream",
     "text": [
      "Model: \"tf_bert_model\"\n",
      "_________________________________________________________________\n",
      " Layer (type)                Output Shape              Param #   \n",
      "=================================================================\n",
      " bert (TFBertMainLayer)      multiple                  109482240 \n",
      "                                                                 \n",
      "=================================================================\n",
      "Total params: 109482240 (417.64 MB)\n",
      "Trainable params: 109482240 (417.64 MB)\n",
      "Non-trainable params: 0 (0.00 Byte)\n",
      "_________________________________________________________________\n"
     ]
    }
   ],
   "source": [
    "bert_model = TFBertModel.from_pretrained(\"bert-base-uncased\")\n",
    "bert_model.summary()"
   ]
  },
  {
   "cell_type": "code",
   "execution_count": 22,
   "metadata": {},
   "outputs": [],
   "source": [
    "def build_model_1(bert_model, max_length, output_shape, freeze_bert=True):\n",
    "    \"\"\"\n",
    "    Build a model using the BERT model as the base\n",
    "    \"\"\"   \n",
    "    # Set BERT model as not trainable\n",
    "    bert_model.trainable = not freeze_bert\n",
    "\n",
    "    # Define inputs\n",
    "    input_ids = tf.keras.layers.Input(shape=(max_length,), dtype=tf.int32, name='input_ids')\n",
    "    attention_mask = tf.keras.layers.Input(shape=(max_length,), dtype=tf.int32, name='attention_mask')\n",
    "\n",
    "    # Pass inputs to BERT model\n",
    "    outputs = bert_model(input_ids, attention_mask=attention_mask)\n",
    "\n",
    "    # Extract the pooled output\n",
    "    pooled_output = outputs.pooler_output\n",
    "\n",
    "    # Define the rest of the classification layers with batch normalization\n",
    "    x = tf.keras.layers.Dense(512)(pooled_output)\n",
    "    x = tf.keras.layers.BatchNormalization()(x)\n",
    "    x = tf.keras.layers.Activation('relu')(x)\n",
    "\n",
    "    x = tf.keras.layers.Dense(256)(x)\n",
    "    x = tf.keras.layers.BatchNormalization()(x)\n",
    "    x = tf.keras.layers.Activation('relu')(x)\n",
    "    \n",
    "    x = tf.keras.layers.Dense(128, kernel_regularizer=tf.keras.regularizers.l2(0.001))(x)\n",
    "    x = tf.keras.layers.BatchNormalization()(x)\n",
    "    x = tf.keras.layers.Activation('relu')(x)\n",
    "    x = tf.keras.layers.Dropout(0.2)(x)\n",
    "\n",
    "    x = tf.keras.layers.Dense(32, kernel_regularizer=tf.keras.regularizers.l2(0.001))(x)\n",
    "    x = tf.keras.layers.BatchNormalization()(x)\n",
    "    x = tf.keras.layers.Activation('relu')(x)\n",
    "    x = tf.keras.layers.Dropout(0.2)(x)\n",
    "    \n",
    "    output = tf.keras.layers.Dense(output_shape, activation='softmax')(x)\n",
    "\n",
    "    # Create the model\n",
    "    model = tf.keras.Model(inputs=[input_ids, attention_mask], outputs=output)\n",
    "    \n",
    "    return model"
   ]
  },
  {
   "cell_type": "code",
   "execution_count": 23,
   "metadata": {},
   "outputs": [
    {
     "name": "stdout",
     "output_type": "stream",
     "text": [
      "Model: \"model\"\n",
      "__________________________________________________________________________________________________\n",
      " Layer (type)                Output Shape                 Param #   Connected to                  \n",
      "==================================================================================================\n",
      " input_ids (InputLayer)      [(None, 120)]                0         []                            \n",
      "                                                                                                  \n",
      " attention_mask (InputLayer  [(None, 120)]                0         []                            \n",
      " )                                                                                                \n",
      "                                                                                                  \n",
      " tf_bert_model (TFBertModel  TFBaseModelOutputWithPooli   1094822   ['input_ids[0][0]',           \n",
      " )                           ngAndCrossAttentions(last_   40         'attention_mask[0][0]']      \n",
      "                             hidden_state=(None, 120, 7                                           \n",
      "                             68),                                                                 \n",
      "                              pooler_output=(None, 768)                                           \n",
      "                             , past_key_values=None, hi                                           \n",
      "                             dden_states=None, attentio                                           \n",
      "                             ns=None, cross_attentions=                                           \n",
      "                             None)                                                                \n",
      "                                                                                                  \n",
      " dense (Dense)               (None, 512)                  393728    ['tf_bert_model[0][1]']       \n",
      "                                                                                                  \n",
      " batch_normalization (Batch  (None, 512)                  2048      ['dense[0][0]']               \n",
      " Normalization)                                                                                   \n",
      "                                                                                                  \n",
      " activation (Activation)     (None, 512)                  0         ['batch_normalization[0][0]'] \n",
      "                                                                                                  \n",
      " dense_1 (Dense)             (None, 256)                  131328    ['activation[0][0]']          \n",
      "                                                                                                  \n",
      " batch_normalization_1 (Bat  (None, 256)                  1024      ['dense_1[0][0]']             \n",
      " chNormalization)                                                                                 \n",
      "                                                                                                  \n",
      " activation_1 (Activation)   (None, 256)                  0         ['batch_normalization_1[0][0]'\n",
      "                                                                    ]                             \n",
      "                                                                                                  \n",
      " dense_2 (Dense)             (None, 128)                  32896     ['activation_1[0][0]']        \n",
      "                                                                                                  \n",
      " batch_normalization_2 (Bat  (None, 128)                  512       ['dense_2[0][0]']             \n",
      " chNormalization)                                                                                 \n",
      "                                                                                                  \n",
      " activation_2 (Activation)   (None, 128)                  0         ['batch_normalization_2[0][0]'\n",
      "                                                                    ]                             \n",
      "                                                                                                  \n",
      " dropout_37 (Dropout)        (None, 128)                  0         ['activation_2[0][0]']        \n",
      "                                                                                                  \n",
      " dense_3 (Dense)             (None, 32)                   4128      ['dropout_37[0][0]']          \n",
      "                                                                                                  \n",
      " batch_normalization_3 (Bat  (None, 32)                   128       ['dense_3[0][0]']             \n",
      " chNormalization)                                                                                 \n",
      "                                                                                                  \n",
      " activation_3 (Activation)   (None, 32)                   0         ['batch_normalization_3[0][0]'\n",
      "                                                                    ]                             \n",
      "                                                                                                  \n",
      " dropout_38 (Dropout)        (None, 32)                   0         ['activation_3[0][0]']        \n",
      "                                                                                                  \n",
      " dense_4 (Dense)             (None, 3)                    99        ['dropout_38[0][0]']          \n",
      "                                                                                                  \n",
      "==================================================================================================\n",
      "Total params: 110048131 (419.80 MB)\n",
      "Trainable params: 564035 (2.15 MB)\n",
      "Non-trainable params: 109484096 (417.65 MB)\n",
      "__________________________________________________________________________________________________\n"
     ]
    }
   ],
   "source": [
    "model_1 = build_model_1(bert_model, max_length, output_shape)\n",
    "\n",
    "# Define the optimizer\n",
    "optimizer = tf.keras.optimizers.Adam(learning_rate=1e-5, weight_decay=0.01)\n",
    "\n",
    "# Compile the model with F1 score\n",
    "model_1.compile(\n",
    "    optimizer=optimizer,\n",
    "    loss='categorical_crossentropy',\n",
    "    metrics=['accuracy',tf.keras.metrics.F1Score(average='macro')]\n",
    ")\n",
    "\n",
    "# Display model summary\n",
    "model_1.summary()"
   ]
  },
  {
   "cell_type": "markdown",
   "metadata": {
    "id": "kNinUuS6nqRJ"
   },
   "source": [
    "### Entrenamiento"
   ]
  },
  {
   "cell_type": "code",
   "execution_count": 81,
   "metadata": {
    "colab": {
     "base_uri": "https://localhost:8080/"
    },
    "id": "aQKTqv20j5kA",
    "outputId": "c513e516-0a71-4920-f17b-8fcc9a449627"
   },
   "outputs": [
    {
     "name": "stdout",
     "output_type": "stream",
     "text": [
      "Epoch 1/60\n",
      "     51/Unknown - 26s 371ms/step - loss: 2.5158 - accuracy: 0.3145 - f1_score: 0.3067"
     ]
    },
    {
     "name": "stderr",
     "output_type": "stream",
     "text": [
      "2024-10-21 00:25:35.195082: I tensorflow/core/framework/local_rendezvous.cc:427] Local rendezvous send item cancelled. Key hash: 2633983359923849618\n",
      "2024-10-21 00:25:35.195224: I tensorflow/core/framework/local_rendezvous.cc:427] Local rendezvous send item cancelled. Key hash: 5013185750416607992\n",
      "2024-10-21 00:25:35.195246: I tensorflow/core/framework/local_rendezvous.cc:423] Local rendezvous recv item cancelled. Key hash: 1245853976058810939\n",
      "2024-10-21 00:25:35.195261: I tensorflow/core/framework/local_rendezvous.cc:427] Local rendezvous send item cancelled. Key hash: 11447252401941232857\n",
      "2024-10-21 00:25:35.195265: I tensorflow/core/framework/local_rendezvous.cc:427] Local rendezvous send item cancelled. Key hash: 6862658620136205789\n"
     ]
    },
    {
     "name": "stdout",
     "output_type": "stream",
     "text": [
      "51/51 [==============================] - 33s 498ms/step - loss: 2.5158 - accuracy: 0.3145 - f1_score: 0.3067 - val_loss: 2.2823 - val_accuracy: 0.3307 - val_f1_score: 0.2892\n",
      "Epoch 2/60\n"
     ]
    },
    {
     "name": "stderr",
     "output_type": "stream",
     "text": [
      "2024-10-21 00:25:41.352315: I tensorflow/core/framework/local_rendezvous.cc:427] Local rendezvous send item cancelled. Key hash: 14379127865737693362\n",
      "2024-10-21 00:25:41.352364: I tensorflow/core/framework/local_rendezvous.cc:404] Local rendezvous is aborting with status: OUT_OF_RANGE: End of sequence\n",
      "\t [[{{node IteratorGetNext}}]]\n",
      "\t [[IteratorGetNext/_4]]\n",
      "2024-10-21 00:25:41.352370: I tensorflow/core/framework/local_rendezvous.cc:427] Local rendezvous send item cancelled. Key hash: 12309001699975271221\n",
      "2024-10-21 00:25:41.352374: I tensorflow/core/framework/local_rendezvous.cc:423] Local rendezvous recv item cancelled. Key hash: 18093550857373928195\n",
      "2024-10-21 00:25:41.352376: I tensorflow/core/framework/local_rendezvous.cc:423] Local rendezvous recv item cancelled. Key hash: 2011414110034595221\n",
      "2024-10-21 00:25:41.352379: I tensorflow/core/framework/local_rendezvous.cc:423] Local rendezvous recv item cancelled. Key hash: 11772750405820974065\n",
      "2024-10-21 00:25:41.352383: I tensorflow/core/framework/local_rendezvous.cc:423] Local rendezvous recv item cancelled. Key hash: 15319931660903207230\n",
      "2024-10-21 00:25:41.352385: I tensorflow/core/framework/local_rendezvous.cc:423] Local rendezvous recv item cancelled. Key hash: 3033132699643288698\n",
      "2024-10-21 00:25:41.352387: I tensorflow/core/framework/local_rendezvous.cc:427] Local rendezvous send item cancelled. Key hash: 5945161810983927650\n"
     ]
    },
    {
     "name": "stdout",
     "output_type": "stream",
     "text": [
      "51/51 [==============================] - 23s 457ms/step - loss: 2.4885 - accuracy: 0.3335 - f1_score: 0.3264 - val_loss: 2.2818 - val_accuracy: 0.3467 - val_f1_score: 0.3049\n",
      "Epoch 3/60\n",
      "51/51 [==============================] - 23s 454ms/step - loss: 2.4905 - accuracy: 0.3185 - f1_score: 0.3119 - val_loss: 2.2810 - val_accuracy: 0.3677 - val_f1_score: 0.2997\n",
      "Epoch 4/60\n",
      "51/51 [==============================] - 23s 455ms/step - loss: 2.4710 - accuracy: 0.3378 - f1_score: 0.3310 - val_loss: 2.2793 - val_accuracy: 0.3652 - val_f1_score: 0.2970\n",
      "Epoch 5/60\n",
      "51/51 [==============================] - 23s 457ms/step - loss: 2.4623 - accuracy: 0.3377 - f1_score: 0.3311 - val_loss: 2.2721 - val_accuracy: 0.3899 - val_f1_score: 0.3268\n",
      "Epoch 6/60\n",
      "51/51 [==============================] - 23s 455ms/step - loss: 2.4404 - accuracy: 0.3421 - f1_score: 0.3348 - val_loss: 2.2618 - val_accuracy: 0.4004 - val_f1_score: 0.3468\n",
      "Epoch 7/60\n",
      "51/51 [==============================] - 23s 458ms/step - loss: 2.4189 - accuracy: 0.3596 - f1_score: 0.3519 - val_loss: 2.2569 - val_accuracy: 0.4053 - val_f1_score: 0.3522\n",
      "Epoch 8/60\n",
      "51/51 [==============================] - 23s 456ms/step - loss: 2.4244 - accuracy: 0.3548 - f1_score: 0.3475 - val_loss: 2.2467 - val_accuracy: 0.4337 - val_f1_score: 0.3847\n",
      "Epoch 9/60\n",
      "51/51 [==============================] - 23s 454ms/step - loss: 2.4192 - accuracy: 0.3585 - f1_score: 0.3513 - val_loss: 2.2399 - val_accuracy: 0.4522 - val_f1_score: 0.3997\n",
      "Epoch 10/60\n",
      "51/51 [==============================] - 23s 457ms/step - loss: 2.4001 - accuracy: 0.3645 - f1_score: 0.3566 - val_loss: 2.2280 - val_accuracy: 0.4608 - val_f1_score: 0.4075\n",
      "Epoch 11/60\n",
      "51/51 [==============================] - 23s 457ms/step - loss: 2.3868 - accuracy: 0.3700 - f1_score: 0.3643 - val_loss: 2.2160 - val_accuracy: 0.4812 - val_f1_score: 0.4269\n",
      "Epoch 12/60\n",
      "51/51 [==============================] - 23s 459ms/step - loss: 2.3832 - accuracy: 0.3685 - f1_score: 0.3627 - val_loss: 2.2054 - val_accuracy: 0.4911 - val_f1_score: 0.4398\n",
      "Epoch 13/60\n",
      "51/51 [==============================] - 23s 458ms/step - loss: 2.3612 - accuracy: 0.3821 - f1_score: 0.3753 - val_loss: 2.2022 - val_accuracy: 0.4886 - val_f1_score: 0.4309\n",
      "Epoch 14/60\n",
      "51/51 [==============================] - 23s 457ms/step - loss: 2.3662 - accuracy: 0.3822 - f1_score: 0.3764 - val_loss: 2.1982 - val_accuracy: 0.4978 - val_f1_score: 0.4360\n",
      "Epoch 15/60\n",
      "51/51 [==============================] - 23s 458ms/step - loss: 2.3702 - accuracy: 0.3795 - f1_score: 0.3735 - val_loss: 2.1895 - val_accuracy: 0.5145 - val_f1_score: 0.4552\n",
      "Epoch 16/60\n",
      "51/51 [==============================] - 23s 458ms/step - loss: 2.3458 - accuracy: 0.3844 - f1_score: 0.3784 - val_loss: 2.1776 - val_accuracy: 0.5188 - val_f1_score: 0.4609\n",
      "Epoch 17/60\n",
      "51/51 [==============================] - 23s 458ms/step - loss: 2.3514 - accuracy: 0.3849 - f1_score: 0.3773 - val_loss: 2.1727 - val_accuracy: 0.5312 - val_f1_score: 0.4724\n",
      "Epoch 18/60\n",
      "51/51 [==============================] - 23s 461ms/step - loss: 2.3308 - accuracy: 0.4023 - f1_score: 0.3927 - val_loss: 2.1673 - val_accuracy: 0.5268 - val_f1_score: 0.4603\n",
      "Epoch 19/60\n",
      "51/51 [==============================] - 24s 463ms/step - loss: 2.3403 - accuracy: 0.3953 - f1_score: 0.3843 - val_loss: 2.1601 - val_accuracy: 0.5287 - val_f1_score: 0.4702\n",
      "Epoch 20/60\n",
      "51/51 [==============================] - 24s 470ms/step - loss: 2.3275 - accuracy: 0.4088 - f1_score: 0.3983 - val_loss: 2.1549 - val_accuracy: 0.5293 - val_f1_score: 0.4666\n",
      "Epoch 21/60\n",
      "51/51 [==============================] - 25s 485ms/step - loss: 2.3050 - accuracy: 0.4174 - f1_score: 0.4059 - val_loss: 2.1490 - val_accuracy: 0.5342 - val_f1_score: 0.4703\n",
      "Epoch 22/60\n",
      "51/51 [==============================] - 24s 463ms/step - loss: 2.2965 - accuracy: 0.4234 - f1_score: 0.4130 - val_loss: 2.1477 - val_accuracy: 0.5392 - val_f1_score: 0.4605\n",
      "Epoch 23/60\n",
      "51/51 [==============================] - 24s 464ms/step - loss: 2.2935 - accuracy: 0.4233 - f1_score: 0.4131 - val_loss: 2.1357 - val_accuracy: 0.5466 - val_f1_score: 0.4709\n",
      "Epoch 24/60\n",
      "51/51 [==============================] - 24s 466ms/step - loss: 2.2772 - accuracy: 0.4415 - f1_score: 0.4288 - val_loss: 2.1320 - val_accuracy: 0.5521 - val_f1_score: 0.4815\n",
      "Epoch 25/60\n",
      "51/51 [==============================] - 24s 464ms/step - loss: 2.2803 - accuracy: 0.4347 - f1_score: 0.4226 - val_loss: 2.1225 - val_accuracy: 0.5515 - val_f1_score: 0.4711\n",
      "Epoch 26/60\n",
      "51/51 [==============================] - 24s 468ms/step - loss: 2.2709 - accuracy: 0.4373 - f1_score: 0.4252 - val_loss: 2.1121 - val_accuracy: 0.5595 - val_f1_score: 0.4848\n",
      "Epoch 27/60\n",
      "51/51 [==============================] - 23s 461ms/step - loss: 2.2588 - accuracy: 0.4429 - f1_score: 0.4296 - val_loss: 2.1102 - val_accuracy: 0.5638 - val_f1_score: 0.4924\n",
      "Epoch 28/60\n",
      "51/51 [==============================] - 24s 463ms/step - loss: 2.2629 - accuracy: 0.4430 - f1_score: 0.4292 - val_loss: 2.1055 - val_accuracy: 0.5632 - val_f1_score: 0.4951\n",
      "Epoch 29/60\n",
      "51/51 [==============================] - 24s 469ms/step - loss: 2.2575 - accuracy: 0.4482 - f1_score: 0.4334 - val_loss: 2.1046 - val_accuracy: 0.5558 - val_f1_score: 0.4873\n",
      "Epoch 30/60\n",
      "51/51 [==============================] - 24s 462ms/step - loss: 2.2522 - accuracy: 0.4425 - f1_score: 0.4286 - val_loss: 2.0966 - val_accuracy: 0.5527 - val_f1_score: 0.4887\n",
      "Epoch 31/60\n",
      "51/51 [==============================] - 24s 464ms/step - loss: 2.2407 - accuracy: 0.4532 - f1_score: 0.4391 - val_loss: 2.0900 - val_accuracy: 0.5620 - val_f1_score: 0.4929\n",
      "Epoch 32/60\n",
      "51/51 [==============================] - 24s 466ms/step - loss: 2.2328 - accuracy: 0.4618 - f1_score: 0.4464 - val_loss: 2.0892 - val_accuracy: 0.5583 - val_f1_score: 0.4774\n",
      "Epoch 33/60\n",
      "51/51 [==============================] - 24s 467ms/step - loss: 2.2328 - accuracy: 0.4557 - f1_score: 0.4403 - val_loss: 2.0794 - val_accuracy: 0.5651 - val_f1_score: 0.4988\n",
      "Epoch 34/60\n",
      "51/51 [==============================] - 24s 464ms/step - loss: 2.2274 - accuracy: 0.4601 - f1_score: 0.4429 - val_loss: 2.0751 - val_accuracy: 0.5669 - val_f1_score: 0.4996\n",
      "Epoch 35/60\n",
      "51/51 [==============================] - 24s 469ms/step - loss: 2.2199 - accuracy: 0.4695 - f1_score: 0.4502 - val_loss: 2.0761 - val_accuracy: 0.5651 - val_f1_score: 0.4933\n",
      "Epoch 36/60\n",
      "51/51 [==============================] - 24s 471ms/step - loss: 2.2134 - accuracy: 0.4718 - f1_score: 0.4513 - val_loss: 2.0799 - val_accuracy: 0.5589 - val_f1_score: 0.4798\n",
      "Epoch 37/60\n",
      "51/51 [==============================] - 24s 464ms/step - loss: 2.2127 - accuracy: 0.4732 - f1_score: 0.4556 - val_loss: 2.0706 - val_accuracy: 0.5620 - val_f1_score: 0.4822\n",
      "Epoch 38/60\n",
      "51/51 [==============================] - 24s 464ms/step - loss: 2.2152 - accuracy: 0.4688 - f1_score: 0.4485 - val_loss: 2.0665 - val_accuracy: 0.5663 - val_f1_score: 0.4853\n",
      "Epoch 39/60\n",
      "51/51 [==============================] - 24s 467ms/step - loss: 2.2010 - accuracy: 0.4885 - f1_score: 0.4686 - val_loss: 2.0604 - val_accuracy: 0.5719 - val_f1_score: 0.5067\n",
      "Epoch 40/60\n",
      "51/51 [==============================] - 24s 468ms/step - loss: 2.2005 - accuracy: 0.4757 - f1_score: 0.4549 - val_loss: 2.0584 - val_accuracy: 0.5651 - val_f1_score: 0.4852\n",
      "Epoch 41/60\n",
      "51/51 [==============================] - 24s 468ms/step - loss: 2.1961 - accuracy: 0.4796 - f1_score: 0.4570 - val_loss: 2.0569 - val_accuracy: 0.5595 - val_f1_score: 0.4773\n",
      "Epoch 42/60\n",
      "51/51 [==============================] - 24s 465ms/step - loss: 2.1827 - accuracy: 0.4908 - f1_score: 0.4705 - val_loss: 2.0531 - val_accuracy: 0.5713 - val_f1_score: 0.4925\n",
      "Epoch 43/60\n",
      "51/51 [==============================] - 24s 468ms/step - loss: 2.1891 - accuracy: 0.4800 - f1_score: 0.4581 - val_loss: 2.0506 - val_accuracy: 0.5713 - val_f1_score: 0.4956\n",
      "Epoch 44/60\n",
      "51/51 [==============================] - 24s 464ms/step - loss: 2.1707 - accuracy: 0.4962 - f1_score: 0.4725 - val_loss: 2.0507 - val_accuracy: 0.5725 - val_f1_score: 0.4966\n",
      "Epoch 45/60\n",
      "51/51 [==============================] - 24s 464ms/step - loss: 2.1688 - accuracy: 0.4927 - f1_score: 0.4693 - val_loss: 2.0457 - val_accuracy: 0.5706 - val_f1_score: 0.4996\n",
      "Epoch 46/60\n",
      "51/51 [==============================] - 23s 456ms/step - loss: 2.1744 - accuracy: 0.4884 - f1_score: 0.4650 - val_loss: 2.0348 - val_accuracy: 0.5706 - val_f1_score: 0.5049\n",
      "Epoch 47/60\n",
      "51/51 [==============================] - 23s 460ms/step - loss: 2.1578 - accuracy: 0.5083 - f1_score: 0.4855 - val_loss: 2.0327 - val_accuracy: 0.5725 - val_f1_score: 0.5005\n",
      "Epoch 48/60\n",
      "51/51 [==============================] - 23s 458ms/step - loss: 2.1579 - accuracy: 0.5001 - f1_score: 0.4743 - val_loss: 2.0284 - val_accuracy: 0.5725 - val_f1_score: 0.5022\n",
      "Epoch 49/60\n",
      "51/51 [==============================] - 23s 454ms/step - loss: 2.1524 - accuracy: 0.5056 - f1_score: 0.4794 - val_loss: 2.0306 - val_accuracy: 0.5676 - val_f1_score: 0.4898\n",
      "Epoch 50/60\n",
      "51/51 [==============================] - 23s 460ms/step - loss: 2.1420 - accuracy: 0.5126 - f1_score: 0.4860 - val_loss: 2.0313 - val_accuracy: 0.5731 - val_f1_score: 0.5154\n",
      "Epoch 51/60\n",
      "51/51 [==============================] - 23s 460ms/step - loss: 2.1365 - accuracy: 0.5190 - f1_score: 0.4947 - val_loss: 2.0241 - val_accuracy: 0.5750 - val_f1_score: 0.5157\n",
      "Epoch 52/60\n",
      "51/51 [==============================] - 23s 456ms/step - loss: 2.1515 - accuracy: 0.5053 - f1_score: 0.4797 - val_loss: 2.0272 - val_accuracy: 0.5719 - val_f1_score: 0.5011\n",
      "Epoch 53/60\n",
      "51/51 [==============================] - 23s 455ms/step - loss: 2.1420 - accuracy: 0.5066 - f1_score: 0.4788 - val_loss: 2.0170 - val_accuracy: 0.5750 - val_f1_score: 0.4995\n",
      "Epoch 54/60\n",
      "51/51 [==============================] - 23s 459ms/step - loss: 2.1365 - accuracy: 0.5084 - f1_score: 0.4824 - val_loss: 2.0133 - val_accuracy: 0.5824 - val_f1_score: 0.5169\n",
      "Epoch 55/60\n",
      "51/51 [==============================] - 23s 457ms/step - loss: 2.1275 - accuracy: 0.5223 - f1_score: 0.4936 - val_loss: 2.0109 - val_accuracy: 0.5706 - val_f1_score: 0.5015\n",
      "Epoch 56/60\n",
      "51/51 [==============================] - 23s 456ms/step - loss: 2.1244 - accuracy: 0.5231 - f1_score: 0.4933 - val_loss: 2.0084 - val_accuracy: 0.5737 - val_f1_score: 0.4988\n",
      "Epoch 57/60\n",
      "51/51 [==============================] - 24s 466ms/step - loss: 2.1230 - accuracy: 0.5164 - f1_score: 0.4881 - val_loss: 2.0021 - val_accuracy: 0.5885 - val_f1_score: 0.5204\n",
      "Epoch 58/60\n",
      "51/51 [==============================] - 24s 465ms/step - loss: 2.1106 - accuracy: 0.5277 - f1_score: 0.4978 - val_loss: 1.9993 - val_accuracy: 0.5904 - val_f1_score: 0.5254\n",
      "Epoch 59/60\n",
      "51/51 [==============================] - 24s 467ms/step - loss: 2.1094 - accuracy: 0.5260 - f1_score: 0.4970 - val_loss: 2.0053 - val_accuracy: 0.5780 - val_f1_score: 0.5076\n",
      "Epoch 60/60\n",
      "51/51 [==============================] - 24s 463ms/step - loss: 2.1058 - accuracy: 0.5303 - f1_score: 0.4990 - val_loss: 1.9994 - val_accuracy: 0.5762 - val_f1_score: 0.5087\n"
     ]
    }
   ],
   "source": [
    "history_1 = model_1.fit(\n",
    "    train_data, \n",
    "    epochs=60, \n",
    "    validation_data=validation_data,\n",
    ")"
   ]
  },
  {
   "cell_type": "code",
   "execution_count": 82,
   "metadata": {
    "colab": {
     "base_uri": "https://localhost:8080/",
     "height": 265
    },
    "id": "qj2dAl-tnxY-",
    "outputId": "b7975840-720c-44e6-ba18-736088540703"
   },
   "outputs": [
    {
     "data": {
      "image/png": "[encoded data removed]",
      "text/plain": [
       "<Figure size 1400x500 with 2 Axes>"
      ]
     },
     "metadata": {},
     "output_type": "display_data"
    }
   ],
   "source": [
    "plot_train_metrics(history_1)"
   ]
  },
  {
   "cell_type": "markdown",
   "metadata": {},
   "source": [
    "Se puede ver que el modelo converge al mismo ritmo en el dataset de validación y de entrenamiento. Sin embargo, el accuracy y la pérdida no llegan a un valor óptimo. Si bien se utilizaron un buen número de épocas, parece que al modelo le falta todavia más entrenamiento. Debido al tiempo que toma entrenar el modelo, de momento se corta el entrenamiento con este resultado."
   ]
  },
  {
   "cell_type": "markdown",
   "metadata": {},
   "source": [
    "A continuación se verificará si el desempeño se mantiene con el conjunto de test."
   ]
  },
  {
   "cell_type": "code",
   "execution_count": 92,
   "metadata": {
    "colab": {
     "base_uri": "https://localhost:8080/"
    },
    "id": "HILK90qzn-kL",
    "outputId": "34985136-0e6f-4693-dcc4-c52c5ea77f4a"
   },
   "outputs": [
    {
     "name": "stdout",
     "output_type": "stream",
     "text": [
      "64/64 [==============================] - 6s 82ms/step\n"
     ]
    },
    {
     "data": {
      "text/plain": [
       "array([[0.68955404, 0.26790202, 0.042544  ],\n",
       "       [0.3939277 , 0.2955496 , 0.31052265],\n",
       "       [0.3600934 , 0.36512998, 0.2747766 ]], dtype=float32)"
      ]
     },
     "execution_count": 92,
     "metadata": {},
     "output_type": "execute_result"
    }
   ],
   "source": [
    "y_hat_prob = model_1.predict(X_test)\n",
    "y_hat_prob[:3]"
   ]
  },
  {
   "cell_type": "code",
   "execution_count": null,
   "metadata": {},
   "outputs": [],
   "source": [
    "y_hat = np.argmax(y_hat_prob, axis=1)"
   ]
  },
  {
   "cell_type": "code",
   "execution_count": 93,
   "metadata": {
    "colab": {
     "base_uri": "https://localhost:8080/"
    },
    "id": "tSNbyLNYwdqQ",
    "outputId": "a432dc0b-96ae-43af-da62-2a739a20761a"
   },
   "outputs": [
    {
     "name": "stdout",
     "output_type": "stream",
     "text": [
      "64/64 [==============================] - 7s 84ms/step - loss: 1.9815 - accuracy: 0.6037 - f1_score: 0.5295\n",
      "Test loss: 1.9814893007278442\n",
      "Test accuracy: 0.6036525368690491\n",
      "Test F1 Score: 0.5294635891914368\n"
     ]
    }
   ],
   "source": [
    "scores = model_1.evaluate(X_test, y_test)\n",
    "\n",
    "print(f\"Test loss: {scores[0]}\")\n",
    "print(f\"Test accuracy: {scores[1]}\")\n",
    "print(f\"Test F1 Score: {scores[2]}\")"
   ]
  },
  {
   "cell_type": "markdown",
   "metadata": {},
   "source": [
    "Las métricas obtenidas para el conjunto de test son consistentes con las obtenidas en el conjunto de validación."
   ]
  },
  {
   "cell_type": "code",
   "execution_count": 94,
   "metadata": {
    "colab": {
     "base_uri": "https://localhost:8080/",
     "height": 279
    },
    "id": "mGzdpPfcwlRL",
    "outputId": "4eaa89a1-c601-4a3b-cb0c-6e1cb940d8b5"
   },
   "outputs": [
    {
     "data": {
      "image/png": "[encoded data removed]",
      "text/plain": [
       "<Figure size 640x480 with 2 Axes>"
      ]
     },
     "metadata": {},
     "output_type": "display_data"
    }
   ],
   "source": [
    "cm = confusion_matrix(y_test.argmax(axis=1), y_hat)\n",
    "cmd = ConfusionMatrixDisplay(cm, display_labels=class_names)\n",
    "cmd.plot(cmap=plt.cm.Blues)\n",
    "plt.show()"
   ]
  },
  {
   "cell_type": "markdown",
   "metadata": {},
   "source": [
    "La matriz de confusión muestra que el modelo clasifica correctamente una cantidad significativa de instancias negativas y positivas, pero tiene dificultades con la clase neutral, ya que una gran parte de estas se clasifican incorrectamente como negativas o positivas."
   ]
  },
  {
   "cell_type": "code",
   "execution_count": 95,
   "metadata": {},
   "outputs": [],
   "source": [
    "model_1.save_weights('bert_model_1_weights.h5')"
   ]
  },
  {
   "cell_type": "code",
   "execution_count": 96,
   "metadata": {},
   "outputs": [
    {
     "name": "stderr",
     "output_type": "stream",
     "text": [
      "Some weights of the PyTorch model were not used when initializing the TF 2.0 model TFBertModel: ['cls.predictions.transform.dense.weight', 'cls.seq_relationship.weight', 'cls.predictions.transform.dense.bias', 'cls.predictions.transform.LayerNorm.bias', 'cls.predictions.bias', 'cls.seq_relationship.bias', 'cls.predictions.transform.LayerNorm.weight']\n",
      "- This IS expected if you are initializing TFBertModel from a PyTorch model trained on another task or with another architecture (e.g. initializing a TFBertForSequenceClassification model from a BertForPreTraining model).\n",
      "- This IS NOT expected if you are initializing TFBertModel from a PyTorch model that you expect to be exactly identical (e.g. initializing a TFBertForSequenceClassification model from a BertForSequenceClassification model).\n",
      "All the weights of TFBertModel were initialized from the PyTorch model.\n",
      "If your task is similar to the task the model of the checkpoint was trained on, you can already use TFBertModel for predictions without further training.\n"
     ]
    }
   ],
   "source": [
    "# Load the bert model\n",
    "bert_model = TFBertModel.from_pretrained(\"bert-base-uncased\")\n",
    "# Build the model\n",
    "model_1_loaded = build_model_1(bert_model, max_length, output_shape)\n",
    "# Load the weights\n",
    "model_1_loaded.load_weights('bert_model_1_weights.h5')"
   ]
  },
  {
   "cell_type": "code",
   "execution_count": 97,
   "metadata": {},
   "outputs": [
    {
     "name": "stdout",
     "output_type": "stream",
     "text": [
      "Inputs ids: tf.Tensor(\n",
      "[[  101  1045  2293  2023 10439   999   102     0     0     0     0     0\n",
      "      0     0     0     0     0     0     0     0     0     0     0     0\n",
      "      0     0     0     0     0     0     0     0     0     0     0     0\n",
      "      0     0     0     0     0     0     0     0     0     0     0     0\n",
      "      0     0     0     0     0     0     0     0     0     0     0     0\n",
      "      0     0     0     0     0     0     0     0     0     0     0     0\n",
      "      0     0     0     0     0     0     0     0     0     0     0     0\n",
      "      0     0     0     0     0     0     0     0     0     0     0     0\n",
      "      0     0     0     0     0     0     0     0     0     0     0     0\n",
      "      0     0     0     0     0     0     0     0     0     0     0     0\n",
      "      0     0     0     0     0     0     0     0     0     0     0     0\n",
      "      0     0     0     0     0     0     0     0]], shape=(1, 140), dtype=int32)\n",
      "Attention mask: tf.Tensor(\n",
      "[[1 1 1 1 1 1 1 0 0 0 0 0 0 0 0 0 0 0 0 0 0 0 0 0 0 0 0 0 0 0 0 0 0 0 0 0\n",
      "  0 0 0 0 0 0 0 0 0 0 0 0 0 0 0 0 0 0 0 0 0 0 0 0 0 0 0 0 0 0 0 0 0 0 0 0\n",
      "  0 0 0 0 0 0 0 0 0 0 0 0 0 0 0 0 0 0 0 0 0 0 0 0 0 0 0 0 0 0 0 0 0 0 0 0\n",
      "  0 0 0 0 0 0 0 0 0 0 0 0 0 0 0 0 0 0 0 0 0 0 0 0 0 0 0 0 0 0 0 0]], shape=(1, 140), dtype=int32)\n"
     ]
    }
   ],
   "source": [
    "text = \"I love this app!\"\n",
    "\n",
    "# Tokenize the text\n",
    "tf_batch = bert_tokenizer.encode_plus(\n",
    "    text,\n",
    "    add_special_tokens=True,\n",
    "    max_length=max_length, \n",
    "    return_token_type_ids=False,\n",
    "    return_attention_mask=True,\n",
    "    padding='max_length',\n",
    "    truncation=True,\n",
    "    return_tensors='tf'\n",
    ")\n",
    "\n",
    "print(\"Inputs ids:\", tf_batch['input_ids'])\n",
    "print(\"Attention mask:\", tf_batch['attention_mask'])\n",
    "\n",
    "X_test = [\n",
    "    tf_batch['input_ids'],  \n",
    "    tf_batch['attention_mask']\n",
    "]"
   ]
  },
  {
   "cell_type": "code",
   "execution_count": 98,
   "metadata": {},
   "outputs": [
    {
     "name": "stdout",
     "output_type": "stream",
     "text": [
      "1/1 [==============================] - 2s 2s/step\n",
      "Clasificación: positive\n"
     ]
    }
   ],
   "source": [
    "y_prob_ensayo = model_1_loaded.predict(X_ensayo)\n",
    "y_prob = np.argmax(y_prob_ensayo, axis=1)\n",
    "print(\"Clasificación:\", class_names[int(y_prob)])"
   ]
  },
  {
   "cell_type": "code",
   "execution_count": 99,
   "metadata": {},
   "outputs": [
    {
     "name": "stdout",
     "output_type": "stream",
     "text": [
      "1/1 [==============================] - 0s 84ms/step\n",
      "Clasificación: negative\n"
     ]
    }
   ],
   "source": [
    "text = \"I hate this product, it is terrible!\"\n",
    "\n",
    "# Tokenize the text\n",
    "tf_batch = bert_tokenizer.encode_plus(\n",
    "    text,\n",
    "    add_special_tokens=True,\n",
    "    max_length=max_length, \n",
    "    return_token_type_ids=False,\n",
    "    return_attention_mask=True,\n",
    "    padding='max_length',\n",
    "    truncation=True,\n",
    "    return_tensors='tf'\n",
    ")\n",
    "\n",
    "X_test = [\n",
    "    tf_batch['input_ids'],  \n",
    "    tf_batch['attention_mask']\n",
    "]\n",
    "\n",
    "y_prob_test = model_1_loaded.predict(X_test)\n",
    "y_prob = np.argmax(y_prob_test, axis=1)\n",
    "print(\"Clasificación:\", class_names[int(y_prob)])"
   ]
  },
  {
   "cell_type": "code",
   "execution_count": 103,
   "metadata": {},
   "outputs": [
    {
     "name": "stdout",
     "output_type": "stream",
     "text": [
      "1/1 [==============================] - 0s 116ms/step\n",
      "Clasificación: positive\n"
     ]
    }
   ],
   "source": [
    "text = \"The app is okay, nothing special.\"\n",
    "\n",
    "# Tokenize the text\n",
    "tf_batch = bert_tokenizer.encode_plus(\n",
    "    text,\n",
    "    add_special_tokens=True,\n",
    "    max_length=max_length, \n",
    "    return_token_type_ids=False,\n",
    "    return_attention_mask=True,\n",
    "    padding='max_length',\n",
    "    truncation=True,\n",
    "    return_tensors='tf'\n",
    ")\n",
    "\n",
    "X_test = [\n",
    "    tf_batch['input_ids'],  \n",
    "    tf_batch['attention_mask']\n",
    "]\n",
    "\n",
    "y_prob_test = model_1_loaded.predict(X_test)\n",
    "y_prob = np.argmax(y_prob_test, axis=1)\n",
    "print(\"Clasificación:\", class_names[int(y_prob)])"
   ]
  },
  {
   "cell_type": "markdown",
   "metadata": {},
   "source": [
    "Como se puede ver en las pruebas realizadas, el modelo con los pesos cargados realiza clasificaciones correctas."
   ]
  },
  {
   "cell_type": "markdown",
   "metadata": {
    "id": "0ugxcD9s9o8l"
   },
   "source": [
    "## Segundo modelo: BERT Fine tuning"
   ]
  },
  {
   "cell_type": "markdown",
   "metadata": {},
   "source": [
    "Para evitar problemas con la memoria de la GPU, se utilizará un tamaño de batch más pequeño para el fine tuning."
   ]
  },
  {
   "cell_type": "code",
   "execution_count": 48,
   "metadata": {},
   "outputs": [],
   "source": [
    "batch_size = 32\n",
    "max_length = 140\n",
    "\n",
    "train_input_examples, validation_input_examples = convert_data_to_examples(sentences, y, idx_train, idx_val)\n",
    "train_data = convert_examples_to_tf_dataset(list(train_input_examples), bert_tokenizer, output_shape=output_shape, max_length=max_length)\n",
    "\n",
    "train_data = train_data.shuffle(100).batch(batch_size)\n",
    "\n",
    "validation_data = convert_examples_to_tf_dataset(list(validation_input_examples), bert_tokenizer, output_shape=output_shape, max_length=max_length)\n",
    "validation_data = validation_data.batch(batch_size)"
   ]
  },
  {
   "cell_type": "markdown",
   "metadata": {},
   "source": [
    "El resto del procesamiento es similar al anterior."
   ]
  },
  {
   "cell_type": "code",
   "execution_count": 49,
   "metadata": {},
   "outputs": [],
   "source": [
    "pred_sentences = [sentences[i] for i in idx_test]\n",
    "tf_batch = bert_tokenizer(pred_sentences, max_length=max_length, padding=True, truncation=True, return_tensors='tf')"
   ]
  },
  {
   "cell_type": "code",
   "execution_count": 50,
   "metadata": {},
   "outputs": [],
   "source": [
    "X_test = [\n",
    "    tf_batch['input_ids'],  \n",
    "    tf_batch['attention_mask']\n",
    "]\n",
    "\n",
    "y_test = y[idx_test]"
   ]
  },
  {
   "cell_type": "code",
   "execution_count": 51,
   "metadata": {},
   "outputs": [
    {
     "name": "stdout",
     "output_type": "stream",
     "text": [
      "X_test[0] shape: (1692, 140)\n",
      "y_test shape: (1692, 3)\n"
     ]
    }
   ],
   "source": [
    "print(f\"X_test[0] shape: {X_test[0].shape}\")\n",
    "print(f\"y_test shape: {y_test.shape}\")"
   ]
  },
  {
   "cell_type": "markdown",
   "metadata": {},
   "source": [
    "Definiendo el modelo BERT pre-entrenado con pesos no congelados para realizar fine tuning. "
   ]
  },
  {
   "cell_type": "code",
   "execution_count": 52,
   "metadata": {},
   "outputs": [],
   "source": [
    "def build_model_2(bert_model, max_length, output_shape, freeze_bert=False):\n",
    "    \"\"\"\n",
    "    Build a model using the BERT model as the base\n",
    "    \"\"\"   \n",
    "    # Set BERT model trainable or not\n",
    "    bert_model.trainable = not freeze_bert\n",
    "\n",
    "    # Define inputs\n",
    "    input_ids = tf.keras.layers.Input(shape=(max_length,), dtype=tf.int32, name='input_ids')\n",
    "    attention_mask = tf.keras.layers.Input(shape=(max_length,), dtype=tf.int32, name='attention_mask')\n",
    "\n",
    "    # Pass inputs to BERT model\n",
    "    outputs = bert_model(input_ids, attention_mask=attention_mask)\n",
    "\n",
    "    # Extract the pooled output\n",
    "    pooled_output = outputs.pooler_output\n",
    "\n",
    "    # Define the rest of the classification layers with batch normalization\n",
    "    x = tf.keras.layers.Dropout(0.35)(pooled_output)\n",
    "    x = tf.keras.layers.Dense(32)(x)\n",
    "    x = tf.keras.layers.Activation('relu')(x)\n",
    "    x = tf.keras.layers.Dropout(0.3)(x)\n",
    "    \n",
    "    output = tf.keras.layers.Dense(output_shape, activation='softmax')(x)\n",
    "\n",
    "    # Create the model\n",
    "    model = tf.keras.Model(inputs=[input_ids, attention_mask], outputs=output)\n",
    "    \n",
    "    return model"
   ]
  },
  {
   "cell_type": "code",
   "execution_count": 53,
   "metadata": {
    "colab": {
     "base_uri": "https://localhost:8080/"
    },
    "id": "5SyRhGOAsTM5",
    "outputId": "edd930c3-f817-4e43-9f1e-9ed932239d1e"
   },
   "outputs": [
    {
     "name": "stderr",
     "output_type": "stream",
     "text": [
      "Some weights of the PyTorch model were not used when initializing the TF 2.0 model TFBertModel: ['cls.predictions.transform.LayerNorm.weight', 'cls.predictions.bias', 'cls.seq_relationship.weight', 'cls.predictions.transform.dense.bias', 'cls.predictions.transform.LayerNorm.bias', 'cls.seq_relationship.bias', 'cls.predictions.transform.dense.weight']\n",
      "- This IS expected if you are initializing TFBertModel from a PyTorch model trained on another task or with another architecture (e.g. initializing a TFBertForSequenceClassification model from a BertForPreTraining model).\n",
      "- This IS NOT expected if you are initializing TFBertModel from a PyTorch model that you expect to be exactly identical (e.g. initializing a TFBertForSequenceClassification model from a BertForSequenceClassification model).\n",
      "All the weights of TFBertModel were initialized from the PyTorch model.\n",
      "If your task is similar to the task the model of the checkpoint was trained on, you can already use TFBertModel for predictions without further training.\n"
     ]
    },
    {
     "name": "stdout",
     "output_type": "stream",
     "text": [
      "Model: \"model_1\"\n",
      "__________________________________________________________________________________________________\n",
      " Layer (type)                Output Shape                 Param #   Connected to                  \n",
      "==================================================================================================\n",
      " input_ids (InputLayer)      [(None, 140)]                0         []                            \n",
      "                                                                                                  \n",
      " attention_mask (InputLayer  [(None, 140)]                0         []                            \n",
      " )                                                                                                \n",
      "                                                                                                  \n",
      " tf_bert_model_1 (TFBertMod  TFBaseModelOutputWithPooli   1094822   ['input_ids[0][0]',           \n",
      " el)                         ngAndCrossAttentions(last_   40         'attention_mask[0][0]']      \n",
      "                             hidden_state=(None, 140, 7                                           \n",
      "                             68),                                                                 \n",
      "                              pooler_output=(None, 768)                                           \n",
      "                             , past_key_values=None, hi                                           \n",
      "                             dden_states=None, attentio                                           \n",
      "                             ns=None, cross_attentions=                                           \n",
      "                             None)                                                                \n",
      "                                                                                                  \n",
      " dense_2 (Dense)             (None, 16)                   12304     ['tf_bert_model_1[0][1]']     \n",
      "                                                                                                  \n",
      " activation_1 (Activation)   (None, 16)                   0         ['dense_2[0][0]']             \n",
      "                                                                                                  \n",
      " dropout_75 (Dropout)        (None, 16)                   0         ['activation_1[0][0]']        \n",
      "                                                                                                  \n",
      " dense_3 (Dense)             (None, 3)                    51        ['dropout_75[0][0]']          \n",
      "                                                                                                  \n",
      "==================================================================================================\n",
      "Total params: 109494595 (417.69 MB)\n",
      "Trainable params: 109494595 (417.69 MB)\n",
      "Non-trainable params: 0 (0.00 Byte)\n",
      "__________________________________________________________________________________________________\n"
     ]
    }
   ],
   "source": [
    "# Load the pre-trained BERT model\n",
    "bert_model = TFBertModel.from_pretrained(\"bert-base-uncased\")\n",
    "\n",
    "# Build the model without freezing the BERT model\n",
    "model_2 = build_model_2(bert_model, max_length, output_shape, freeze_bert=False)\n",
    "\n",
    "for layer in model_2.layers:\n",
    "  layer.trainable = True\n",
    "\n",
    "# Define the optimizer with weight decay \n",
    "optimizer = tf.keras.optimizers.Adam(learning_rate=1e-5, weight_decay=0.01)\n",
    "\n",
    "# Compile the model\n",
    "model_2.compile(\n",
    "    optimizer=optimizer,\n",
    "    loss='categorical_crossentropy',\n",
    "    metrics=['accuracy'] \n",
    ")\n",
    "\n",
    "model_2.summary()"
   ]
  },
  {
   "cell_type": "code",
   "execution_count": 54,
   "metadata": {
    "colab": {
     "base_uri": "https://localhost:8080/"
    },
    "id": "-TDb4gKKtW1r",
    "outputId": "132c1ab7-3fb7-4cbd-b1cc-d75fbd5015bf"
   },
   "outputs": [
    {
     "name": "stdout",
     "output_type": "stream",
     "text": [
      "Epoch 1/8\n",
      "    170/Unknown - 58s 229ms/step - loss: 0.9252 - accuracy: 0.5353"
     ]
    },
    {
     "name": "stderr",
     "output_type": "stream",
     "text": [
      "2024-10-21 02:06:01.275765: I tensorflow/core/framework/local_rendezvous.cc:427] Local rendezvous send item cancelled. Key hash: 95183044109951994\n",
      "2024-10-21 02:06:01.275800: I tensorflow/core/framework/local_rendezvous.cc:427] Local rendezvous send item cancelled. Key hash: 14870479012751365542\n",
      "2024-10-21 02:06:01.275803: I tensorflow/core/framework/local_rendezvous.cc:427] Local rendezvous send item cancelled. Key hash: 2152260465830076400\n",
      "2024-10-21 02:06:01.275805: I tensorflow/core/framework/local_rendezvous.cc:427] Local rendezvous send item cancelled. Key hash: 15047347346417695615\n"
     ]
    },
    {
     "name": "stdout",
     "output_type": "stream",
     "text": [
      "170/170 [==============================] - 64s 263ms/step - loss: 0.9252 - accuracy: 0.5353 - val_loss: 0.7500 - val_accuracy: 0.6403\n",
      "Epoch 2/8\n"
     ]
    },
    {
     "name": "stderr",
     "output_type": "stream",
     "text": [
      "2024-10-21 02:06:06.815021: I tensorflow/core/framework/local_rendezvous.cc:427] Local rendezvous send item cancelled. Key hash: 12065781537649750840\n",
      "2024-10-21 02:06:06.815076: I tensorflow/core/framework/local_rendezvous.cc:427] Local rendezvous send item cancelled. Key hash: 5103982760172801174\n",
      "2024-10-21 02:06:06.815080: I tensorflow/core/framework/local_rendezvous.cc:404] Local rendezvous is aborting with status: OUT_OF_RANGE: End of sequence\n",
      "\t [[{{node IteratorGetNext}}]]\n",
      "\t [[IteratorGetNext/_4]]\n",
      "2024-10-21 02:06:06.815107: I tensorflow/core/framework/local_rendezvous.cc:427] Local rendezvous send item cancelled. Key hash: 7188212429236667619\n",
      "2024-10-21 02:06:06.815112: I tensorflow/core/framework/local_rendezvous.cc:427] Local rendezvous send item cancelled. Key hash: 7617176323217180288\n"
     ]
    },
    {
     "name": "stdout",
     "output_type": "stream",
     "text": [
      "170/170 [==============================] - 42s 250ms/step - loss: 0.7588 - accuracy: 0.6415 - val_loss: 0.7478 - val_accuracy: 0.6581\n",
      "Epoch 3/8\n",
      "170/170 [==============================] - 43s 250ms/step - loss: 0.6715 - accuracy: 0.6919 - val_loss: 0.7714 - val_accuracy: 0.6499\n",
      "Epoch 4/8\n",
      "170/170 [==============================] - 43s 251ms/step - loss: 0.5931 - accuracy: 0.7351 - val_loss: 0.8555 - val_accuracy: 0.6551\n",
      "Epoch 5/8\n",
      "170/170 [==============================] - 43s 252ms/step - loss: 0.5114 - accuracy: 0.7824 - val_loss: 0.8594 - val_accuracy: 0.6617\n",
      "Epoch 6/8\n",
      "170/170 [==============================] - 43s 251ms/step - loss: 0.4325 - accuracy: 0.8277 - val_loss: 0.9424 - val_accuracy: 0.6492\n",
      "Epoch 7/8\n",
      "170/170 [==============================] - 42s 248ms/step - loss: 0.3604 - accuracy: 0.8633 - val_loss: 1.0837 - val_accuracy: 0.6588\n",
      "Epoch 8/8\n",
      "170/170 [==============================] - 42s 249ms/step - loss: 0.2927 - accuracy: 0.8975 - val_loss: 1.1622 - val_accuracy: 0.6521\n"
     ]
    }
   ],
   "source": [
    "history_2 = model_2.fit(\n",
    "    train_data, \n",
    "    epochs=8,\n",
    "    validation_data=validation_data,\n",
    ")"
   ]
  },
  {
   "cell_type": "code",
   "execution_count": 55,
   "metadata": {},
   "outputs": [
    {
     "data": {
      "image/png": "[encoded data removed]",
      "text/plain": [
       "<Figure size 1400x500 with 2 Axes>"
      ]
     },
     "metadata": {},
     "output_type": "display_data"
    }
   ],
   "source": [
    "plot_train_metrics(history_2)"
   ]
  },
  {
   "cell_type": "markdown",
   "metadata": {},
   "source": [
    "A continuación se verificará si el desempeño se mantiene con el conjunto de test."
   ]
  },
  {
   "cell_type": "code",
   "execution_count": 56,
   "metadata": {},
   "outputs": [
    {
     "name": "stdout",
     "output_type": "stream",
     "text": [
      "53/53 [==============================] - 6s 82ms/step\n"
     ]
    },
    {
     "data": {
      "text/plain": [
       "array([[7.5662953e-01, 2.1141809e-01, 3.1952396e-02],\n",
       "       [1.4735452e-02, 9.3510050e-01, 5.0164033e-02],\n",
       "       [9.3962801e-05, 6.6276487e-05, 9.9983978e-01]], dtype=float32)"
      ]
     },
     "execution_count": 56,
     "metadata": {},
     "output_type": "execute_result"
    }
   ],
   "source": [
    "y_hat_prob = model_2.predict(X_test)\n",
    "y_hat_prob[:3]"
   ]
  },
  {
   "cell_type": "code",
   "execution_count": 57,
   "metadata": {},
   "outputs": [],
   "source": [
    "y_hat = np.argmax(y_hat_prob, axis=1)"
   ]
  },
  {
   "cell_type": "code",
   "execution_count": 58,
   "metadata": {},
   "outputs": [
    {
     "name": "stdout",
     "output_type": "stream",
     "text": [
      "53/53 [==============================] - 6s 83ms/step - loss: 1.1230 - accuracy: 0.6625\n",
      "Test loss: 1.1230450868606567\n",
      "Test accuracy: 0.6625295281410217\n"
     ]
    }
   ],
   "source": [
    "scores = model_2.evaluate(X_test, y_test)\n",
    "\n",
    "print(f\"Test loss: {scores[0]}\")\n",
    "print(f\"Test accuracy: {scores[1]}\")"
   ]
  },
  {
   "cell_type": "markdown",
   "metadata": {},
   "source": [
    "Las métricas obtenidas para el conjunto de test son consistentes con las obtenidas en el conjunto de validación."
   ]
  },
  {
   "cell_type": "code",
   "execution_count": 59,
   "metadata": {},
   "outputs": [
    {
     "data": {
      "image/png": "[encoded data removed]",
      "text/plain": [
       "<Figure size 640x480 with 2 Axes>"
      ]
     },
     "metadata": {},
     "output_type": "display_data"
    }
   ],
   "source": [
    "cm = confusion_matrix(y_test.argmax(axis=1), y_hat)\n",
    "cmd = ConfusionMatrixDisplay(cm, display_labels=class_names)\n",
    "cmd.plot(cmap=plt.cm.Blues)\n",
    "plt.show()"
   ]
  },
  {
   "cell_type": "markdown",
   "metadata": {},
   "source": [
    "La matriz de confusión muestra que el modelo ha mejorado en la clasificación de la clase neutral, pero ha empeorado en la clasificación de las clases negativas y positivas."
   ]
  },
  {
   "cell_type": "code",
   "execution_count": 61,
   "metadata": {},
   "outputs": [],
   "source": [
    "model_2.save_weights('bert_model_2_weights.h5')"
   ]
  },
  {
   "cell_type": "code",
   "execution_count": 62,
   "metadata": {},
   "outputs": [
    {
     "name": "stderr",
     "output_type": "stream",
     "text": [
      "Some weights of the PyTorch model were not used when initializing the TF 2.0 model TFBertModel: ['cls.predictions.transform.LayerNorm.weight', 'cls.predictions.bias', 'cls.seq_relationship.weight', 'cls.predictions.transform.dense.bias', 'cls.predictions.transform.LayerNorm.bias', 'cls.seq_relationship.bias', 'cls.predictions.transform.dense.weight']\n",
      "- This IS expected if you are initializing TFBertModel from a PyTorch model trained on another task or with another architecture (e.g. initializing a TFBertForSequenceClassification model from a BertForPreTraining model).\n",
      "- This IS NOT expected if you are initializing TFBertModel from a PyTorch model that you expect to be exactly identical (e.g. initializing a TFBertForSequenceClassification model from a BertForSequenceClassification model).\n",
      "All the weights of TFBertModel were initialized from the PyTorch model.\n",
      "If your task is similar to the task the model of the checkpoint was trained on, you can already use TFBertModel for predictions without further training.\n"
     ]
    }
   ],
   "source": [
    "# Load the bert model\n",
    "bert_model = TFBertModel.from_pretrained(\"bert-base-uncased\")\n",
    "# Build the model\n",
    "model_2_loaded = build_model_2(bert_model, max_length, output_shape, freeze_bert=False)\n",
    "# Load the weights\n",
    "model_2_loaded.load_weights('bert_model_2_weights.h5')"
   ]
  },
  {
   "cell_type": "code",
   "execution_count": 63,
   "metadata": {},
   "outputs": [
    {
     "name": "stdout",
     "output_type": "stream",
     "text": [
      "Inputs ids: tf.Tensor(\n",
      "[[  101  1045  2293  2023 10439   999   102     0     0     0     0     0\n",
      "      0     0     0     0     0     0     0     0     0     0     0     0\n",
      "      0     0     0     0     0     0     0     0     0     0     0     0\n",
      "      0     0     0     0     0     0     0     0     0     0     0     0\n",
      "      0     0     0     0     0     0     0     0     0     0     0     0\n",
      "      0     0     0     0     0     0     0     0     0     0     0     0\n",
      "      0     0     0     0     0     0     0     0     0     0     0     0\n",
      "      0     0     0     0     0     0     0     0     0     0     0     0\n",
      "      0     0     0     0     0     0     0     0     0     0     0     0\n",
      "      0     0     0     0     0     0     0     0     0     0     0     0\n",
      "      0     0     0     0     0     0     0     0     0     0     0     0\n",
      "      0     0     0     0     0     0     0     0]], shape=(1, 140), dtype=int32)\n",
      "Attention mask: tf.Tensor(\n",
      "[[1 1 1 1 1 1 1 0 0 0 0 0 0 0 0 0 0 0 0 0 0 0 0 0 0 0 0 0 0 0 0 0 0 0 0 0\n",
      "  0 0 0 0 0 0 0 0 0 0 0 0 0 0 0 0 0 0 0 0 0 0 0 0 0 0 0 0 0 0 0 0 0 0 0 0\n",
      "  0 0 0 0 0 0 0 0 0 0 0 0 0 0 0 0 0 0 0 0 0 0 0 0 0 0 0 0 0 0 0 0 0 0 0 0\n",
      "  0 0 0 0 0 0 0 0 0 0 0 0 0 0 0 0 0 0 0 0 0 0 0 0 0 0 0 0 0 0 0 0]], shape=(1, 140), dtype=int32)\n"
     ]
    }
   ],
   "source": [
    "text = \"I love this app!\"\n",
    "\n",
    "# Tokenize the text\n",
    "tf_batch = bert_tokenizer.encode_plus(\n",
    "    text,\n",
    "    add_special_tokens=True,\n",
    "    max_length=max_length, \n",
    "    return_token_type_ids=False,\n",
    "    return_attention_mask=True,\n",
    "    padding='max_length',\n",
    "    truncation=True,\n",
    "    return_tensors='tf'\n",
    ")\n",
    "\n",
    "print(\"Inputs ids:\", tf_batch['input_ids'])\n",
    "print(\"Attention mask:\", tf_batch['attention_mask'])\n",
    "\n",
    "X_test = [\n",
    "    tf_batch['input_ids'],  \n",
    "    tf_batch['attention_mask']\n",
    "]"
   ]
  },
  {
   "cell_type": "code",
   "execution_count": 65,
   "metadata": {},
   "outputs": [
    {
     "name": "stdout",
     "output_type": "stream",
     "text": [
      "1/1 [==============================] - 2s 2s/step\n",
      "Clasificación: positive\n"
     ]
    }
   ],
   "source": [
    "y_prob_ensayo = model_2_loaded.predict(X_test)\n",
    "y_prob = np.argmax(y_prob_ensayo, axis=1)\n",
    "print(\"Clasificación:\", class_names[int(y_prob)])"
   ]
  },
  {
   "cell_type": "code",
   "execution_count": 66,
   "metadata": {},
   "outputs": [
    {
     "name": "stdout",
     "output_type": "stream",
     "text": [
      "1/1 [==============================] - 0s 109ms/step\n",
      "Clasificación: negative\n"
     ]
    }
   ],
   "source": [
    "text = \"I hate this product, it is terrible!\"\n",
    "\n",
    "# Tokenize the text\n",
    "tf_batch = bert_tokenizer.encode_plus(\n",
    "    text,\n",
    "    add_special_tokens=True,\n",
    "    max_length=max_length, \n",
    "    return_token_type_ids=False,\n",
    "    return_attention_mask=True,\n",
    "    padding='max_length',\n",
    "    truncation=True,\n",
    "    return_tensors='tf'\n",
    ")\n",
    "\n",
    "X_test = [\n",
    "    tf_batch['input_ids'],  \n",
    "    tf_batch['attention_mask']\n",
    "]\n",
    "\n",
    "y_prob_test = model_2_loaded.predict(X_test)\n",
    "y_prob = np.argmax(y_prob_test, axis=1)\n",
    "print(\"Clasificación:\", class_names[int(y_prob)])"
   ]
  },
  {
   "cell_type": "code",
   "execution_count": 67,
   "metadata": {},
   "outputs": [
    {
     "name": "stdout",
     "output_type": "stream",
     "text": [
      "1/1 [==============================] - 0s 105ms/step\n",
      "Clasificación: negative\n"
     ]
    }
   ],
   "source": [
    "text = \"The app is okay, nothing special.\"\n",
    "\n",
    "# Tokenize the text\n",
    "tf_batch = bert_tokenizer.encode_plus(\n",
    "    text,\n",
    "    add_special_tokens=True,\n",
    "    max_length=max_length, \n",
    "    return_token_type_ids=False,\n",
    "    return_attention_mask=True,\n",
    "    padding='max_length',\n",
    "    truncation=True,\n",
    "    return_tensors='tf'\n",
    ")\n",
    "\n",
    "X_test = [\n",
    "    tf_batch['input_ids'],  \n",
    "    tf_batch['attention_mask']\n",
    "]\n",
    "\n",
    "y_prob_test = model_2_loaded.predict(X_test)\n",
    "y_prob = np.argmax(y_prob_test, axis=1)\n",
    "print(\"Clasificación:\", class_names[int(y_prob)])"
   ]
  },
  {
   "cell_type": "code",
   "execution_count": null,
   "metadata": {},
   "outputs": [],
   "source": []
  }
 ],
 "metadata": {
  "accelerator": "GPU",
  "colab": {
   "provenance": []
  },
  "kernelspec": {
   "display_name": "venv",
   "language": "python",
   "name": "python3"
  },
  "language_info": {
   "codemirror_mode": {
    "name": "ipython",
    "version": 3
   },
   "file_extension": ".py",
   "mimetype": "text/x-python",
   "name": "python",
   "nbconvert_exporter": "python",
   "pygments_lexer": "ipython3",
   "version": "3.9.17"
  }
 },
 "nbformat": 4,
 "nbformat_minor": 4
}
