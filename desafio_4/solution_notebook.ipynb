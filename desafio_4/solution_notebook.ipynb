{
 "cells": [
  {
   "cell_type": "markdown",
   "metadata": {
    "vscode": {
     "languageId": "plaintext"
    }
   },
   "source": [
    "# Desafio 4 - LSTM Bot QA"
   ]
  },
  {
   "cell_type": "markdown",
   "metadata": {},
   "source": [
    "## Importación de librerías"
   ]
  },
  {
   "cell_type": "code",
   "execution_count": 34,
   "metadata": {},
   "outputs": [],
   "source": [
    "import re\n",
    "import os\n",
    "import zipfile\n",
    "\n",
    "import numpy as np\n",
    "import pandas as pd\n",
    "import gdown\n",
    "import json\n",
    "\n",
    "import tensorflow as tf\n",
    "from tensorflow.keras.preprocessing.text import one_hot, Tokenizer\n",
    "from tensorflow.keras.utils import pad_sequences\n",
    "from tensorflow.config import list_physical_devices\n",
    "from keras.models import Sequential\n",
    "from keras.layers import Activation, Dropout, Dense\n",
    "from keras.layers import Flatten, LSTM, SimpleRNN\n",
    "from keras.regularizers import l2\n",
    "from keras.models import Model\n",
    "from tensorflow.keras.layers import Embedding\n",
    "from sklearn.model_selection import train_test_split\n",
    "from keras.layers import Input\n",
    "from tensorflow.keras.preprocessing.sequence import pad_sequences\n",
    "from keras.utils import to_categorical"
   ]
  },
  {
   "cell_type": "code",
   "execution_count": 4,
   "metadata": {},
   "outputs": [
    {
     "name": "stdout",
     "output_type": "stream",
     "text": [
      "Available GPU(s): [PhysicalDevice(name='/physical_device:GPU:0', device_type='GPU')]\n"
     ]
    }
   ],
   "source": [
    "gpus = list_physical_devices('GPU')\n",
    "\n",
    "if gpus:\n",
    "    print(f\"Available GPU(s): {gpus}\")\n",
    "else:\n",
    "    print(\"No GPU detected. Using CPU instead.\")"
   ]
  },
  {
   "cell_type": "markdown",
   "metadata": {},
   "source": [
    "## Carga de datos"
   ]
  },
  {
   "cell_type": "code",
   "execution_count": 5,
   "metadata": {},
   "outputs": [
    {
     "name": "stdout",
     "output_type": "stream",
     "text": [
      "Dataset already downloaded\n"
     ]
    }
   ],
   "source": [
    "if os.access('data_volunteers.json', os.F_OK) is False:\n",
    "    url = 'https://drive.google.com/uc?id=1awUxYwImF84MIT5-jCaYAPe2QwSgS1hN&export=download'\n",
    "    output = 'data_volunteers.json'\n",
    "    gdown.download(url, output, quiet=False)\n",
    "else:\n",
    "    print(\"Dataset already downloaded\")"
   ]
  },
  {
   "cell_type": "code",
   "execution_count": 6,
   "metadata": {},
   "outputs": [],
   "source": [
    "text_file = \"data_volunteers.json\"\n",
    "\n",
    "with open(text_file) as f:\n",
    "    data = json.load(f)"
   ]
  },
  {
   "cell_type": "code",
   "execution_count": 7,
   "metadata": {},
   "outputs": [
    {
     "data": {
      "text/plain": [
       "dict_keys(['dialog', 'start_time', 'end_time', 'bot_profile', 'user_profile', 'eval_score', 'profile_match', 'participant1_id', 'participant2_id'])"
      ]
     },
     "execution_count": 7,
     "metadata": {},
     "output_type": "execute_result"
    }
   ],
   "source": [
    "data[0].keys()"
   ]
  },
  {
   "cell_type": "markdown",
   "metadata": {},
   "source": [
    "## Data preparation"
   ]
  },
  {
   "cell_type": "markdown",
   "metadata": {},
   "source": [
    "Se comienza la preparación de los datos realizando una limpieza y separación de estos."
   ]
  },
  {
   "cell_type": "code",
   "execution_count": 9,
   "metadata": {},
   "outputs": [
    {
     "name": "stdout",
     "output_type": "stream",
     "text": [
      "Number of total rows: 1111\n",
      "Number of rows used: 481\n"
     ]
    }
   ],
   "source": [
    "# Initialize lists for the input and output sequences\n",
    "chat_in = []\n",
    "chat_out = []\n",
    "\n",
    "input_sentences = []\n",
    "output_sentences = []\n",
    "output_sentences_inputs = []\n",
    "\n",
    "max_length = 12\n",
    "\n",
    "def clean_text(txt):\n",
    "    # Convert text to lowercase\n",
    "    txt = txt.lower()\n",
    "    \n",
    "    # Replace common contractions\n",
    "    txt = txt.replace(\"\\'d\", \" had\")\n",
    "    txt = txt.replace(\"\\'s\", \" is\")\n",
    "    txt = txt.replace(\"\\'m\", \" am\")\n",
    "    txt = txt.replace(\"don't\", \"do not\")\n",
    "    \n",
    "    # Remove all non-alphanumeric characters\n",
    "    txt = re.sub(r'\\W+', ' ', txt)\n",
    "    \n",
    "    return txt\n",
    "\n",
    "for line in data:\n",
    "    for i in range(len(line['dialog']) - 1):\n",
    "        # Clean and extract the input and output sentences\n",
    "        chat_in = clean_text(line['dialog'][i]['text'])\n",
    "        chat_out = clean_text(line['dialog'][i + 1]['text'])\n",
    "\n",
    "        # If either sentence exceeds the maximum allowed length, skip them\n",
    "        if len(chat_in) >= max_length or len(chat_out) >= max_length:\n",
    "            continue\n",
    "        \n",
    "        # Assign the cleaned sentences to input and output variables\n",
    "        input_sentence, output = chat_in, chat_out\n",
    "        \n",
    "        # Add the <eos> token to the end of the output sentence\n",
    "        output_sentence = output + ' <eos>'\n",
    "        # Add the <sos> token to the beginning of the output sentence\n",
    "        output_sentence_input = '<sos> ' + output\n",
    "\n",
    "        # Append the processed sentences to their respective lists\n",
    "        input_sentences.append(input_sentence)\n",
    "        output_sentences.append(output_sentence)\n",
    "        output_sentences_inputs.append(output_sentence_input)\n",
    "\n",
    "# Print the number of rows (sentence pairs) used in total\n",
    "print(\"Number of total rows:\", len(data))\n",
    "print(\"Number of rows used:\", len(input_sentences))"
   ]
  },
  {
   "cell_type": "code",
   "execution_count": 14,
   "metadata": {},
   "outputs": [
    {
     "data": {
      "text/plain": [
       "('hi ', 'hello  <eos>', '<sos> hello ')"
      ]
     },
     "execution_count": 14,
     "metadata": {},
     "output_type": "execute_result"
    }
   ],
   "source": [
    "input_sentences[1], output_sentences[1], output_sentences_inputs[1]"
   ]
  },
  {
   "cell_type": "markdown",
   "metadata": {},
   "source": [
    "Se tokeniza el texto de entrada para obtener los valores de `word2idx_inputs` y `max_input_len`."
   ]
  },
  {
   "cell_type": "code",
   "execution_count": 20,
   "metadata": {},
   "outputs": [
    {
     "name": "stdout",
     "output_type": "stream",
     "text": [
      "Words in the vocabulary: 201\n",
      "Larger sentence length: 4\n"
     ]
    }
   ],
   "source": [
    "# Define the maximum vocabulary size\n",
    "MAX_VOCAB_SIZE = 8000\n",
    "\n",
    "# Tokenizer for input sentences\n",
    "input_tokenizer = Tokenizer(num_words=MAX_VOCAB_SIZE)\n",
    "input_tokenizer.fit_on_texts(input_sentences)\n",
    "\n",
    "# Convert input sentences to sequences of integers\n",
    "input_integer_sequences = input_tokenizer.texts_to_sequences(input_sentences)\n",
    "\n",
    "# Create word-to-index mapping for inputs\n",
    "word2idx_inputs = input_tokenizer.word_index\n",
    "\n",
    "# Get the maximum length of input sequences\n",
    "max_input_len = max(len(s) for s in encoder_input_sequences)\n",
    "\n",
    "print(f\"Words in the vocabulary: {len(word2idx_inputs)}\")\n",
    "print(f\"Larger sentence length: {max_input_len}\")"
   ]
  },
  {
   "cell_type": "markdown",
   "metadata": {},
   "source": [
    "Se tokenizan las respuestas para obtener los valores de `word2idx_outputs`, `max_out_len` y `num_words_output`."
   ]
  },
  {
   "cell_type": "code",
   "execution_count": 21,
   "metadata": {},
   "outputs": [
    {
     "name": "stdout",
     "output_type": "stream",
     "text": [
      "Words in the vocabulary: 213\n",
      "Larger output sentence length: 5\n",
      "Total number of words in the output vocabulary: 214\n"
     ]
    }
   ],
   "source": [
    "# Tokenizer for output sentences\n",
    "output_tokenizer = Tokenizer(num_words=MAX_VOCAB_SIZE, filters='!\"#$%&()*+,-./:;=¿?@[\\\\]^_`{|}~\\t\\n')\n",
    "output_tokenizer.fit_on_texts([\"<sos>\", \"<eos>\"] + output_sentences)\n",
    "\n",
    "# Convert output sentences to sequences of integers\n",
    "output_integer_sequences = output_tokenizer.texts_to_sequences(output_sentences)\n",
    "decoder_input_integer_sequences = output_tokenizer.texts_to_sequences(output_sentences_inputs)\n",
    "\n",
    "# Create word-to-index mapping for outputs\n",
    "word2idx_outputs = output_tokenizer.word_index\n",
    "\n",
    "# Total number of words in the output vocabulary\n",
    "num_words_output = min(len(word2idx_outputs) + 1, MAX_VOCAB_SIZE)\n",
    "\n",
    "# Get the maximum length of output sequences\n",
    "max_out_len = max(len(s) for s in output_integer_sequences)\n",
    "\n",
    "print(f\"Words in the vocabulary: {len(word2idx_outputs)}\")\n",
    "print(f\"Larger output sentence length: {max_out_len}\")\n",
    "print(f\"Total number of words in the output vocabulary: {num_words_output}\")"
   ]
  },
  {
   "cell_type": "code",
   "execution_count": 22,
   "metadata": {},
   "outputs": [],
   "source": [
    "# Define the maximum lengths for padding\n",
    "max_input_len = 16\n",
    "max_out_len = 18"
   ]
  },
  {
   "cell_type": "markdown",
   "metadata": {},
   "source": [
    "Para evitar problemas con los recursos de memoria, se limita el número de palabras. Se obtendrán: `encoder_input_sequences`, `decoder_output_sequences` y `decoder_targets`."
   ]
  },
  {
   "cell_type": "code",
   "execution_count": 27,
   "metadata": {},
   "outputs": [
    {
     "name": "stdout",
     "output_type": "stream",
     "text": [
      "Number of rows in the dataset: 481\n",
      "encoder_input_sequences shape: (481, 16)\n",
      "decoder_input_sequences shape: (481, 18)\n"
     ]
    }
   ],
   "source": [
    "# Pad the input sequences to have the same length\n",
    "encoder_input_sequences = pad_sequences(input_integer_sequences, maxlen=max_input_len)\n",
    "\n",
    "# Pad the decoder input and output sequences\n",
    "decoder_input_sequences  = pad_sequences(output_integer_sequences, maxlen=max_out_len, padding='post')\n",
    "\n",
    "print(f\"Number of rows in the dataset: {len(input_integer_sequences)}\")\n",
    "print(f\"encoder_input_sequences shape: {encoder_input_sequences.shape}\")\n",
    "print(f\"decoder_input_sequences shape: {decoder_input_sequences.shape}\")"
   ]
  },
  {
   "cell_type": "code",
   "execution_count": 28,
   "metadata": {},
   "outputs": [
    {
     "name": "stdout",
     "output_type": "stream",
     "text": [
      "decoder_output_sequences shape: (481, 18)\n",
      "decoder_targets shape: (481, 18, 214)\n"
     ]
    }
   ],
   "source": [
    "decoder_output_sequences = pad_sequences(output_integer_sequences, maxlen=max_out_len, padding='post')\n",
    "decoder_targets = to_categorical(decoder_output_sequences, num_classes=num_words_output)\n",
    "\n",
    "print(f\"decoder_output_sequences shape: {decoder_output_sequences.shape}\")\n",
    "print(f\"decoder_targets shape: {decoder_targets.shape}\")"
   ]
  },
  {
   "cell_type": "markdown",
   "metadata": {},
   "source": [
    "## Preparación de embeddings"
   ]
  },
  {
   "cell_type": "markdown",
   "metadata": {},
   "source": [
    "Como un paso previo es necesario ya tener descargados los embeddings de FastText. Se descomprime el archivo."
   ]
  },
  {
   "cell_type": "code",
   "execution_count": 29,
   "metadata": {},
   "outputs": [
    {
     "name": "stdout",
     "output_type": "stream",
     "text": [
      "The folder 'crawl-300d-2M.vec' already exists. Skipping extraction.\n"
     ]
    }
   ],
   "source": [
    "zip_file_path = 'crawl-300d-2M.vec.zip'\n",
    "extracted_folder = 'crawl-300d-2M.vec'\n",
    "\n",
    "if os.path.exists(extracted_folder):\n",
    "    print(f\"The folder '{extracted_folder}' already exists. Skipping extraction.\")\n",
    "else:\n",
    "    with zipfile.ZipFile(zip_file_path, 'r') as zip_ref:\n",
    "        zip_ref.extractall()\n",
    "    print(f\"Extracted '{zip_file_path}' to '{extracted_folder}'.\")"
   ]
  },
  {
   "cell_type": "code",
   "execution_count": 30,
   "metadata": {},
   "outputs": [],
   "source": [
    "import logging\n",
    "import os\n",
    "from pathlib import Path\n",
    "import pickle\n",
    "import numpy as np\n",
    "\n",
    "class WordsEmbeddings(object):\n",
    "    logger = logging.getLogger(__name__)\n",
    "\n",
    "    def __init__(self, embedding_dim, word_to_vec_path, pkl_path, word_max_size=60):\n",
    "        self.WORD_TO_VEC_MODEL_TXT_PATH = word_to_vec_path\n",
    "        self.PKL_PATH = pkl_path\n",
    "        self.N_FEATURES = embedding_dim\n",
    "        self.WORD_MAX_SIZE = word_max_size\n",
    "        self.default_embedding = np.zeros((self.N_FEATURES,), dtype=np.float32)  # Default for unknown words\n",
    "\n",
    "        # Load the embeddings\n",
    "        words_embedding_pkl = Path(self.PKL_PATH)\n",
    "        if not words_embedding_pkl.is_file():\n",
    "            words_embedding_txt = Path(self.WORD_TO_VEC_MODEL_TXT_PATH)\n",
    "            assert words_embedding_txt.is_file(), 'Words embedding file not available.'\n",
    "            embeddings = self.convert_model_to_pickle()\n",
    "        else:\n",
    "            embeddings = self.load_model_from_pickle()\n",
    "        \n",
    "        self.embeddings = embeddings\n",
    "        # Build the vocabulary hashmap\n",
    "        index = np.arange(self.embeddings.shape[0])\n",
    "        # Dictionary mapping words to their indices\n",
    "        self.word2idx = dict(zip(self.embeddings['word'], index))\n",
    "        self.idx2word = dict(zip(index, self.embeddings['word']))\n",
    "\n",
    "    def get_words_embeddings(self, words):\n",
    "        \"\"\"Get embeddings for a list of words. Returns the default embedding for unknown words.\"\"\"\n",
    "        words_idxs = self.words2idxs(words)\n",
    "        return self.embeddings[words_idxs]['embedding']\n",
    "\n",
    "    def words2idxs(self, words):\n",
    "        \"\"\"Convert a list of words to their corresponding indices.\"\"\"\n",
    "        return np.array([self.word2idx.get(word, -1) for word in words])\n",
    "\n",
    "    def idxs2words(self, idxs):\n",
    "        \"\"\"Convert a list of indices back to their corresponding words.\"\"\"\n",
    "        return np.array([self.idx2word.get(idx, '-1') for idx in idxs])\n",
    "\n",
    "    def load_model_from_pickle(self):\n",
    "        \"\"\"Load word embeddings from a pickle file.\"\"\"\n",
    "        self.logger.debug(f'Loading word embeddings from pickle: {self.PKL_PATH}')\n",
    "        \n",
    "        try:\n",
    "            with open(self.PKL_PATH, 'rb') as f_in:\n",
    "                embeddings = pickle.load(f_in)\n",
    "            self.logger.debug('Word embeddings loaded successfully.')\n",
    "            return embeddings\n",
    "        except Exception as e:\n",
    "            raise RuntimeError(f\"Failed to load embeddings from {self.PKL_PATH}: {str(e)}\")\n",
    "\n",
    "    def convert_model_to_pickle(self):\n",
    "        \"\"\"Convert the word embeddings from the text format to a pickle file.\"\"\"\n",
    "        self.logger.debug(f'Converting and loading embeddings from text file: {self.WORD_TO_VEC_MODEL_TXT_PATH}')\n",
    "        structure = [('word', np.dtype('U' + str(self.WORD_MAX_SIZE))), ('embedding', np.float32, (self.N_FEATURES,))]\n",
    "        structure = np.dtype(structure)\n",
    "\n",
    "        # Load embeddings from the text file\n",
    "        with open(self.WORD_TO_VEC_MODEL_TXT_PATH, encoding=\"utf8\") as words_embeddings_txt:\n",
    "            embeddings_gen = (\n",
    "                (line.split()[0], line.split()[1:]) \n",
    "                for line in words_embeddings_txt\n",
    "                if len(line.split()[1:]) == self.N_FEATURES\n",
    "            )\n",
    "            embeddings = np.fromiter(embeddings_gen, structure, count=-1)\n",
    "\n",
    "        # Add a null embedding\n",
    "        null_embedding = np.array(\n",
    "            [('null_embedding', np.zeros((self.N_FEATURES,), dtype=np.float32))], \n",
    "            dtype=structure\n",
    "        )\n",
    "        embeddings = np.concatenate([embeddings, null_embedding])\n",
    "\n",
    "        try:\n",
    "            with open(self.PKL_PATH, 'wb') as f_out:\n",
    "                pickle.dump(embeddings, f_out, protocol=pickle.HIGHEST_PROTOCOL)\n",
    "            self.logger.debug('Word embeddings loaded and converted to pickle successfully.')\n",
    "        except Exception as e:\n",
    "            raise RuntimeError(f\"Failed to save embeddings to {self.PKL_PATH}: {str(e)}\")\n",
    "\n",
    "        return embeddings\n",
    "\n",
    "\n",
    "class GloveEmbeddings(WordsEmbeddings):\n",
    "    def __init__(self):\n",
    "        super().__init__(\n",
    "            embedding_dim=50, \n",
    "            word_to_vec_path='glove.twitter.27B.50d.txt', \n",
    "            pkl_path='gloveembedding.pkl',\n",
    "            word_max_size=60\n",
    "        )\n",
    "\n",
    "\n",
    "class FasttextEmbeddings(WordsEmbeddings):\n",
    "    def __init__(self):\n",
    "        super().__init__(\n",
    "            embedding_dim=300, \n",
    "            word_to_vec_path='crawl-300d-2M.vec', \n",
    "            pkl_path='fasttext.pkl',\n",
    "            word_max_size=60\n",
    "        )\n"
   ]
  },
  {
   "cell_type": "markdown",
   "metadata": {},
   "source": [
    "Se inicializa la clase para utilizar los embeddings de FastText. De esta manera, se obtiene la matriz de embeddings para transformar los tokens en vectores."
   ]
  },
  {
   "cell_type": "code",
   "execution_count": 31,
   "metadata": {},
   "outputs": [],
   "source": [
    "fasttext_embeddings = FasttextEmbeddings()"
   ]
  },
  {
   "cell_type": "code",
   "execution_count": 33,
   "metadata": {},
   "outputs": [
    {
     "name": "stdout",
     "output_type": "stream",
     "text": [
      "Number of null word embeddings: 1\n",
      "Shape of the embedding matrix: (201, 300)\n",
      "Words not found in the embedding index: 0\n"
     ]
    }
   ],
   "source": [
    "embed_dim = fasttext_embeddings.N_FEATURES\n",
    "words_not_found = []\n",
    "\n",
    "nb_words = min(MAX_VOCAB_SIZE, len(word2idx_inputs))\n",
    "embedding_matrix = np.zeros((nb_words, embed_dim))\n",
    "\n",
    "for word, i in word2idx_inputs.items():\n",
    "    if i >= nb_words:\n",
    "        continue\n",
    "    embedding_vector = fasttext_embeddings.get_words_embeddings(word)[0]\n",
    "    if (embedding_vector is not None) and len(embedding_vector) > 0:\n",
    "        embedding_matrix[i] = embedding_vector\n",
    "    else:\n",
    "        # words not found in embedding index will be all-zeros.\n",
    "        words_not_found.append(word)\n",
    "        \n",
    "# Print statistics\n",
    "print(f\"Number of null word embeddings: {np.sum(np.sum(embedding_matrix**2, axis=1) == 0)}\")\n",
    "print(f\"Shape of the embedding matrix: {embedding_matrix.shape}\")\n",
    "print(f\"Words not found in the embedding index: {len(words_not_found)}\")"
   ]
  },
  {
   "cell_type": "markdown",
   "metadata": {},
   "source": [
    "## Entrenar el modelo"
   ]
  },
  {
   "cell_type": "code",
   "execution_count": 36,
   "metadata": {},
   "outputs": [
    {
     "data": {
      "text/html": [
       "<pre style=\"white-space:pre;overflow-x:auto;line-height:normal;font-family:Menlo,'DejaVu Sans Mono',consolas,'Courier New',monospace\"><span style=\"font-weight: bold\">Model: \"functional_1\"</span>\n",
       "</pre>\n"
      ],
      "text/plain": [
       "\u001b[1mModel: \"functional_1\"\u001b[0m\n"
      ]
     },
     "metadata": {},
     "output_type": "display_data"
    },
    {
     "data": {
      "text/html": [
       "<pre style=\"white-space:pre;overflow-x:auto;line-height:normal;font-family:Menlo,'DejaVu Sans Mono',consolas,'Courier New',monospace\">┏━━━━━━━━━━━━━━━━━━━━━┳━━━━━━━━━━━━━━━━━━━┳━━━━━━━━━━━━┳━━━━━━━━━━━━━━━━━━━┓\n",
       "┃<span style=\"font-weight: bold\"> Layer (type)        </span>┃<span style=\"font-weight: bold\"> Output Shape      </span>┃<span style=\"font-weight: bold\">    Param # </span>┃<span style=\"font-weight: bold\"> Connected to      </span>┃\n",
       "┡━━━━━━━━━━━━━━━━━━━━━╇━━━━━━━━━━━━━━━━━━━╇━━━━━━━━━━━━╇━━━━━━━━━━━━━━━━━━━┩\n",
       "│ input_layer_2       │ (<span style=\"color: #00d7ff; text-decoration-color: #00d7ff\">None</span>, <span style=\"color: #00af00; text-decoration-color: #00af00\">16</span>)        │          <span style=\"color: #00af00; text-decoration-color: #00af00\">0</span> │ -                 │\n",
       "│ (<span style=\"color: #0087ff; text-decoration-color: #0087ff\">InputLayer</span>)        │                   │            │                   │\n",
       "├─────────────────────┼───────────────────┼────────────┼───────────────────┤\n",
       "│ input_layer_3       │ (<span style=\"color: #00d7ff; text-decoration-color: #00d7ff\">None</span>, <span style=\"color: #00af00; text-decoration-color: #00af00\">18</span>)        │          <span style=\"color: #00af00; text-decoration-color: #00af00\">0</span> │ -                 │\n",
       "│ (<span style=\"color: #0087ff; text-decoration-color: #0087ff\">InputLayer</span>)        │                   │            │                   │\n",
       "├─────────────────────┼───────────────────┼────────────┼───────────────────┤\n",
       "│ embedding_2         │ (<span style=\"color: #00d7ff; text-decoration-color: #00d7ff\">None</span>, <span style=\"color: #00af00; text-decoration-color: #00af00\">16</span>, <span style=\"color: #00af00; text-decoration-color: #00af00\">300</span>)   │     <span style=\"color: #00af00; text-decoration-color: #00af00\">60,300</span> │ input_layer_2[<span style=\"color: #00af00; text-decoration-color: #00af00\">0</span>]… │\n",
       "│ (<span style=\"color: #0087ff; text-decoration-color: #0087ff\">Embedding</span>)         │                   │            │                   │\n",
       "├─────────────────────┼───────────────────┼────────────┼───────────────────┤\n",
       "│ embedding_3         │ (<span style=\"color: #00d7ff; text-decoration-color: #00d7ff\">None</span>, <span style=\"color: #00af00; text-decoration-color: #00af00\">18</span>, <span style=\"color: #00af00; text-decoration-color: #00af00\">128</span>)   │     <span style=\"color: #00af00; text-decoration-color: #00af00\">27,392</span> │ input_layer_3[<span style=\"color: #00af00; text-decoration-color: #00af00\">0</span>]… │\n",
       "│ (<span style=\"color: #0087ff; text-decoration-color: #0087ff\">Embedding</span>)         │                   │            │                   │\n",
       "├─────────────────────┼───────────────────┼────────────┼───────────────────┤\n",
       "│ lstm_2 (<span style=\"color: #0087ff; text-decoration-color: #0087ff\">LSTM</span>)       │ [(<span style=\"color: #00d7ff; text-decoration-color: #00d7ff\">None</span>, <span style=\"color: #00af00; text-decoration-color: #00af00\">128</span>),     │    <span style=\"color: #00af00; text-decoration-color: #00af00\">219,648</span> │ embedding_2[<span style=\"color: #00af00; text-decoration-color: #00af00\">0</span>][<span style=\"color: #00af00; text-decoration-color: #00af00\">0</span>] │\n",
       "│                     │ (<span style=\"color: #00d7ff; text-decoration-color: #00d7ff\">None</span>, <span style=\"color: #00af00; text-decoration-color: #00af00\">128</span>),      │            │                   │\n",
       "│                     │ (<span style=\"color: #00d7ff; text-decoration-color: #00d7ff\">None</span>, <span style=\"color: #00af00; text-decoration-color: #00af00\">128</span>)]      │            │                   │\n",
       "├─────────────────────┼───────────────────┼────────────┼───────────────────┤\n",
       "│ lstm_3 (<span style=\"color: #0087ff; text-decoration-color: #0087ff\">LSTM</span>)       │ [(<span style=\"color: #00d7ff; text-decoration-color: #00d7ff\">None</span>, <span style=\"color: #00af00; text-decoration-color: #00af00\">18</span>, <span style=\"color: #00af00; text-decoration-color: #00af00\">128</span>), │    <span style=\"color: #00af00; text-decoration-color: #00af00\">131,584</span> │ embedding_3[<span style=\"color: #00af00; text-decoration-color: #00af00\">0</span>][<span style=\"color: #00af00; text-decoration-color: #00af00\">0</span>… │\n",
       "│                     │ (<span style=\"color: #00d7ff; text-decoration-color: #00d7ff\">None</span>, <span style=\"color: #00af00; text-decoration-color: #00af00\">128</span>),      │            │ lstm_2[<span style=\"color: #00af00; text-decoration-color: #00af00\">0</span>][<span style=\"color: #00af00; text-decoration-color: #00af00\">1</span>],     │\n",
       "│                     │ (<span style=\"color: #00d7ff; text-decoration-color: #00d7ff\">None</span>, <span style=\"color: #00af00; text-decoration-color: #00af00\">128</span>)]      │            │ lstm_2[<span style=\"color: #00af00; text-decoration-color: #00af00\">0</span>][<span style=\"color: #00af00; text-decoration-color: #00af00\">2</span>]      │\n",
       "├─────────────────────┼───────────────────┼────────────┼───────────────────┤\n",
       "│ dense_1 (<span style=\"color: #0087ff; text-decoration-color: #0087ff\">Dense</span>)     │ (<span style=\"color: #00d7ff; text-decoration-color: #00d7ff\">None</span>, <span style=\"color: #00af00; text-decoration-color: #00af00\">18</span>, <span style=\"color: #00af00; text-decoration-color: #00af00\">214</span>)   │     <span style=\"color: #00af00; text-decoration-color: #00af00\">27,606</span> │ lstm_3[<span style=\"color: #00af00; text-decoration-color: #00af00\">0</span>][<span style=\"color: #00af00; text-decoration-color: #00af00\">0</span>]      │\n",
       "└─────────────────────┴───────────────────┴────────────┴───────────────────┘\n",
       "</pre>\n"
      ],
      "text/plain": [
       "┏━━━━━━━━━━━━━━━━━━━━━┳━━━━━━━━━━━━━━━━━━━┳━━━━━━━━━━━━┳━━━━━━━━━━━━━━━━━━━┓\n",
       "┃\u001b[1m \u001b[0m\u001b[1mLayer (type)       \u001b[0m\u001b[1m \u001b[0m┃\u001b[1m \u001b[0m\u001b[1mOutput Shape     \u001b[0m\u001b[1m \u001b[0m┃\u001b[1m \u001b[0m\u001b[1m   Param #\u001b[0m\u001b[1m \u001b[0m┃\u001b[1m \u001b[0m\u001b[1mConnected to     \u001b[0m\u001b[1m \u001b[0m┃\n",
       "┡━━━━━━━━━━━━━━━━━━━━━╇━━━━━━━━━━━━━━━━━━━╇━━━━━━━━━━━━╇━━━━━━━━━━━━━━━━━━━┩\n",
       "│ input_layer_2       │ (\u001b[38;5;45mNone\u001b[0m, \u001b[38;5;34m16\u001b[0m)        │          \u001b[38;5;34m0\u001b[0m │ -                 │\n",
       "│ (\u001b[38;5;33mInputLayer\u001b[0m)        │                   │            │                   │\n",
       "├─────────────────────┼───────────────────┼────────────┼───────────────────┤\n",
       "│ input_layer_3       │ (\u001b[38;5;45mNone\u001b[0m, \u001b[38;5;34m18\u001b[0m)        │          \u001b[38;5;34m0\u001b[0m │ -                 │\n",
       "│ (\u001b[38;5;33mInputLayer\u001b[0m)        │                   │            │                   │\n",
       "├─────────────────────┼───────────────────┼────────────┼───────────────────┤\n",
       "│ embedding_2         │ (\u001b[38;5;45mNone\u001b[0m, \u001b[38;5;34m16\u001b[0m, \u001b[38;5;34m300\u001b[0m)   │     \u001b[38;5;34m60,300\u001b[0m │ input_layer_2[\u001b[38;5;34m0\u001b[0m]… │\n",
       "│ (\u001b[38;5;33mEmbedding\u001b[0m)         │                   │            │                   │\n",
       "├─────────────────────┼───────────────────┼────────────┼───────────────────┤\n",
       "│ embedding_3         │ (\u001b[38;5;45mNone\u001b[0m, \u001b[38;5;34m18\u001b[0m, \u001b[38;5;34m128\u001b[0m)   │     \u001b[38;5;34m27,392\u001b[0m │ input_layer_3[\u001b[38;5;34m0\u001b[0m]… │\n",
       "│ (\u001b[38;5;33mEmbedding\u001b[0m)         │                   │            │                   │\n",
       "├─────────────────────┼───────────────────┼────────────┼───────────────────┤\n",
       "│ lstm_2 (\u001b[38;5;33mLSTM\u001b[0m)       │ [(\u001b[38;5;45mNone\u001b[0m, \u001b[38;5;34m128\u001b[0m),     │    \u001b[38;5;34m219,648\u001b[0m │ embedding_2[\u001b[38;5;34m0\u001b[0m][\u001b[38;5;34m0\u001b[0m] │\n",
       "│                     │ (\u001b[38;5;45mNone\u001b[0m, \u001b[38;5;34m128\u001b[0m),      │            │                   │\n",
       "│                     │ (\u001b[38;5;45mNone\u001b[0m, \u001b[38;5;34m128\u001b[0m)]      │            │                   │\n",
       "├─────────────────────┼───────────────────┼────────────┼───────────────────┤\n",
       "│ lstm_3 (\u001b[38;5;33mLSTM\u001b[0m)       │ [(\u001b[38;5;45mNone\u001b[0m, \u001b[38;5;34m18\u001b[0m, \u001b[38;5;34m128\u001b[0m), │    \u001b[38;5;34m131,584\u001b[0m │ embedding_3[\u001b[38;5;34m0\u001b[0m][\u001b[38;5;34m0\u001b[0m… │\n",
       "│                     │ (\u001b[38;5;45mNone\u001b[0m, \u001b[38;5;34m128\u001b[0m),      │            │ lstm_2[\u001b[38;5;34m0\u001b[0m][\u001b[38;5;34m1\u001b[0m],     │\n",
       "│                     │ (\u001b[38;5;45mNone\u001b[0m, \u001b[38;5;34m128\u001b[0m)]      │            │ lstm_2[\u001b[38;5;34m0\u001b[0m][\u001b[38;5;34m2\u001b[0m]      │\n",
       "├─────────────────────┼───────────────────┼────────────┼───────────────────┤\n",
       "│ dense_1 (\u001b[38;5;33mDense\u001b[0m)     │ (\u001b[38;5;45mNone\u001b[0m, \u001b[38;5;34m18\u001b[0m, \u001b[38;5;34m214\u001b[0m)   │     \u001b[38;5;34m27,606\u001b[0m │ lstm_3[\u001b[38;5;34m0\u001b[0m][\u001b[38;5;34m0\u001b[0m]      │\n",
       "└─────────────────────┴───────────────────┴────────────┴───────────────────┘\n"
      ]
     },
     "metadata": {},
     "output_type": "display_data"
    },
    {
     "data": {
      "text/html": [
       "<pre style=\"white-space:pre;overflow-x:auto;line-height:normal;font-family:Menlo,'DejaVu Sans Mono',consolas,'Courier New',monospace\"><span style=\"font-weight: bold\"> Total params: </span><span style=\"color: #00af00; text-decoration-color: #00af00\">466,530</span> (1.78 MB)\n",
       "</pre>\n"
      ],
      "text/plain": [
       "\u001b[1m Total params: \u001b[0m\u001b[38;5;34m466,530\u001b[0m (1.78 MB)\n"
      ]
     },
     "metadata": {},
     "output_type": "display_data"
    },
    {
     "data": {
      "text/html": [
       "<pre style=\"white-space:pre;overflow-x:auto;line-height:normal;font-family:Menlo,'DejaVu Sans Mono',consolas,'Courier New',monospace\"><span style=\"font-weight: bold\"> Trainable params: </span><span style=\"color: #00af00; text-decoration-color: #00af00\">406,230</span> (1.55 MB)\n",
       "</pre>\n"
      ],
      "text/plain": [
       "\u001b[1m Trainable params: \u001b[0m\u001b[38;5;34m406,230\u001b[0m (1.55 MB)\n"
      ]
     },
     "metadata": {},
     "output_type": "display_data"
    },
    {
     "data": {
      "text/html": [
       "<pre style=\"white-space:pre;overflow-x:auto;line-height:normal;font-family:Menlo,'DejaVu Sans Mono',consolas,'Courier New',monospace\"><span style=\"font-weight: bold\"> Non-trainable params: </span><span style=\"color: #00af00; text-decoration-color: #00af00\">60,300</span> (235.55 KB)\n",
       "</pre>\n"
      ],
      "text/plain": [
       "\u001b[1m Non-trainable params: \u001b[0m\u001b[38;5;34m60,300\u001b[0m (235.55 KB)\n"
      ]
     },
     "metadata": {},
     "output_type": "display_data"
    }
   ],
   "source": [
    "n_units = 128\n",
    "\n",
    "# define training encoder\n",
    "encoder_inputs = Input(shape=(max_input_len,))\n",
    "\n",
    "encoder_embedding_layer = Embedding(\n",
    "          input_dim=nb_words,  \n",
    "          output_dim=embed_dim,  \n",
    "          input_length=max_input_len, \n",
    "          weights=[embedding_matrix],  \n",
    "          trainable=False\n",
    "        )      \n",
    "\n",
    "encoder_inputs_x = encoder_embedding_layer(encoder_inputs)\n",
    "\n",
    "encoder = LSTM(n_units, return_state=True, dropout=0.2, kernel_regularizer=l2(0.001))\n",
    "encoder_outputs, state_h, state_c = encoder(encoder_inputs_x)\n",
    "encoder_states = [state_h, state_c]\n",
    "\n",
    "# define training decoder\n",
    "decoder_inputs = Input(shape=(max_out_len,))\n",
    "decoder_embedding_layer = Embedding(input_dim=num_words_output, output_dim=n_units, input_length=max_out_len)\n",
    "decoder_inputs_x = decoder_embedding_layer(decoder_inputs)\n",
    "\n",
    "decoder_lstm = LSTM(n_units, return_sequences=True, return_state=True, dropout=0.2, kernel_regularizer=l2(0.001))\n",
    "decoder_outputs, _, _ = decoder_lstm(decoder_inputs_x, initial_state=encoder_states)\n",
    "\n",
    "# Dense\n",
    "decoder_dense = Dense(num_words_output, activation='softmax', kernel_regularizer=l2(0.001))\n",
    "decoder_outputs = decoder_dense(decoder_outputs)\n",
    "model = Model([encoder_inputs, decoder_inputs], decoder_outputs)\n",
    "\n",
    "optimizer = tf.keras.optimizers.Adam(learning_rate=0.001)\n",
    "\n",
    "model.compile(loss='categorical_crossentropy', optimizer=optimizer, metrics=['categorical_accuracy'])\n",
    "model.summary()"
   ]
  },
  {
   "cell_type": "code",
   "execution_count": 39,
   "metadata": {},
   "outputs": [],
   "source": [
    "encoder_model = Model(encoder_inputs, encoder_states)"
   ]
  },
  {
   "cell_type": "code",
   "execution_count": 40,
   "metadata": {},
   "outputs": [],
   "source": [
    "# Define the decoder's state inputs (from the encoder)\n",
    "decoder_state_input_h = Input(shape=(n_units,))\n",
    "decoder_state_input_c = Input(shape=(n_units,))\n",
    "decoder_states_inputs = [decoder_state_input_h, decoder_state_input_c]\n",
    "\n",
    "# The decoder will receive one word at a time during inference\n",
    "decoder_inputs_single = Input(shape=(1,))\n",
    "\n",
    "# Use the same embedding layer defined during training\n",
    "decoder_inputs_single_x = decoder_embedding_layer(decoder_inputs_single)\n",
    "\n",
    "# LSTM for one time step with the previous states (initial states from the encoder)\n",
    "decoder_outputs, state_h, state_c = decoder_lstm(decoder_inputs_single_x, initial_state=decoder_states_inputs)\n",
    "\n",
    "# Updated states will be passed to the next time step\n",
    "decoder_states = [state_h, state_c]\n",
    "\n",
    "# Dense layer for generating probabilities over the output vocabulary\n",
    "decoder_outputs = decoder_dense(decoder_outputs)\n",
    "\n",
    "# Define the decoder inference model\n",
    "decoder_model = Model(\n",
    "    [decoder_inputs_single] + decoder_states_inputs,\n",
    "    [decoder_outputs] + decoder_states\n",
    ")"
   ]
  },
  {
   "cell_type": "code",
   "execution_count": 41,
   "metadata": {},
   "outputs": [
    {
     "name": "stdout",
     "output_type": "stream",
     "text": [
      "Epoch 1/40\n",
      "\u001b[1m1/6\u001b[0m \u001b[32m━━━\u001b[0m\u001b[37m━━━━━━━━━━━━━━━━━\u001b[0m \u001b[1m10s\u001b[0m 2s/step - categorical_accuracy: 0.0191 - loss: 6.0908"
     ]
    },
    {
     "name": "stderr",
     "output_type": "stream",
     "text": [
      "2024-10-18 12:40:14.768540: I external/local_xla/xla/stream_executor/cuda/cuda_dnn.cc:531] Loaded cuDNN version 8907\n"
     ]
    },
    {
     "name": "stdout",
     "output_type": "stream",
     "text": [
      "\u001b[1m5/6\u001b[0m \u001b[32m━━━━━━━━━━━━━━━━\u001b[0m\u001b[37m━━━━\u001b[0m \u001b[1m0s\u001b[0m 29ms/step - categorical_accuracy: 0.4811 - loss: 5.8899\n",
      "Epoch 1: val_loss improved from inf to 4.06486, saving model to qa_bot_best_model.keras\n",
      "\u001b[1m6/6\u001b[0m \u001b[32m━━━━━━━━━━━━━━━━━━━━\u001b[0m\u001b[37m\u001b[0m \u001b[1m3s\u001b[0m 103ms/step - categorical_accuracy: 0.5511 - loss: 5.7744 - val_categorical_accuracy: 0.8729 - val_loss: 4.0649\n",
      "Epoch 2/40\n",
      "\u001b[1m4/6\u001b[0m \u001b[32m━━━━━━━━━━━━━\u001b[0m\u001b[37m━━━━━━━\u001b[0m \u001b[1m0s\u001b[0m 21ms/step - categorical_accuracy: 0.8671 - loss: 3.6069\n",
      "Epoch 2: val_loss improved from 4.06486 to 1.53435, saving model to qa_bot_best_model.keras\n",
      "\u001b[1m6/6\u001b[0m \u001b[32m━━━━━━━━━━━━━━━━━━━━\u001b[0m\u001b[37m\u001b[0m \u001b[1m0s\u001b[0m 34ms/step - categorical_accuracy: 0.8665 - loss: 3.2673 - val_categorical_accuracy: 0.8729 - val_loss: 1.5343\n",
      "Epoch 3/40\n",
      "\u001b[1m4/6\u001b[0m \u001b[32m━━━━━━━━━━━━━\u001b[0m\u001b[37m━━━━━━━\u001b[0m \u001b[1m0s\u001b[0m 22ms/step - categorical_accuracy: 0.8687 - loss: 1.4690\n",
      "Epoch 3: val_loss improved from 1.53435 to 1.24943, saving model to qa_bot_best_model.keras\n",
      "\u001b[1m6/6\u001b[0m \u001b[32m━━━━━━━━━━━━━━━━━━━━\u001b[0m\u001b[37m\u001b[0m \u001b[1m0s\u001b[0m 35ms/step - categorical_accuracy: 0.8678 - loss: 1.4339 - val_categorical_accuracy: 0.8729 - val_loss: 1.2494\n",
      "Epoch 4/40\n",
      "\u001b[1m5/6\u001b[0m \u001b[32m━━━━━━━━━━━━━━━━\u001b[0m\u001b[37m━━━━\u001b[0m \u001b[1m0s\u001b[0m 16ms/step - categorical_accuracy: 0.8668 - loss: 1.2730\n",
      "Epoch 4: val_loss improved from 1.24943 to 1.11241, saving model to qa_bot_best_model.keras\n",
      "\u001b[1m6/6\u001b[0m \u001b[32m━━━━━━━━━━━━━━━━━━━━\u001b[0m\u001b[37m\u001b[0m \u001b[1m0s\u001b[0m 30ms/step - categorical_accuracy: 0.8666 - loss: 1.2643 - val_categorical_accuracy: 0.8729 - val_loss: 1.1124\n",
      "Epoch 5/40\n",
      "\u001b[1m5/6\u001b[0m \u001b[32m━━━━━━━━━━━━━━━━\u001b[0m\u001b[37m━━━━\u001b[0m \u001b[1m0s\u001b[0m 16ms/step - categorical_accuracy: 0.8691 - loss: 1.1072\n",
      "Epoch 5: val_loss improved from 1.11241 to 0.99637, saving model to qa_bot_best_model.keras\n",
      "\u001b[1m6/6\u001b[0m \u001b[32m━━━━━━━━━━━━━━━━━━━━\u001b[0m\u001b[37m\u001b[0m \u001b[1m0s\u001b[0m 30ms/step - categorical_accuracy: 0.8683 - loss: 1.1032 - val_categorical_accuracy: 0.8734 - val_loss: 0.9964\n",
      "Epoch 6/40\n",
      "\u001b[1m4/6\u001b[0m \u001b[32m━━━━━━━━━━━━━\u001b[0m\u001b[37m━━━━━━━\u001b[0m \u001b[1m0s\u001b[0m 17ms/step - categorical_accuracy: 0.8687 - loss: 0.9990\n",
      "Epoch 6: val_loss improved from 0.99637 to 0.93406, saving model to qa_bot_best_model.keras\n",
      "\u001b[1m6/6\u001b[0m \u001b[32m━━━━━━━━━━━━━━━━━━━━\u001b[0m\u001b[37m\u001b[0m \u001b[1m0s\u001b[0m 30ms/step - categorical_accuracy: 0.8725 - loss: 0.9948 - val_categorical_accuracy: 0.9244 - val_loss: 0.9341\n",
      "Epoch 7/40\n",
      "\u001b[1m4/6\u001b[0m \u001b[32m━━━━━━━━━━━━━\u001b[0m\u001b[37m━━━━━━━\u001b[0m \u001b[1m0s\u001b[0m 18ms/step - categorical_accuracy: 0.9146 - loss: 0.9524\n",
      "Epoch 7: val_loss improved from 0.93406 to 0.88611, saving model to qa_bot_best_model.keras\n",
      "\u001b[1m6/6\u001b[0m \u001b[32m━━━━━━━━━━━━━━━━━━━━\u001b[0m\u001b[37m\u001b[0m \u001b[1m0s\u001b[0m 30ms/step - categorical_accuracy: 0.9160 - loss: 0.9440 - val_categorical_accuracy: 0.9278 - val_loss: 0.8861\n",
      "Epoch 8/40\n",
      "\u001b[1m4/6\u001b[0m \u001b[32m━━━━━━━━━━━━━\u001b[0m\u001b[37m━━━━━━━\u001b[0m \u001b[1m0s\u001b[0m 17ms/step - categorical_accuracy: 0.9231 - loss: 0.8820\n",
      "Epoch 8: val_loss improved from 0.88611 to 0.83161, saving model to qa_bot_best_model.keras\n",
      "\u001b[1m6/6\u001b[0m \u001b[32m━━━━━━━━━━━━━━━━━━━━\u001b[0m\u001b[37m\u001b[0m \u001b[1m0s\u001b[0m 31ms/step - categorical_accuracy: 0.9208 - loss: 0.8797 - val_categorical_accuracy: 0.9250 - val_loss: 0.8316\n",
      "Epoch 9/40\n",
      "\u001b[1m4/6\u001b[0m \u001b[32m━━━━━━━━━━━━━\u001b[0m\u001b[37m━━━━━━━\u001b[0m \u001b[1m0s\u001b[0m 18ms/step - categorical_accuracy: 0.9151 - loss: 0.8290\n",
      "Epoch 9: val_loss improved from 0.83161 to 0.79516, saving model to qa_bot_best_model.keras\n",
      "\u001b[1m6/6\u001b[0m \u001b[32m━━━━━━━━━━━━━━━━━━━━\u001b[0m\u001b[37m\u001b[0m \u001b[1m0s\u001b[0m 30ms/step - categorical_accuracy: 0.9149 - loss: 0.8280 - val_categorical_accuracy: 0.9238 - val_loss: 0.7952\n",
      "Epoch 10/40\n",
      "\u001b[1m5/6\u001b[0m \u001b[32m━━━━━━━━━━━━━━━━\u001b[0m\u001b[37m━━━━\u001b[0m \u001b[1m0s\u001b[0m 16ms/step - categorical_accuracy: 0.9144 - loss: 0.8025\n",
      "Epoch 10: val_loss improved from 0.79516 to 0.76242, saving model to qa_bot_best_model.keras\n",
      "\u001b[1m6/6\u001b[0m \u001b[32m━━━━━━━━━━━━━━━━━━━━\u001b[0m\u001b[37m\u001b[0m \u001b[1m0s\u001b[0m 30ms/step - categorical_accuracy: 0.9144 - loss: 0.7993 - val_categorical_accuracy: 0.9273 - val_loss: 0.7624\n",
      "Epoch 11/40\n",
      "\u001b[1m4/6\u001b[0m \u001b[32m━━━━━━━━━━━━━\u001b[0m\u001b[37m━━━━━━━\u001b[0m \u001b[1m0s\u001b[0m 17ms/step - categorical_accuracy: 0.9230 - loss: 0.7474\n",
      "Epoch 11: val_loss improved from 0.76242 to 0.73411, saving model to qa_bot_best_model.keras\n",
      "\u001b[1m6/6\u001b[0m \u001b[32m━━━━━━━━━━━━━━━━━━━━\u001b[0m\u001b[37m\u001b[0m \u001b[1m0s\u001b[0m 30ms/step - categorical_accuracy: 0.9221 - loss: 0.7513 - val_categorical_accuracy: 0.9278 - val_loss: 0.7341\n",
      "Epoch 12/40\n",
      "\u001b[1m4/6\u001b[0m \u001b[32m━━━━━━━━━━━━━\u001b[0m\u001b[37m━━━━━━━\u001b[0m \u001b[1m0s\u001b[0m 20ms/step - categorical_accuracy: 0.9196 - loss: 0.7447\n",
      "Epoch 12: val_loss improved from 0.73411 to 0.70911, saving model to qa_bot_best_model.keras\n",
      "\u001b[1m6/6\u001b[0m \u001b[32m━━━━━━━━━━━━━━━━━━━━\u001b[0m\u001b[37m\u001b[0m \u001b[1m0s\u001b[0m 34ms/step - categorical_accuracy: 0.9206 - loss: 0.7365 - val_categorical_accuracy: 0.9284 - val_loss: 0.7091\n",
      "Epoch 13/40\n",
      "\u001b[1m5/6\u001b[0m \u001b[32m━━━━━━━━━━━━━━━━\u001b[0m\u001b[37m━━━━\u001b[0m \u001b[1m0s\u001b[0m 16ms/step - categorical_accuracy: 0.9211 - loss: 0.7117\n",
      "Epoch 13: val_loss improved from 0.70911 to 0.68571, saving model to qa_bot_best_model.keras\n",
      "\u001b[1m6/6\u001b[0m \u001b[32m━━━━━━━━━━━━━━━━━━━━\u001b[0m\u001b[37m\u001b[0m \u001b[1m0s\u001b[0m 29ms/step - categorical_accuracy: 0.9213 - loss: 0.7088 - val_categorical_accuracy: 0.9284 - val_loss: 0.6857\n",
      "Epoch 14/40\n",
      "\u001b[1m4/6\u001b[0m \u001b[32m━━━━━━━━━━━━━\u001b[0m\u001b[37m━━━━━━━\u001b[0m \u001b[1m0s\u001b[0m 17ms/step - categorical_accuracy: 0.9225 - loss: 0.6734\n",
      "Epoch 14: val_loss improved from 0.68571 to 0.66565, saving model to qa_bot_best_model.keras\n",
      "\u001b[1m6/6\u001b[0m \u001b[32m━━━━━━━━━━━━━━━━━━━━\u001b[0m\u001b[37m\u001b[0m \u001b[1m0s\u001b[0m 30ms/step - categorical_accuracy: 0.9221 - loss: 0.6758 - val_categorical_accuracy: 0.9284 - val_loss: 0.6656\n",
      "Epoch 15/40\n",
      "\u001b[1m4/6\u001b[0m \u001b[32m━━━━━━━━━━━━━\u001b[0m\u001b[37m━━━━━━━\u001b[0m \u001b[1m0s\u001b[0m 19ms/step - categorical_accuracy: 0.9251 - loss: 0.6521\n",
      "Epoch 15: val_loss improved from 0.66565 to 0.64687, saving model to qa_bot_best_model.keras\n",
      "\u001b[1m6/6\u001b[0m \u001b[32m━━━━━━━━━━━━━━━━━━━━\u001b[0m\u001b[37m\u001b[0m \u001b[1m0s\u001b[0m 33ms/step - categorical_accuracy: 0.9240 - loss: 0.6532 - val_categorical_accuracy: 0.9284 - val_loss: 0.6469\n",
      "Epoch 16/40\n",
      "\u001b[1m5/6\u001b[0m \u001b[32m━━━━━━━━━━━━━━━━\u001b[0m\u001b[37m━━━━\u001b[0m \u001b[1m0s\u001b[0m 17ms/step - categorical_accuracy: 0.9210 - loss: 0.6484\n",
      "Epoch 16: val_loss improved from 0.64687 to 0.63062, saving model to qa_bot_best_model.keras\n",
      "\u001b[1m6/6\u001b[0m \u001b[32m━━━━━━━━━━━━━━━━━━━━\u001b[0m\u001b[37m\u001b[0m \u001b[1m0s\u001b[0m 30ms/step - categorical_accuracy: 0.9212 - loss: 0.6451 - val_categorical_accuracy: 0.9284 - val_loss: 0.6306\n",
      "Epoch 17/40\n",
      "\u001b[1m4/6\u001b[0m \u001b[32m━━━━━━━━━━━━━\u001b[0m\u001b[37m━━━━━━━\u001b[0m \u001b[1m0s\u001b[0m 20ms/step - categorical_accuracy: 0.9232 - loss: 0.6101\n",
      "Epoch 17: val_loss improved from 0.63062 to 0.61441, saving model to qa_bot_best_model.keras\n",
      "\u001b[1m6/6\u001b[0m \u001b[32m━━━━━━━━━━━━━━━━━━━━\u001b[0m\u001b[37m\u001b[0m \u001b[1m0s\u001b[0m 33ms/step - categorical_accuracy: 0.9227 - loss: 0.6139 - val_categorical_accuracy: 0.9284 - val_loss: 0.6144\n",
      "Epoch 18/40\n",
      "\u001b[1m5/6\u001b[0m \u001b[32m━━━━━━━━━━━━━━━━\u001b[0m\u001b[37m━━━━\u001b[0m \u001b[1m0s\u001b[0m 16ms/step - categorical_accuracy: 0.9217 - loss: 0.6070\n",
      "Epoch 18: val_loss improved from 0.61441 to 0.59982, saving model to qa_bot_best_model.keras\n",
      "\u001b[1m6/6\u001b[0m \u001b[32m━━━━━━━━━━━━━━━━━━━━\u001b[0m\u001b[37m\u001b[0m \u001b[1m0s\u001b[0m 30ms/step - categorical_accuracy: 0.9217 - loss: 0.6056 - val_categorical_accuracy: 0.9284 - val_loss: 0.5998\n",
      "Epoch 19/40\n",
      "\u001b[1m5/6\u001b[0m \u001b[32m━━━━━━━━━━━━━━━━\u001b[0m\u001b[37m━━━━\u001b[0m \u001b[1m0s\u001b[0m 16ms/step - categorical_accuracy: 0.9203 - loss: 0.6067\n",
      "Epoch 19: val_loss improved from 0.59982 to 0.58651, saving model to qa_bot_best_model.keras\n",
      "\u001b[1m6/6\u001b[0m \u001b[32m━━━━━━━━━━━━━━━━━━━━\u001b[0m\u001b[37m\u001b[0m \u001b[1m0s\u001b[0m 29ms/step - categorical_accuracy: 0.9207 - loss: 0.6009 - val_categorical_accuracy: 0.9284 - val_loss: 0.5865\n",
      "Epoch 20/40\n",
      "\u001b[1m4/6\u001b[0m \u001b[32m━━━━━━━━━━━━━\u001b[0m\u001b[37m━━━━━━━\u001b[0m \u001b[1m0s\u001b[0m 17ms/step - categorical_accuracy: 0.9234 - loss: 0.5811\n",
      "Epoch 20: val_loss improved from 0.58651 to 0.57385, saving model to qa_bot_best_model.keras\n",
      "\u001b[1m6/6\u001b[0m \u001b[32m━━━━━━━━━━━━━━━━━━━━\u001b[0m\u001b[37m\u001b[0m \u001b[1m0s\u001b[0m 30ms/step - categorical_accuracy: 0.9228 - loss: 0.5772 - val_categorical_accuracy: 0.9284 - val_loss: 0.5738\n",
      "Epoch 21/40\n",
      "\u001b[1m4/6\u001b[0m \u001b[32m━━━━━━━━━━━━━\u001b[0m\u001b[37m━━━━━━━\u001b[0m \u001b[1m0s\u001b[0m 17ms/step - categorical_accuracy: 0.9220 - loss: 0.5591\n",
      "Epoch 21: val_loss improved from 0.57385 to 0.56209, saving model to qa_bot_best_model.keras\n",
      "\u001b[1m6/6\u001b[0m \u001b[32m━━━━━━━━━━━━━━━━━━━━\u001b[0m\u001b[37m\u001b[0m \u001b[1m0s\u001b[0m 30ms/step - categorical_accuracy: 0.9218 - loss: 0.5586 - val_categorical_accuracy: 0.9284 - val_loss: 0.5621\n",
      "Epoch 22/40\n",
      "\u001b[1m5/6\u001b[0m \u001b[32m━━━━━━━━━━━━━━━━\u001b[0m\u001b[37m━━━━\u001b[0m \u001b[1m0s\u001b[0m 16ms/step - categorical_accuracy: 0.9213 - loss: 0.5484\n",
      "Epoch 22: val_loss improved from 0.56209 to 0.55173, saving model to qa_bot_best_model.keras\n",
      "\u001b[1m6/6\u001b[0m \u001b[32m━━━━━━━━━━━━━━━━━━━━\u001b[0m\u001b[37m\u001b[0m \u001b[1m0s\u001b[0m 29ms/step - categorical_accuracy: 0.9214 - loss: 0.5476 - val_categorical_accuracy: 0.9284 - val_loss: 0.5517\n",
      "Epoch 23/40\n",
      "\u001b[1m5/6\u001b[0m \u001b[32m━━━━━━━━━━━━━━━━\u001b[0m\u001b[37m━━━━\u001b[0m \u001b[1m0s\u001b[0m 16ms/step - categorical_accuracy: 0.9193 - loss: 0.5444\n",
      "Epoch 23: val_loss improved from 0.55173 to 0.54074, saving model to qa_bot_best_model.keras\n",
      "\u001b[1m6/6\u001b[0m \u001b[32m━━━━━━━━━━━━━━━━━━━━\u001b[0m\u001b[37m\u001b[0m \u001b[1m0s\u001b[0m 30ms/step - categorical_accuracy: 0.9200 - loss: 0.5412 - val_categorical_accuracy: 0.9284 - val_loss: 0.5407\n",
      "Epoch 24/40\n",
      "\u001b[1m5/6\u001b[0m \u001b[32m━━━━━━━━━━━━━━━━\u001b[0m\u001b[37m━━━━\u001b[0m \u001b[1m0s\u001b[0m 16ms/step - categorical_accuracy: 0.9226 - loss: 0.5222\n",
      "Epoch 24: val_loss improved from 0.54074 to 0.53099, saving model to qa_bot_best_model.keras\n",
      "\u001b[1m6/6\u001b[0m \u001b[32m━━━━━━━━━━━━━━━━━━━━\u001b[0m\u001b[37m\u001b[0m \u001b[1m0s\u001b[0m 30ms/step - categorical_accuracy: 0.9223 - loss: 0.5220 - val_categorical_accuracy: 0.9284 - val_loss: 0.5310\n",
      "Epoch 25/40\n",
      "\u001b[1m5/6\u001b[0m \u001b[32m━━━━━━━━━━━━━━━━\u001b[0m\u001b[37m━━━━\u001b[0m \u001b[1m0s\u001b[0m 17ms/step - categorical_accuracy: 0.9162 - loss: 0.5394\n",
      "Epoch 25: val_loss improved from 0.53099 to 0.52222, saving model to qa_bot_best_model.keras\n",
      "\u001b[1m6/6\u001b[0m \u001b[32m━━━━━━━━━━━━━━━━━━━━\u001b[0m\u001b[37m\u001b[0m \u001b[1m0s\u001b[0m 30ms/step - categorical_accuracy: 0.9178 - loss: 0.5312 - val_categorical_accuracy: 0.9284 - val_loss: 0.5222\n",
      "Epoch 26/40\n",
      "\u001b[1m5/6\u001b[0m \u001b[32m━━━━━━━━━━━━━━━━\u001b[0m\u001b[37m━━━━\u001b[0m \u001b[1m0s\u001b[0m 16ms/step - categorical_accuracy: 0.9246 - loss: 0.4846\n",
      "Epoch 26: val_loss improved from 0.52222 to 0.51354, saving model to qa_bot_best_model.keras\n",
      "\u001b[1m6/6\u001b[0m \u001b[32m━━━━━━━━━━━━━━━━━━━━\u001b[0m\u001b[37m\u001b[0m \u001b[1m0s\u001b[0m 28ms/step - categorical_accuracy: 0.9238 - loss: 0.4891 - val_categorical_accuracy: 0.9324 - val_loss: 0.5135\n",
      "Epoch 27/40\n",
      "\u001b[1m5/6\u001b[0m \u001b[32m━━━━━━━━━━━━━━━━\u001b[0m\u001b[37m━━━━\u001b[0m \u001b[1m0s\u001b[0m 16ms/step - categorical_accuracy: 0.9271 - loss: 0.4813\n",
      "Epoch 27: val_loss improved from 0.51354 to 0.50522, saving model to qa_bot_best_model.keras\n",
      "\u001b[1m6/6\u001b[0m \u001b[32m━━━━━━━━━━━━━━━━━━━━\u001b[0m\u001b[37m\u001b[0m \u001b[1m0s\u001b[0m 29ms/step - categorical_accuracy: 0.9272 - loss: 0.4839 - val_categorical_accuracy: 0.9313 - val_loss: 0.5052\n",
      "Epoch 28/40\n",
      "\u001b[1m5/6\u001b[0m \u001b[32m━━━━━━━━━━━━━━━━\u001b[0m\u001b[37m━━━━\u001b[0m \u001b[1m0s\u001b[0m 16ms/step - categorical_accuracy: 0.9240 - loss: 0.4923\n",
      "Epoch 28: val_loss improved from 0.50522 to 0.49767, saving model to qa_bot_best_model.keras\n",
      "\u001b[1m6/6\u001b[0m \u001b[32m━━━━━━━━━━━━━━━━━━━━\u001b[0m\u001b[37m\u001b[0m \u001b[1m0s\u001b[0m 29ms/step - categorical_accuracy: 0.9241 - loss: 0.4891 - val_categorical_accuracy: 0.9330 - val_loss: 0.4977\n",
      "Epoch 29/40\n",
      "\u001b[1m4/6\u001b[0m \u001b[32m━━━━━━━━━━━━━\u001b[0m\u001b[37m━━━━━━━\u001b[0m \u001b[1m0s\u001b[0m 17ms/step - categorical_accuracy: 0.9302 - loss: 0.4720\n",
      "Epoch 29: val_loss improved from 0.49767 to 0.49141, saving model to qa_bot_best_model.keras\n",
      "\u001b[1m6/6\u001b[0m \u001b[32m━━━━━━━━━━━━━━━━━━━━\u001b[0m\u001b[37m\u001b[0m \u001b[1m0s\u001b[0m 30ms/step - categorical_accuracy: 0.9297 - loss: 0.4723 - val_categorical_accuracy: 0.9330 - val_loss: 0.4914\n",
      "Epoch 30/40\n",
      "\u001b[1m5/6\u001b[0m \u001b[32m━━━━━━━━━━━━━━━━\u001b[0m\u001b[37m━━━━\u001b[0m \u001b[1m0s\u001b[0m 15ms/step - categorical_accuracy: 0.9286 - loss: 0.4643\n",
      "Epoch 30: val_loss improved from 0.49141 to 0.48468, saving model to qa_bot_best_model.keras\n",
      "\u001b[1m6/6\u001b[0m \u001b[32m━━━━━━━━━━━━━━━━━━━━\u001b[0m\u001b[37m\u001b[0m \u001b[1m0s\u001b[0m 28ms/step - categorical_accuracy: 0.9286 - loss: 0.4642 - val_categorical_accuracy: 0.9330 - val_loss: 0.4847\n",
      "Epoch 31/40\n",
      "\u001b[1m5/6\u001b[0m \u001b[32m━━━━━━━━━━━━━━━━\u001b[0m\u001b[37m━━━━\u001b[0m \u001b[1m0s\u001b[0m 16ms/step - categorical_accuracy: 0.9290 - loss: 0.4563\n",
      "Epoch 31: val_loss improved from 0.48468 to 0.47874, saving model to qa_bot_best_model.keras\n",
      "\u001b[1m6/6\u001b[0m \u001b[32m━━━━━━━━━━━━━━━━━━━━\u001b[0m\u001b[37m\u001b[0m \u001b[1m0s\u001b[0m 29ms/step - categorical_accuracy: 0.9292 - loss: 0.4562 - val_categorical_accuracy: 0.9341 - val_loss: 0.4787\n",
      "Epoch 32/40\n",
      "\u001b[1m5/6\u001b[0m \u001b[32m━━━━━━━━━━━━━━━━\u001b[0m\u001b[37m━━━━\u001b[0m \u001b[1m0s\u001b[0m 15ms/step - categorical_accuracy: 0.9300 - loss: 0.4523\n",
      "Epoch 32: val_loss improved from 0.47874 to 0.47186, saving model to qa_bot_best_model.keras\n",
      "\u001b[1m6/6\u001b[0m \u001b[32m━━━━━━━━━━━━━━━━━━━━\u001b[0m\u001b[37m\u001b[0m \u001b[1m0s\u001b[0m 28ms/step - categorical_accuracy: 0.9303 - loss: 0.4511 - val_categorical_accuracy: 0.9341 - val_loss: 0.4719\n",
      "Epoch 33/40\n",
      "\u001b[1m5/6\u001b[0m \u001b[32m━━━━━━━━━━━━━━━━\u001b[0m\u001b[37m━━━━\u001b[0m \u001b[1m0s\u001b[0m 16ms/step - categorical_accuracy: 0.9309 - loss: 0.4388\n",
      "Epoch 33: val_loss improved from 0.47186 to 0.46690, saving model to qa_bot_best_model.keras\n",
      "\u001b[1m6/6\u001b[0m \u001b[32m━━━━━━━━━━━━━━━━━━━━\u001b[0m\u001b[37m\u001b[0m \u001b[1m0s\u001b[0m 29ms/step - categorical_accuracy: 0.9309 - loss: 0.4393 - val_categorical_accuracy: 0.9341 - val_loss: 0.4669\n",
      "Epoch 34/40\n",
      "\u001b[1m5/6\u001b[0m \u001b[32m━━━━━━━━━━━━━━━━\u001b[0m\u001b[37m━━━━\u001b[0m \u001b[1m0s\u001b[0m 16ms/step - categorical_accuracy: 0.9343 - loss: 0.4253\n",
      "Epoch 34: val_loss improved from 0.46690 to 0.46110, saving model to qa_bot_best_model.keras\n",
      "\u001b[1m6/6\u001b[0m \u001b[32m━━━━━━━━━━━━━━━━━━━━\u001b[0m\u001b[37m\u001b[0m \u001b[1m0s\u001b[0m 30ms/step - categorical_accuracy: 0.9337 - loss: 0.4275 - val_categorical_accuracy: 0.9347 - val_loss: 0.4611\n",
      "Epoch 35/40\n",
      "\u001b[1m4/6\u001b[0m \u001b[32m━━━━━━━━━━━━━\u001b[0m\u001b[37m━━━━━━━\u001b[0m \u001b[1m0s\u001b[0m 17ms/step - categorical_accuracy: 0.9274 - loss: 0.4521\n",
      "Epoch 35: val_loss improved from 0.46110 to 0.45594, saving model to qa_bot_best_model.keras\n",
      "\u001b[1m6/6\u001b[0m \u001b[32m━━━━━━━━━━━━━━━━━━━━\u001b[0m\u001b[37m\u001b[0m \u001b[1m0s\u001b[0m 29ms/step - categorical_accuracy: 0.9298 - loss: 0.4410 - val_categorical_accuracy: 0.9347 - val_loss: 0.4559\n",
      "Epoch 36/40\n",
      "\u001b[1m5/6\u001b[0m \u001b[32m━━━━━━━━━━━━━━━━\u001b[0m\u001b[37m━━━━\u001b[0m \u001b[1m0s\u001b[0m 16ms/step - categorical_accuracy: 0.9349 - loss: 0.4082\n",
      "Epoch 36: val_loss improved from 0.45594 to 0.45085, saving model to qa_bot_best_model.keras\n",
      "\u001b[1m6/6\u001b[0m \u001b[32m━━━━━━━━━━━━━━━━━━━━\u001b[0m\u001b[37m\u001b[0m \u001b[1m0s\u001b[0m 28ms/step - categorical_accuracy: 0.9343 - loss: 0.4114 - val_categorical_accuracy: 0.9347 - val_loss: 0.4509\n",
      "Epoch 37/40\n",
      "\u001b[1m4/6\u001b[0m \u001b[32m━━━━━━━━━━━━━\u001b[0m\u001b[37m━━━━━━━\u001b[0m \u001b[1m0s\u001b[0m 17ms/step - categorical_accuracy: 0.9339 - loss: 0.4106\n",
      "Epoch 37: val_loss improved from 0.45085 to 0.44639, saving model to qa_bot_best_model.keras\n",
      "\u001b[1m6/6\u001b[0m \u001b[32m━━━━━━━━━━━━━━━━━━━━\u001b[0m\u001b[37m\u001b[0m \u001b[1m0s\u001b[0m 30ms/step - categorical_accuracy: 0.9336 - loss: 0.4115 - val_categorical_accuracy: 0.9347 - val_loss: 0.4464\n",
      "Epoch 38/40\n",
      "\u001b[1m5/6\u001b[0m \u001b[32m━━━━━━━━━━━━━━━━\u001b[0m\u001b[37m━━━━\u001b[0m \u001b[1m0s\u001b[0m 16ms/step - categorical_accuracy: 0.9293 - loss: 0.4221\n",
      "Epoch 38: val_loss improved from 0.44639 to 0.44209, saving model to qa_bot_best_model.keras\n",
      "\u001b[1m6/6\u001b[0m \u001b[32m━━━━━━━━━━━━━━━━━━━━\u001b[0m\u001b[37m\u001b[0m \u001b[1m0s\u001b[0m 29ms/step - categorical_accuracy: 0.9304 - loss: 0.4180 - val_categorical_accuracy: 0.9347 - val_loss: 0.4421\n",
      "Epoch 39/40\n",
      "\u001b[1m4/6\u001b[0m \u001b[32m━━━━━━━━━━━━━\u001b[0m\u001b[37m━━━━━━━\u001b[0m \u001b[1m0s\u001b[0m 19ms/step - categorical_accuracy: 0.9375 - loss: 0.3902\n",
      "Epoch 39: val_loss improved from 0.44209 to 0.43825, saving model to qa_bot_best_model.keras\n",
      "\u001b[1m6/6\u001b[0m \u001b[32m━━━━━━━━━━━━━━━━━━━━\u001b[0m\u001b[37m\u001b[0m \u001b[1m0s\u001b[0m 32ms/step - categorical_accuracy: 0.9359 - loss: 0.3955 - val_categorical_accuracy: 0.9347 - val_loss: 0.4383\n",
      "Epoch 40/40\n",
      "\u001b[1m4/6\u001b[0m \u001b[32m━━━━━━━━━━━━━\u001b[0m\u001b[37m━━━━━━━\u001b[0m \u001b[1m0s\u001b[0m 18ms/step - categorical_accuracy: 0.9323 - loss: 0.3998\n",
      "Epoch 40: val_loss improved from 0.43825 to 0.43437, saving model to qa_bot_best_model.keras\n",
      "\u001b[1m6/6\u001b[0m \u001b[32m━━━━━━━━━━━━━━━━━━━━\u001b[0m\u001b[37m\u001b[0m \u001b[1m0s\u001b[0m 30ms/step - categorical_accuracy: 0.9329 - loss: 0.3983 - val_categorical_accuracy: 0.9347 - val_loss: 0.4344\n"
     ]
    }
   ],
   "source": [
    "from keras.callbacks import EarlyStopping, ModelCheckpoint\n",
    "import matplotlib.pyplot as plt\n",
    "\n",
    "# Early stopping to stop training if validation loss does not improve after 3 epochs\n",
    "early_stopping = EarlyStopping(monitor='val_loss', patience=3, verbose=1)\n",
    "\n",
    "# Model checkpoint to save the best model based on validation loss\n",
    "checkpoint = ModelCheckpoint('qa_bot_best_model.keras', monitor='val_loss', save_best_only=True, verbose=1)\n",
    "\n",
    "# Fit the model\n",
    "history = model.fit(\n",
    "    [encoder_input_sequences, decoder_input_sequences],\n",
    "    decoder_targets,\n",
    "    batch_size=64,\n",
    "    epochs=40,\n",
    "    validation_split=0.2,\n",
    "    callbacks=[early_stopping, checkpoint],\n",
    ")\n",
    "\n",
    "# Save the final model if needed (checkpoint will save the best one)\n",
    "model.save('qa_bot_final_model.keras')"
   ]
  },
  {
   "cell_type": "code",
   "execution_count": 42,
   "metadata": {},
   "outputs": [
    {
     "data": {
      "image/png": "[encoded data removed]",
      "text/plain": [
       "<Figure size 800x600 with 1 Axes>"
      ]
     },
     "metadata": {},
     "output_type": "display_data"
    },
    {
     "data": {
      "image/png": "[encoded data removed]",
      "text/plain": [
       "<Figure size 800x600 with 1 Axes>"
      ]
     },
     "metadata": {},
     "output_type": "display_data"
    }
   ],
   "source": [
    "# Plot training & validation loss values\n",
    "plt.figure(figsize=(8, 6))\n",
    "plt.plot(history.history['loss'], label='Training Loss')\n",
    "plt.plot(history.history['val_loss'], label='Validation Loss')\n",
    "plt.title('Model Loss')\n",
    "plt.ylabel('Loss')\n",
    "plt.xlabel('Epoch')\n",
    "plt.legend(loc='upper right')\n",
    "plt.grid()\n",
    "plt.show()\n",
    "\n",
    "# Plot training & validation accuracy values (optional if using accuracy as a metric)\n",
    "if 'categorical_accuracy' in history.history:\n",
    "    plt.figure(figsize=(8, 6))\n",
    "    plt.plot(history.history['categorical_accuracy'], label='Training Accuracy')\n",
    "    plt.plot(history.history['val_categorical_accuracy'], label='Validation Accuracy')\n",
    "    plt.title('Model Accuracy')\n",
    "    plt.ylabel('Accuracy')\n",
    "    plt.xlabel('Epoch')\n",
    "    plt.legend(loc='upper left')\n",
    "    plt.grid()\n",
    "    plt.show()"
   ]
  },
  {
   "cell_type": "markdown",
   "metadata": {},
   "source": [
    "## Inferencia"
   ]
  },
  {
   "cell_type": "code",
   "execution_count": 43,
   "metadata": {},
   "outputs": [],
   "source": [
    "idx2word_inputs = {v: k for k, v in word2idx_inputs.items()}\n",
    "idx2word_target = {v: k for k, v in word2idx_outputs.items()}"
   ]
  },
  {
   "cell_type": "code",
   "execution_count": 44,
   "metadata": {},
   "outputs": [],
   "source": [
    "def generate_answer(input_seq):\n",
    "    # Encode the input sequence to get the initial states (h, c) from the encoder\n",
    "    states_value = encoder_model.predict(input_seq)\n",
    "\n",
    "    # Initialize the decoder input sequence with the start token \"<sos>\"\n",
    "    target_seq = np.zeros((1, 1))\n",
    "    target_seq[0, 0] = word2idx_outputs['<sos>']\n",
    "\n",
    "    # The token representing the end of the sequence \"<eos>\"\n",
    "    eos = word2idx_outputs['<eos>']\n",
    "\n",
    "    output_sentence = []\n",
    "\n",
    "    for _ in range(max_out_len):\n",
    "        # Predict the next word in the sequence using the decoder\n",
    "        output_tokens, h, c = decoder_model.predict([target_seq] + states_value)\n",
    "        idx = np.argmax(output_tokens[0, 0, :])  # Greedy search to find the most probable word\n",
    "\n",
    "        # If the predicted index is the end-of-sentence token \"<eos>\", stop the loop\n",
    "        if eos == idx:\n",
    "            break\n",
    "\n",
    "        # Convert the predicted index to the corresponding word\n",
    "        word = ''\n",
    "        \n",
    "        if idx > 0:\n",
    "            word = idx2word_target[idx]\n",
    "            output_sentence.append(word)\n",
    "            \n",
    "        states_value = [h, c]  # Update the states\n",
    "        target_seq[0, 0] = idx  # Update the target sequence with the predicted index\n",
    "\n",
    "    return ' '.join(output_sentence)"
   ]
  },
  {
   "cell_type": "code",
   "execution_count": 46,
   "metadata": {},
   "outputs": [
    {
     "name": "stdout",
     "output_type": "stream",
     "text": [
      "\u001b[1m1/1\u001b[0m \u001b[32m━━━━━━━━━━━━━━━━━━━━\u001b[0m\u001b[37m\u001b[0m \u001b[1m0s\u001b[0m 13ms/step\n",
      "\u001b[1m1/1\u001b[0m \u001b[32m━━━━━━━━━━━━━━━━━━━━\u001b[0m\u001b[37m\u001b[0m \u001b[1m0s\u001b[0m 15ms/step\n",
      "\u001b[1m1/1\u001b[0m \u001b[32m━━━━━━━━━━━━━━━━━━━━\u001b[0m\u001b[37m\u001b[0m \u001b[1m0s\u001b[0m 15ms/step\n",
      "-\n",
      "Input: hi\n",
      "Response: hi\n"
     ]
    }
   ],
   "source": [
    "i = np.random.choice(len(input_sentences))\n",
    "input_seq = encoder_input_sequences[i:i+1]\n",
    "answer = generate_answer(input_seq)\n",
    "print('-')\n",
    "print('Input:', input_sentences[i])\n",
    "print('Response:', answer)"
   ]
  },
  {
   "cell_type": "code",
   "execution_count": 47,
   "metadata": {},
   "outputs": [
    {
     "name": "stdout",
     "output_type": "stream",
     "text": [
      "Input: My mother say hi.\n",
      "Representacion en vector de tokens de ids [1]\n",
      "Padding del vector: [[0 0 0 0 0 0 0 0 0 0 0 0 0 0 0 1]]\n",
      "Input: My mother say hi.\n",
      "\u001b[1m1/1\u001b[0m \u001b[32m━━━━━━━━━━━━━━━━━━━━\u001b[0m\u001b[37m\u001b[0m \u001b[1m0s\u001b[0m 13ms/step\n",
      "\u001b[1m1/1\u001b[0m \u001b[32m━━━━━━━━━━━━━━━━━━━━\u001b[0m\u001b[37m\u001b[0m \u001b[1m0s\u001b[0m 14ms/step\n",
      "\u001b[1m1/1\u001b[0m \u001b[32m━━━━━━━━━━━━━━━━━━━━\u001b[0m\u001b[37m\u001b[0m \u001b[1m0s\u001b[0m 14ms/step\n",
      "Response: hi\n"
     ]
    }
   ],
   "source": [
    "input_test = \"My mother say hi.\"\n",
    "print('Input:', input_test)\n",
    "integer_seq_test = input_tokenizer.texts_to_sequences([input_test])[0]\n",
    "print(\"Representacion en vector de tokens de ids\", integer_seq_test)\n",
    "encoder_sequence_test = pad_sequences([integer_seq_test], maxlen=max_input_len)\n",
    "print(\"Padding del vector:\", encoder_sequence_test)\n",
    "\n",
    "print('Input:', input_test)\n",
    "answer = generate_answer(encoder_sequence_test)\n",
    "print('Response:', answer)"
   ]
  },
  {
   "cell_type": "code",
   "execution_count": 48,
   "metadata": {},
   "outputs": [
    {
     "name": "stdout",
     "output_type": "stream",
     "text": [
      "\u001b[1m1/1\u001b[0m \u001b[32m━━━━━━━━━━━━━━━━━━━━\u001b[0m\u001b[37m\u001b[0m \u001b[1m0s\u001b[0m 16ms/step\n",
      "\u001b[1m1/1\u001b[0m \u001b[32m━━━━━━━━━━━━━━━━━━━━\u001b[0m\u001b[37m\u001b[0m \u001b[1m0s\u001b[0m 16ms/step\n",
      "\u001b[1m1/1\u001b[0m \u001b[32m━━━━━━━━━━━━━━━━━━━━\u001b[0m\u001b[37m\u001b[0m \u001b[1m0s\u001b[0m 14ms/step\n",
      "\u001b[1m1/1\u001b[0m \u001b[32m━━━━━━━━━━━━━━━━━━━━\u001b[0m\u001b[37m\u001b[0m \u001b[1m0s\u001b[0m 14ms/step\n",
      "\u001b[1m1/1\u001b[0m \u001b[32m━━━━━━━━━━━━━━━━━━━━\u001b[0m\u001b[37m\u001b[0m \u001b[1m0s\u001b[0m 15ms/step\n",
      "Generated Answer: i you you\n"
     ]
    }
   ],
   "source": [
    "input_test = \"Where are you from?\"\n",
    "input_test_cleaned = clean_text(input_test)  # Make sure to preprocess as during training\n",
    "int_seq_test = input_tokenizer.texts_to_sequences([input_test_cleaned])[0]\n",
    "encoder_input_test = pad_sequences([int_seq_test], maxlen=max_input_len)\n",
    "\n",
    "# Generate the answer\n",
    "answer = generate_answer(encoder_input_test)\n",
    "print(\"Generated Answer:\", answer)"
   ]
  },
  {
   "cell_type": "code",
   "execution_count": 50,
   "metadata": {},
   "outputs": [
    {
     "name": "stdout",
     "output_type": "stream",
     "text": [
      "\u001b[1m1/1\u001b[0m \u001b[32m━━━━━━━━━━━━━━━━━━━━\u001b[0m\u001b[37m\u001b[0m \u001b[1m0s\u001b[0m 14ms/step\n",
      "\u001b[1m1/1\u001b[0m \u001b[32m━━━━━━━━━━━━━━━━━━━━\u001b[0m\u001b[37m\u001b[0m \u001b[1m0s\u001b[0m 15ms/step\n",
      "\u001b[1m1/1\u001b[0m \u001b[32m━━━━━━━━━━━━━━━━━━━━\u001b[0m\u001b[37m\u001b[0m \u001b[1m0s\u001b[0m 15ms/step\n",
      "\u001b[1m1/1\u001b[0m \u001b[32m━━━━━━━━━━━━━━━━━━━━\u001b[0m\u001b[37m\u001b[0m \u001b[1m0s\u001b[0m 15ms/step\n",
      "\u001b[1m1/1\u001b[0m \u001b[32m━━━━━━━━━━━━━━━━━━━━\u001b[0m\u001b[37m\u001b[0m \u001b[1m0s\u001b[0m 15ms/step\n",
      "Generated Answer: i you you\n"
     ]
    }
   ],
   "source": [
    "input_test = \"Do you read?\"\n",
    "input_test_cleaned = clean_text(input_test)  # Make sure to preprocess as during training\n",
    "int_seq_test = input_tokenizer.texts_to_sequences([input_test_cleaned])[0]\n",
    "encoder_input_test = pad_sequences([int_seq_test], maxlen=max_input_len)\n",
    "\n",
    "# Generate the answer\n",
    "answer = generate_answer(encoder_input_test)\n",
    "print(\"Generated Answer:\", answer)"
   ]
  },
  {
   "cell_type": "code",
   "execution_count": 51,
   "metadata": {},
   "outputs": [
    {
     "name": "stdout",
     "output_type": "stream",
     "text": [
      "\u001b[1m1/1\u001b[0m \u001b[32m━━━━━━━━━━━━━━━━━━━━\u001b[0m\u001b[37m\u001b[0m \u001b[1m0s\u001b[0m 15ms/step\n",
      "\u001b[1m1/1\u001b[0m \u001b[32m━━━━━━━━━━━━━━━━━━━━\u001b[0m\u001b[37m\u001b[0m \u001b[1m0s\u001b[0m 15ms/step\n",
      "\u001b[1m1/1\u001b[0m \u001b[32m━━━━━━━━━━━━━━━━━━━━\u001b[0m\u001b[37m\u001b[0m \u001b[1m0s\u001b[0m 16ms/step\n",
      "Generated Answer: hi\n"
     ]
    }
   ],
   "source": [
    "input_test = \"Do you have any pet?\"\n",
    "input_test_cleaned = clean_text(input_test)  # Make sure to preprocess as during training\n",
    "int_seq_test = input_tokenizer.texts_to_sequences([input_test_cleaned])[0]\n",
    "encoder_input_test = pad_sequences([int_seq_test], maxlen=max_input_len)\n",
    "\n",
    "# Generate the answer\n",
    "answer = generate_answer(encoder_input_test)\n",
    "print(\"Generated Answer:\", answer)"
   ]
  },
  {
   "cell_type": "code",
   "execution_count": null,
   "metadata": {},
   "outputs": [],
   "source": []
  }
 ],
 "metadata": {
  "kernelspec": {
   "display_name": "venv",
   "language": "python",
   "name": "python3"
  },
  "language_info": {
   "codemirror_mode": {
    "name": "ipython",
    "version": 3
   },
   "file_extension": ".py",
   "mimetype": "text/x-python",
   "name": "python",
   "nbconvert_exporter": "python",
   "pygments_lexer": "ipython3",
   "version": "3.9.17"
  }
 },
 "nbformat": 4,
 "nbformat_minor": 2
}
